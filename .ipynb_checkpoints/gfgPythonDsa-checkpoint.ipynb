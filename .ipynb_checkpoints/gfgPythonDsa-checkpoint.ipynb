{
 "cells": [
  {
   "cell_type": "code",
   "execution_count": null,
   "id": "8bcefa05",
   "metadata": {},
   "outputs": [],
   "source": []
  },
  {
   "cell_type": "code",
   "execution_count": 34,
   "id": "bc5dce5b",
   "metadata": {},
   "outputs": [
    {
     "name": "stdout",
     "output_type": "stream",
     "text": [
      "1\n",
      "3\n",
      "3\n",
      "1 2 3\n",
      "2\n"
     ]
    }
   ],
   "source": [
    "from typing import List\n",
    "\n",
    "\n",
    "class Solution:\n",
    "    def totalCuts(self, N : int, K : int, A : List[int]) -> int:\n",
    "        # code here\n",
    "        count = 0\n",
    "        pSum = list()\n",
    "        pSum.append(A[0])\n",
    "        for i in range(1,N):\n",
    "            pSum.append(pSum[i-1]+A[i])\n",
    "        if pSum[1] >= K:\n",
    "            count = 1\n",
    "        for i in range(2,N):\n",
    "            if pSum[i]-pSum[i-2] >= K:\n",
    "                count += 1\n",
    "        return count\n",
    "\n",
    "    \n",
    "class IntArray:\n",
    "    def __init__(self) -> None:\n",
    "        pass\n",
    "    def Input(self,n):\n",
    "        arr=[int(i) for i in input().strip().split()]#array input\n",
    "        return arr\n",
    "    def Print(self,arr):\n",
    "        for i in arr:\n",
    "            print(i,end=\" \")\n",
    "        print()\n",
    "\n",
    "if __name__==\"__main__\":\n",
    "    t = int(input())\n",
    "    for _ in range(t):\n",
    "        \n",
    "        N = int(input())\n",
    "        \n",
    "        \n",
    "        K = int(input())\n",
    "        \n",
    "        \n",
    "        A=IntArray().Input(N)\n",
    "        \n",
    "        obj = Solution()\n",
    "        res = obj.totalCuts(N,K,A)\n",
    "        \n",
    "        print(res)\n",
    "        \n",
    "\n",
    "# } Driver Code Ends"
   ]
  },
  {
   "cell_type": "markdown",
   "id": "ee2f0062",
   "metadata": {},
   "source": [
    "TRAILING ZEROES IN FACTORIAL"
   ]
  },
  {
   "cell_type": "code",
   "execution_count": 69,
   "id": "83a24d40",
   "metadata": {},
   "outputs": [],
   "source": [
    "class Solution:\n",
    "    def naive(self, n):\n",
    "        fact, res = 1, 0\n",
    "        for i in range(2, n+1):\n",
    "            fact *= i\n",
    "        while not fact%10:\n",
    "            res += 1\n",
    "            fact //= 10\n",
    "        return res\n",
    "        \n",
    "    def better(self, n):\n",
    "        fact, res = 1, 0\n",
    "        two, five = 0, 0\n",
    "        for i in range(2, n+1):\n",
    "            while i % 5 == 0:\n",
    "                res += 1\n",
    "                i //= 5\n",
    "        return res\n",
    "    \n",
    "    def best(self, n):\n",
    "        res = 0\n",
    "        i = 5\n",
    "        while i <= n:\n",
    "            res += n // i\n",
    "            i *= 5\n",
    "        return res"
   ]
  },
  {
   "cell_type": "code",
   "execution_count": 71,
   "id": "e3765fa5",
   "metadata": {},
   "outputs": [
    {
     "name": "stdout",
     "output_type": "stream",
     "text": [
      "1 ->  24\n",
      "2 ->  24\n",
      "3 ->  24\n"
     ]
    }
   ],
   "source": [
    "s = Solution()\n",
    "n = 100\n",
    "print('1 -> ', s.naive(n))\n",
    "print('2 -> ', s.better(n))\n",
    "print('3 -> ', s.best(n))"
   ]
  },
  {
   "cell_type": "markdown",
   "id": "cc8b43c0",
   "metadata": {},
   "source": [
    "GCD & HCF"
   ]
  },
  {
   "cell_type": "code",
   "execution_count": 22,
   "id": "45c49cd5",
   "metadata": {},
   "outputs": [],
   "source": [
    "class GCD:\n",
    "    def naive(self, m, n):\n",
    "        # O(min(m, n)) -> divisor (decrement)\n",
    "        pass\n",
    "    \n",
    "    def euclid(self, m, n):\n",
    "        while m != n:\n",
    "            if m > n:\n",
    "                m = m - n\n",
    "            else:\n",
    "                n = n - m\n",
    "        return m\n",
    "    \n",
    "    def optimized(self, m, n):\n",
    "        if n == 0:\n",
    "            return m\n",
    "        return self.optimized(n, m%n)"
   ]
  },
  {
   "cell_type": "code",
   "execution_count": 23,
   "id": "5a7d6be0",
   "metadata": {},
   "outputs": [
    {
     "name": "stdout",
     "output_type": "stream",
     "text": [
      "2\n",
      "2\n"
     ]
    }
   ],
   "source": [
    "s = GCD()\n",
    "m, n = 4, 6\n",
    "print(s.euclid(m,n))\n",
    "print(s.optimized(m,n))"
   ]
  },
  {
   "cell_type": "markdown",
   "id": "173edebb",
   "metadata": {},
   "source": [
    "LCM"
   ]
  },
  {
   "cell_type": "code",
   "execution_count": 24,
   "id": "748d09dc",
   "metadata": {},
   "outputs": [],
   "source": [
    "class LCM:\n",
    "    def naive(self, m, n):\n",
    "        # O(m*n-max(m,n))\n",
    "        pass\n",
    "        \n",
    "    def optimized(self, m, n):\n",
    "        # (m*n) // gcd(m,n)\n",
    "        # O(log(min(m,n)))\n",
    "        pass"
   ]
  },
  {
   "cell_type": "code",
   "execution_count": null,
   "id": "b33108c3",
   "metadata": {},
   "outputs": [],
   "source": [
    "s = LCM()\n",
    "m, n = 4, 6\n",
    "# 2,8 -> 8\n",
    "# 3,7 -> 21\n",
    "# print(s.naive(m,n))\n",
    "# print(s.optimized(m,n))"
   ]
  },
  {
   "cell_type": "markdown",
   "id": "22969afd",
   "metadata": {},
   "source": [
    "isPRIME"
   ]
  },
  {
   "cell_type": "code",
   "execution_count": 28,
   "id": "33defbf8",
   "metadata": {},
   "outputs": [],
   "source": [
    "class isPRIME:\n",
    "    def better(self,n):\n",
    "        # loop until sqrt(n)\n",
    "        pass\n",
    "    \n",
    "    def best(self, n):\n",
    "        if n == 1:\n",
    "            return True\n",
    "        if n == 2 or n == 3:\n",
    "            return False\n",
    "        if n%2 == 0 or n%3 == 0:\n",
    "            return False\n",
    "        i = 5\n",
    "        while i*i <= n:\n",
    "            if n%i == 0 or n%(i+2) == 0:\n",
    "                return False\n",
    "            i += 6\n",
    "        return True"
   ]
  },
  {
   "cell_type": "code",
   "execution_count": 32,
   "id": "0a93e606",
   "metadata": {},
   "outputs": [
    {
     "name": "stdout",
     "output_type": "stream",
     "text": [
      "True\n"
     ]
    }
   ],
   "source": [
    "s = isPRIME()\n",
    "n = 14\n",
    "n = 53\n",
    "#print(s.better(n))\n",
    "print(s.best(n))"
   ]
  },
  {
   "cell_type": "markdown",
   "id": "97409378",
   "metadata": {},
   "source": [
    "PRIME FACTORIZATION"
   ]
  },
  {
   "cell_type": "code",
   "execution_count": 75,
   "id": "f0f6150d",
   "metadata": {},
   "outputs": [],
   "source": [
    "class pFactor:\n",
    "    def isPrime(self, n):\n",
    "        for i in range(2, n):\n",
    "            if n%i == 0:\n",
    "                return False\n",
    "        return True\n",
    "        \n",
    "    def naive(self, n):\n",
    "        lst = list()\n",
    "        i = 2\n",
    "        while n != 1:\n",
    "            while (not n%i) and self.isPrime(i):\n",
    "                n = n // i\n",
    "                lst.append(i)\n",
    "            i += 1\n",
    "        return lst"
   ]
  },
  {
   "cell_type": "code",
   "execution_count": 76,
   "id": "867198ea",
   "metadata": {},
   "outputs": [
    {
     "name": "stdout",
     "output_type": "stream",
     "text": [
      "[2, 2, 17]\n"
     ]
    }
   ],
   "source": [
    "s = pFactor()\n",
    "n = 68\n",
    "print(s.naive(n))"
   ]
  },
  {
   "cell_type": "markdown",
   "id": "6523fabc",
   "metadata": {},
   "source": [
    "DIVISORS"
   ]
  },
  {
   "cell_type": "code",
   "execution_count": 121,
   "id": "be0df945",
   "metadata": {},
   "outputs": [],
   "source": [
    "class Divisors:\n",
    "    def naive(self, n):\n",
    "        lst = list()\n",
    "        for i in range(1, n+1):\n",
    "            if n%i == 0:\n",
    "                lst.append(i)\n",
    "        return lst\n",
    "    \n",
    "    def efficient(self, n):\n",
    "        lst = list()\n",
    "        i = 1\n",
    "        while i*i < n:\n",
    "            if n%i == 0:\n",
    "                lst.append(i)\n",
    "            i += 1\n",
    "        while i >= 1:\n",
    "            if n%i == 0:\n",
    "                lst.append(int(n//i))\n",
    "            i -= 1\n",
    "        return lst"
   ]
  },
  {
   "cell_type": "code",
   "execution_count": 122,
   "id": "44a672bd",
   "metadata": {},
   "outputs": [
    {
     "name": "stdout",
     "output_type": "stream",
     "text": [
      "[1, 5, 25]\n",
      "[1, 5, 25]\n"
     ]
    }
   ],
   "source": [
    "s = Divisors()\n",
    "n = 25\n",
    "print(s.naive(n))\n",
    "print(s.efficient(n))"
   ]
  },
  {
   "cell_type": "markdown",
   "id": "4765d61e",
   "metadata": {},
   "source": [
    "SIEVE OF ERATOSTHENES"
   ]
  },
  {
   "cell_type": "code",
   "execution_count": null,
   "id": "dd344ff4",
   "metadata": {},
   "outputs": [],
   "source": [
    "class Divisors:\n",
    "    def naive(self, n):\n",
    "        # O(n)\n",
    "    \n",
    "    def efficient(self, n):\n",
    "        lst = list()\n",
    "        i = 1\n",
    "        while i*i < n:\n",
    "            if n%i == 0:\n",
    "                lst.append(i)\n",
    "            i += 1\n",
    "        while i >= 1:\n",
    "            if n%i == 0:\n",
    "                lst.append(int(n//i))\n",
    "            i -= 1\n",
    "        return lst"
   ]
  },
  {
   "cell_type": "markdown",
   "id": "8c3d250d",
   "metadata": {},
   "source": [
    "# LISTS"
   ]
  },
  {
   "cell_type": "code",
   "execution_count": 4,
   "id": "bf385f53",
   "metadata": {},
   "outputs": [
    {
     "name": "stdout",
     "output_type": "stream",
     "text": [
      "3\n"
     ]
    }
   ],
   "source": [
    "lst = [10, 20, 30, 40, 50, 60]\n",
    "print(lst.index(40, 3, 5))\n",
    "# print(lst.index(40, 3, 5))"
   ]
  },
  {
   "cell_type": "code",
   "execution_count": 9,
   "id": "72173f57",
   "metadata": {},
   "outputs": [
    {
     "data": {
      "text/plain": [
       "[20, 30, 40]"
      ]
     },
     "execution_count": 9,
     "metadata": {},
     "output_type": "execute_result"
    }
   ],
   "source": [
    "lst = [10, 20, 30, 40, 50, 60]\n",
    "del lst[4:]\n",
    "lst.remove(10)\n",
    "lst"
   ]
  },
  {
   "cell_type": "markdown",
   "id": "955c8f26",
   "metadata": {},
   "source": [
    "SETS VS LISTS"
   ]
  },
  {
   "cell_type": "markdown",
   "id": "81d6e3a3",
   "metadata": {},
   "source": [
    "https://lucasmagnum.medium.com/pythontip-list-vs-set-performance-experiments-dfbe4f72d47f"
   ]
  },
  {
   "cell_type": "markdown",
   "id": "cb2c7cdb",
   "metadata": {},
   "source": [
    "https://towardsdatascience.com/python-lists-vs-sets-39bd6b5745e1"
   ]
  },
  {
   "cell_type": "code",
   "execution_count": null,
   "id": "df5db078",
   "metadata": {},
   "outputs": [],
   "source": []
  },
  {
   "cell_type": "code",
   "execution_count": null,
   "id": "32de1910",
   "metadata": {},
   "outputs": [],
   "source": []
  },
  {
   "cell_type": "code",
   "execution_count": null,
   "id": "38405801",
   "metadata": {},
   "outputs": [],
   "source": []
  },
  {
   "cell_type": "code",
   "execution_count": null,
   "id": "40ef19c4",
   "metadata": {},
   "outputs": [],
   "source": []
  }
 ],
 "metadata": {
  "kernelspec": {
   "display_name": "Python 3 (ipykernel)",
   "language": "python",
   "name": "python3"
  },
  "language_info": {
   "codemirror_mode": {
    "name": "ipython",
    "version": 3
   },
   "file_extension": ".py",
   "mimetype": "text/x-python",
   "name": "python",
   "nbconvert_exporter": "python",
   "pygments_lexer": "ipython3",
   "version": "3.9.16"
  },
  "varInspector": {
   "cols": {
    "lenName": 16,
    "lenType": 16,
    "lenVar": 40
   },
   "kernels_config": {
    "python": {
     "delete_cmd_postfix": "",
     "delete_cmd_prefix": "del ",
     "library": "var_list.py",
     "varRefreshCmd": "print(var_dic_list())"
    },
    "r": {
     "delete_cmd_postfix": ") ",
     "delete_cmd_prefix": "rm(",
     "library": "var_list.r",
     "varRefreshCmd": "cat(var_dic_list()) "
    }
   },
   "types_to_exclude": [
    "module",
    "function",
    "builtin_function_or_method",
    "instance",
    "_Feature"
   ],
   "window_display": false
  }
 },
 "nbformat": 4,
 "nbformat_minor": 5
}
