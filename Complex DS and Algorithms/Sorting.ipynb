{
 "cells": [
  {
   "cell_type": "markdown",
   "id": "711e7944",
   "metadata": {},
   "source": [
    "## Selection Sort"
   ]
  },
  {
   "cell_type": "markdown",
   "id": "181b50a1",
   "metadata": {},
   "source": [
    "`STRIVER`"
   ]
  },
  {
   "cell_type": "code",
   "execution_count": 9,
   "id": "b0cfca08",
   "metadata": {},
   "outputs": [
    {
     "name": "stdout",
     "output_type": "stream",
     "text": [
      "[3, 9, 12, 23, 28, 37, 48, 65, 95]\n"
     ]
    }
   ],
   "source": [
    "# Select minimum element a swap it with current element\n",
    "\n",
    "arr = [23, 48, 37, 9, 28, 65, 95, 12, 3]\n",
    "minindex = arr[0]\n",
    "for i in range(len(arr)-1):      # last element automatically sorted\n",
    "    minindex = i\n",
    "    for j in range(i+1, len(arr)):\n",
    "        if arr[j] < arr[minindex]:\n",
    "            minindex = j\n",
    "    arr[minindex], arr[i] = arr[i], arr[minindex]\n",
    "print(arr)"
   ]
  },
  {
   "cell_type": "code",
   "execution_count": 8,
   "id": "e9ff0ee9",
   "metadata": {},
   "outputs": [],
   "source": [
    "# Best Case, Average Case, Worst Case : O(n^2)"
   ]
  },
  {
   "cell_type": "markdown",
   "id": "52169ade",
   "metadata": {},
   "source": [
    "## Bubble Sort"
   ]
  },
  {
   "cell_type": "markdown",
   "id": "e1dbf4b8",
   "metadata": {},
   "source": [
    "`STRIVER`"
   ]
  },
  {
   "cell_type": "code",
   "execution_count": 7,
   "id": "a5f2fc18",
   "metadata": {},
   "outputs": [
    {
     "name": "stdout",
     "output_type": "stream",
     "text": [
      "No swap done at 0 th loop\n",
      "[2, 3, 6, 7, 9]\n"
     ]
    }
   ],
   "source": [
    "arr = [23, 48, 37, 9, 28, 65, 95, 12, 3]\n",
    "arr2 = [2, 3, 6, 7, 9] \n",
    "\n",
    "a = arr2\n",
    "for i in range(len(a)-1):\n",
    "    noSwap = 1\n",
    "    for j in range(len(a)-i-1):\n",
    "        if a[j] > a[j+1]:\n",
    "            a[j], a[j+1] = a[j+1], a[j]\n",
    "            noSwap = 0\n",
    "    if noSwap == 1:\n",
    "        print('No swap done at', i, 'th loop')\n",
    "        break\n",
    "print(a)"
   ]
  },
  {
   "cell_type": "code",
   "execution_count": 9,
   "id": "f8ef84d3",
   "metadata": {},
   "outputs": [],
   "source": [
    "# Best Case : O(n)\n",
    "# Average Case & Worst Case : O(n^2)"
   ]
  },
  {
   "cell_type": "markdown",
   "id": "9f96eb88",
   "metadata": {},
   "source": [
    "## Insertion Sort"
   ]
  },
  {
   "cell_type": "markdown",
   "id": "a35f2e33",
   "metadata": {},
   "source": [
    "`STRIVER`"
   ]
  },
  {
   "cell_type": "code",
   "execution_count": 13,
   "id": "a589fc9c",
   "metadata": {},
   "outputs": [
    {
     "name": "stdout",
     "output_type": "stream",
     "text": [
      "[3, 9, 12, 23, 28, 37, 48, 65, 95]\n"
     ]
    }
   ],
   "source": [
    "arr = [23, 48, 37, 9, 28, 65, 95, 12, 3]\n",
    "\n",
    "for i in range(len(arr)-1):\n",
    "    j = i+1\n",
    "    while j > 0 and arr[j] < arr[j-1]:\n",
    "        arr[j], arr[j-1] = arr[j-1], arr[j]\n",
    "        j -= 1\n",
    "    \n",
    "print(arr)"
   ]
  },
  {
   "cell_type": "code",
   "execution_count": null,
   "id": "6b02e5de",
   "metadata": {},
   "outputs": [],
   "source": [
    "# Best Case : O(n)\n",
    "# Average Case :\n",
    "# Worst Case : O(n^2)"
   ]
  },
  {
   "cell_type": "markdown",
   "id": "77b5d826",
   "metadata": {},
   "source": [
    "`JOE`"
   ]
  },
  {
   "cell_type": "markdown",
   "id": "a20332b6",
   "metadata": {},
   "source": [
    "https://youtu.be/Nkw6Jg_Gi4w"
   ]
  },
  {
   "cell_type": "code",
   "execution_count": 10,
   "id": "79081f98",
   "metadata": {},
   "outputs": [],
   "source": [
    "# Ensure after every iteration element is in correct position\n",
    "# We assume that element 1, is in correct position and start with 2nd element.\n",
    "\n",
    "def Insertion_Sort(A):\n",
    "    for i in range(1, len(A)):\n",
    "        for j in range(i-1, 0, -1):\n",
    "            if A[j] > A[j+1]:\n",
    "                A[j], A[j+1] = A[j+1], A[j]\n",
    "            else:\n",
    "                break\n",
    "    print(A)"
   ]
  },
  {
   "cell_type": "code",
   "execution_count": 11,
   "id": "fec5ffcc",
   "metadata": {},
   "outputs": [],
   "source": [
    "def insertion_sort(A):\n",
    "    for i in range(1, len(A)):\n",
    "        j = i - 1\n",
    "        while A[j] > A[j+1] and j >= 0:\n",
    "            A[j], A[j+1] = A[j+1], A[j]\n",
    "            j -= 1\n",
    "    print(A)"
   ]
  },
  {
   "cell_type": "code",
   "execution_count": 12,
   "id": "8fd157de",
   "metadata": {},
   "outputs": [
    {
     "name": "stdout",
     "output_type": "stream",
     "text": [
      "[4, 2, 2, 3, 3, 5, 6, 7]\n",
      "[2, 2, 3, 3, 4, 5, 6, 7]\n"
     ]
    }
   ],
   "source": [
    "A = [4,3,6,2,7,5,3,2]\n",
    "\n",
    "Insertion_Sort(A)\n",
    "insertion_sort(A)"
   ]
  },
  {
   "cell_type": "code",
   "execution_count": null,
   "id": "a2bfa7b7",
   "metadata": {},
   "outputs": [],
   "source": []
  },
  {
   "cell_type": "markdown",
   "id": "e8c4bfc6",
   "metadata": {},
   "source": [
    "## Merge Sort"
   ]
  },
  {
   "cell_type": "markdown",
   "id": "fdfc5f73",
   "metadata": {},
   "source": [
    "`STRIVER`"
   ]
  },
  {
   "cell_type": "code",
   "execution_count": null,
   "id": "7347e3a5",
   "metadata": {},
   "outputs": [],
   "source": [
    "# EXPLANATION"
   ]
  },
  {
   "cell_type": "code",
   "execution_count": 21,
   "id": "ad5611c8",
   "metadata": {},
   "outputs": [],
   "source": [
    "def merge(arr, low, mid, high):\n",
    "    temp = list()\n",
    "    left = low\n",
    "    right = mid+1\n",
    "    while left <= mid and right <= high:\n",
    "        if arr[left] <= arr[right]:\n",
    "            temp.append(arr[left])\n",
    "            left += 1\n",
    "        else:\n",
    "            temp.append(arr[right])\n",
    "            right += 1\n",
    "            \n",
    "    while left <= mid:\n",
    "        temp.append(arr[left])\n",
    "        left += 1\n",
    "        \n",
    "    while right <= high:\n",
    "        temp.append(arr[right])\n",
    "        right += 1\n",
    "    \n",
    "    for i in range(low, high+1):\n",
    "        arr[i] = temp[i-low]\n",
    "        \n",
    "    \n",
    "def mergeSort(arr, low, high):\n",
    "    if low == high:\n",
    "        return\n",
    "    mid = (low+high)//2\n",
    "    # Divide & Sort\n",
    "    mergeSort(arr, low, mid)\n",
    "    mergeSort(arr, mid+1, high)\n",
    "    # Merge\n",
    "    merge(arr, low, mid, high)"
   ]
  },
  {
   "cell_type": "code",
   "execution_count": 22,
   "id": "d219d9d1",
   "metadata": {},
   "outputs": [
    {
     "name": "stdout",
     "output_type": "stream",
     "text": [
      "[3, 9, 12, 23, 28, 37, 48, 65, 95]\n"
     ]
    }
   ],
   "source": [
    "arr = [23, 48, 37, 9, 28, 65, 95, 12, 3]\n",
    "mergeSort(arr, 0, len(arr)-1)\n",
    "print(arr)"
   ]
  },
  {
   "cell_type": "code",
   "execution_count": null,
   "id": "f71b6626",
   "metadata": {},
   "outputs": [],
   "source": [
    "# Best, Average, Worst Case : nlog(n)  # logn for divide, n for merge"
   ]
  },
  {
   "cell_type": "markdown",
   "id": "fea42d89",
   "metadata": {},
   "source": [
    "## Quick Sort"
   ]
  },
  {
   "cell_type": "markdown",
   "id": "862384ce",
   "metadata": {},
   "source": [
    "`STRIVER`"
   ]
  },
  {
   "cell_type": "code",
   "execution_count": null,
   "id": "a280a853",
   "metadata": {},
   "outputs": [],
   "source": [
    "def f(arr, high, low):\n",
    "    pivot = low\n",
    "    i = low\n",
    "    j = high\n",
    "    while i < j:\n",
    "        while arr[i] <= arr[pivot] and i <= high:\n",
    "            i++\n",
    "        while arr[j] <= arr[pivot] and j >= low:\n",
    "            j--\n",
    "        if i < j:\n",
    "            arr[i], arr[j] = arr[j], arr[i]\n",
    "    # when i crosses j, place pivot at the correct position\n",
    "    arr[low], arr[j] = arr[j], arr[low]\n",
    "\n",
    "def quickSort(arr, high, low):\n",
    "    if low < high: \n",
    "        pivot = f(arr, low, high)\n",
    "        quickSort(arr, low, pivot-1)\n",
    "        quickSort(arr, pivot, high)"
   ]
  },
  {
   "cell_type": "code",
   "execution_count": null,
   "id": "2d427c1f",
   "metadata": {},
   "outputs": [],
   "source": []
  },
  {
   "cell_type": "markdown",
   "id": "37186d2e",
   "metadata": {},
   "source": [
    "#### QUESTIONS"
   ]
  },
  {
   "cell_type": "code",
   "execution_count": null,
   "id": "cb28e3bb",
   "metadata": {},
   "outputs": [],
   "source": []
  }
 ],
 "metadata": {
  "kernelspec": {
   "display_name": "Python 3 (ipykernel)",
   "language": "python",
   "name": "python3"
  },
  "language_info": {
   "codemirror_mode": {
    "name": "ipython",
    "version": 3
   },
   "file_extension": ".py",
   "mimetype": "text/x-python",
   "name": "python",
   "nbconvert_exporter": "python",
   "pygments_lexer": "ipython3",
   "version": "3.9.16"
  },
  "varInspector": {
   "cols": {
    "lenName": 16,
    "lenType": 16,
    "lenVar": 40
   },
   "kernels_config": {
    "python": {
     "delete_cmd_postfix": "",
     "delete_cmd_prefix": "del ",
     "library": "var_list.py",
     "varRefreshCmd": "print(var_dic_list())"
    },
    "r": {
     "delete_cmd_postfix": ") ",
     "delete_cmd_prefix": "rm(",
     "library": "var_list.r",
     "varRefreshCmd": "cat(var_dic_list()) "
    }
   },
   "types_to_exclude": [
    "module",
    "function",
    "builtin_function_or_method",
    "instance",
    "_Feature"
   ],
   "window_display": false
  }
 },
 "nbformat": 4,
 "nbformat_minor": 5
}
