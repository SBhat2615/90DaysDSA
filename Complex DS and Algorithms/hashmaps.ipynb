{
 "cells": [
  {
   "cell_type": "markdown",
   "id": "2f87b712",
   "metadata": {},
   "source": [
    "# Codebasics"
   ]
  },
  {
   "cell_type": "code",
   "execution_count": 19,
   "id": "9e49854a",
   "metadata": {},
   "outputs": [],
   "source": [
    "import csv\n",
    "\n",
    "with open('stock_prices.csv', 'w', newline='') as file:\n",
    "    writer = csv.writer(file)\n",
    "     \n",
    "    writer.writerow([\"march 6\", 310])\n",
    "    writer.writerow([\"march 7\", 340])\n",
    "    writer.writerow([\"march 8\", 380])\n",
    "    writer.writerow([\"march 9\", 302])\n",
    "    writer.writerow([\"march 10\", 297])\n",
    "    writer.writerow([\"march 11\", 323])"
   ]
  },
  {
   "cell_type": "code",
   "execution_count": 20,
   "id": "075e62aa",
   "metadata": {},
   "outputs": [],
   "source": [
    "!open stock_prices.csv"
   ]
  },
  {
   "cell_type": "markdown",
   "id": "bc1fa183",
   "metadata": {},
   "source": [
    "O(n) search using list"
   ]
  },
  {
   "cell_type": "code",
   "execution_count": 21,
   "id": "61ef1c92",
   "metadata": {},
   "outputs": [],
   "source": [
    "stock_prices = list()\n",
    "with open('stock_prices.csv') as f:\n",
    "    for line in f:\n",
    "        #print(line)\n",
    "        token = line.split(',')\n",
    "        day = token[0]\n",
    "        price = token[1][:-1]\n",
    "        stock_prices.append([day, price])"
   ]
  },
  {
   "cell_type": "code",
   "execution_count": 22,
   "id": "de918bc7",
   "metadata": {},
   "outputs": [
    {
     "name": "stdout",
     "output_type": "stream",
     "text": [
      "302\n"
     ]
    }
   ],
   "source": [
    "for element in stock_prices:\n",
    "    if element[0] == 'march 9':\n",
    "        print(element[1])"
   ]
  },
  {
   "cell_type": "markdown",
   "id": "e7fd31b2",
   "metadata": {},
   "source": [
    "O(1) search using dictionary"
   ]
  },
  {
   "cell_type": "code",
   "execution_count": 23,
   "id": "304eac54",
   "metadata": {},
   "outputs": [],
   "source": [
    "stock_prices = dict()\n",
    "with open('stock_prices.csv') as f:\n",
    "    for line in f:\n",
    "        token = line.split(',')\n",
    "        day = token[0]\n",
    "        price = token[1][:-1]\n",
    "        stock_prices[day] = int(price)"
   ]
  },
  {
   "cell_type": "code",
   "execution_count": 24,
   "id": "c6347e9f",
   "metadata": {},
   "outputs": [
    {
     "data": {
      "text/plain": [
       "{'march 6': 310,\n",
       " 'march 7': 340,\n",
       " 'march 8': 380,\n",
       " 'march 9': 302,\n",
       " 'march 10': 297,\n",
       " 'march 11': 323}"
      ]
     },
     "execution_count": 24,
     "metadata": {},
     "output_type": "execute_result"
    }
   ],
   "source": [
    "stock_prices"
   ]
  },
  {
   "cell_type": "code",
   "execution_count": 25,
   "id": "ce3d3aa8",
   "metadata": {},
   "outputs": [
    {
     "data": {
      "text/plain": [
       "302"
      ]
     },
     "execution_count": 25,
     "metadata": {},
     "output_type": "execute_result"
    }
   ],
   "source": [
    "stock_prices['march 9']"
   ]
  },
  {
   "cell_type": "markdown",
   "id": "26286cdc",
   "metadata": {},
   "source": [
    "#### IMPLEMENT HASHTABLE IN PYTHON"
   ]
  },
  {
   "cell_type": "code",
   "execution_count": 26,
   "id": "3474ca0f",
   "metadata": {},
   "outputs": [],
   "source": [
    "def get_hash(key):\n",
    "    h = 0\n",
    "    for char in key:\n",
    "        h += ord(char)\n",
    "    return h"
   ]
  },
  {
   "cell_type": "code",
   "execution_count": 27,
   "id": "0b2ecb6c",
   "metadata": {},
   "outputs": [
    {
     "data": {
      "text/plain": [
       "341"
      ]
     },
     "execution_count": 27,
     "metadata": {},
     "output_type": "execute_result"
    }
   ],
   "source": [
    "get_hash('sum')"
   ]
  },
  {
   "cell_type": "code",
   "execution_count": null,
   "id": "71b7028b",
   "metadata": {},
   "outputs": [],
   "source": []
  }
 ],
 "metadata": {
  "kernelspec": {
   "display_name": "Python 3.9 (tensorflow)",
   "language": "python",
   "name": "tensorflow"
  },
  "language_info": {
   "codemirror_mode": {
    "name": "ipython",
    "version": 3
   },
   "file_extension": ".py",
   "mimetype": "text/x-python",
   "name": "python",
   "nbconvert_exporter": "python",
   "pygments_lexer": "ipython3",
   "version": "3.9.10"
  }
 },
 "nbformat": 4,
 "nbformat_minor": 5
}
