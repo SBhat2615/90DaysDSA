{
 "cells": [
  {
   "cell_type": "markdown",
   "id": "2f87b712",
   "metadata": {},
   "source": [
    "# Codebasics"
   ]
  },
  {
   "cell_type": "code",
   "execution_count": 19,
   "id": "9e49854a",
   "metadata": {},
   "outputs": [],
   "source": [
    "import csv\n",
    "\n",
    "with open('stock_prices.csv', 'w', newline='') as file:\n",
    "    writer = csv.writer(file)\n",
    "     \n",
    "    writer.writerow([\"march 6\", 310])\n",
    "    writer.writerow([\"march 7\", 340])\n",
    "    writer.writerow([\"march 8\", 380])\n",
    "    writer.writerow([\"march 9\", 302])\n",
    "    writer.writerow([\"march 10\", 297])\n",
    "    writer.writerow([\"march 11\", 323])"
   ]
  },
  {
   "cell_type": "code",
   "execution_count": 20,
   "id": "a1a05fd3",
   "metadata": {},
   "outputs": [],
   "source": [
    "!open stock_prices.csv"
   ]
  },
  {
   "cell_type": "markdown",
   "id": "bc1fa183",
   "metadata": {},
   "source": [
    "O(n) search using list"
   ]
  },
  {
   "cell_type": "code",
   "execution_count": 21,
   "id": "61ef1c92",
   "metadata": {},
   "outputs": [],
   "source": [
    "stock_prices = list()\n",
    "with open('stock_prices.csv') as f:\n",
    "    for line in f:\n",
    "        #print(line)\n",
    "        token = line.split(',')\n",
    "        day = token[0]\n",
    "        price = token[1][:-1]\n",
    "        stock_prices.append([day, price])"
   ]
  },
  {
   "cell_type": "code",
   "execution_count": 22,
   "id": "de918bc7",
   "metadata": {},
   "outputs": [
    {
     "name": "stdout",
     "output_type": "stream",
     "text": [
      "302\n"
     ]
    }
   ],
   "source": [
    "for element in stock_prices:\n",
    "    if element[0] == 'march 9':\n",
    "        print(element[1])"
   ]
  },
  {
   "cell_type": "markdown",
   "id": "e7fd31b2",
   "metadata": {},
   "source": [
    "O(1) search using dictionary"
   ]
  },
  {
   "cell_type": "code",
   "execution_count": 23,
   "id": "304eac54",
   "metadata": {},
   "outputs": [],
   "source": [
    "stock_prices = dict()\n",
    "with open('stock_prices.csv') as f:\n",
    "    for line in f:\n",
    "        token = line.split(',')\n",
    "        day = token[0]\n",
    "        price = token[1][:-1]\n",
    "        stock_prices[day] = int(price)"
   ]
  },
  {
   "cell_type": "code",
   "execution_count": 24,
   "id": "a98e9e2e",
   "metadata": {},
   "outputs": [
    {
     "data": {
      "text/plain": [
       "{'march 6': 310,\n",
       " 'march 7': 340,\n",
       " 'march 8': 380,\n",
       " 'march 9': 302,\n",
       " 'march 10': 297,\n",
       " 'march 11': 323}"
      ]
     },
     "execution_count": 24,
     "metadata": {},
     "output_type": "execute_result"
    }
   ],
   "source": [
    "stock_prices"
   ]
  },
  {
   "cell_type": "code",
   "execution_count": 25,
   "id": "ce3d3aa8",
   "metadata": {},
   "outputs": [
    {
     "data": {
      "text/plain": [
       "302"
      ]
     },
     "execution_count": 25,
     "metadata": {},
     "output_type": "execute_result"
    }
   ],
   "source": [
    "stock_prices['march 9']"
   ]
  },
  {
   "cell_type": "markdown",
   "id": "337c18bb",
   "metadata": {},
   "source": [
    "### IMPLEMENT HASHTABLE IN PYTHON"
   ]
  },
  {
   "cell_type": "code",
   "execution_count": 47,
   "id": "174eb0c3",
   "metadata": {},
   "outputs": [],
   "source": [
    "# Internal Implementation of Python Dicitonary"
   ]
  },
  {
   "cell_type": "code",
   "execution_count": 61,
   "id": "3474ca0f",
   "metadata": {},
   "outputs": [],
   "source": [
    "class HashTable:\n",
    "    def __init__(self):\n",
    "        self.MAX = 10\n",
    "        self.arr = [None for i in range(self.MAX)]\n",
    "        \n",
    "    def get_hash(self, key):\n",
    "        h = 0\n",
    "        for char in key:\n",
    "            h += ord(char)\n",
    "        return h % self.MAX\n",
    "    \n",
    "    def __setitem__(self, key, value):\n",
    "        h = self.get_hash(key)\n",
    "        self.arr[h] = value\n",
    "        \n",
    "    def __getitem__(self, key):\n",
    "        h = self.get_hash(key)\n",
    "        return self.arr[h]\n",
    "    \n",
    "    def __delitem__(self, key):\n",
    "        h = self.get_hash(key)\n",
    "        self.arr[h] = None"
   ]
  },
  {
   "cell_type": "code",
   "execution_count": 62,
   "id": "efe5e8a5",
   "metadata": {
    "scrolled": true
   },
   "outputs": [
    {
     "data": {
      "text/plain": [
       "[None, None, None, 93, None, None, None, None, None, 130]"
      ]
     },
     "execution_count": 62,
     "metadata": {},
     "output_type": "execute_result"
    }
   ],
   "source": [
    "t = HashTable()\n",
    "# t.add('march 6', 130)\n",
    "# t.get('march 6')\n",
    "t['march 6'] = 130\n",
    "t['march 20'] = 23\n",
    "t['dec 3'] = 93\n",
    "t.arr"
   ]
  },
  {
   "cell_type": "code",
   "execution_count": 63,
   "id": "8a7003be",
   "metadata": {
    "scrolled": true
   },
   "outputs": [
    {
     "data": {
      "text/plain": [
       "[None, None, None, None, None, None, None, None, None, 130]"
      ]
     },
     "execution_count": 63,
     "metadata": {},
     "output_type": "execute_result"
    }
   ],
   "source": [
    "del t['march 20']\n",
    "t.arr"
   ]
  },
  {
   "cell_type": "code",
   "execution_count": 68,
   "id": "9ae4d255",
   "metadata": {},
   "outputs": [
    {
     "data": {
      "text/plain": [
       "75"
      ]
     },
     "execution_count": 68,
     "metadata": {},
     "output_type": "execute_result"
    }
   ],
   "source": [
    "# Collision\n",
    "t[\"march 17\"] = 75\n",
    "t['march 6']"
   ]
  },
  {
   "cell_type": "code",
   "execution_count": null,
   "id": "dd5ecc89",
   "metadata": {},
   "outputs": [],
   "source": []
  },
  {
   "cell_type": "markdown",
   "id": "cdaaa1aa",
   "metadata": {},
   "source": [
    "### CHAINING"
   ]
  },
  {
   "cell_type": "code",
   "execution_count": 84,
   "id": "3fa2c44b",
   "metadata": {},
   "outputs": [],
   "source": [
    "class HashTable:\n",
    "    def __init__(self):\n",
    "        self.MAX = 10\n",
    "        self.arr = [[] for i in range(self.MAX)]\n",
    "        \n",
    "    def get_hash(self, key):\n",
    "        h = 0\n",
    "        for char in key:\n",
    "            h += ord(char)\n",
    "        return h % self.MAX\n",
    "        \n",
    "    def __getitem__(self, key):\n",
    "        h = self.get_hash(key)\n",
    "        for element in self.arr[h]:\n",
    "            if element[0] == key:\n",
    "                return element[1]\n",
    "    \n",
    "    def __setitem__(self, key, value):\n",
    "        h = self.get_hash(key)\n",
    "        found = False\n",
    "        for i, element in enumerate(self.arr[h]):\n",
    "            if len(element) == 2 and element[0] == key:\n",
    "                self.arr[h][i] = (key, value)      # as it's tuple, new (key, value) stored\n",
    "                found = True\n",
    "                break\n",
    "                \n",
    "        if not found:\n",
    "            self.arr[h].append((key, value))\n",
    "            \n",
    "    # Try to implement delete item\n",
    "    "
   ]
  },
  {
   "cell_type": "code",
   "execution_count": 85,
   "id": "556c49c3",
   "metadata": {},
   "outputs": [],
   "source": [
    "t = HashTable()"
   ]
  },
  {
   "cell_type": "code",
   "execution_count": 86,
   "id": "260c4b51",
   "metadata": {},
   "outputs": [],
   "source": [
    "t[\"march 6\"] = 120\n",
    "t[\"march 6\"] = 78\n",
    "t[\"march 8\"] = 23\n",
    "t[\"march 9\"] = 94\n",
    "t[\"march 17\"] = 234"
   ]
  },
  {
   "cell_type": "code",
   "execution_count": 88,
   "id": "f4ffb07f",
   "metadata": {
    "scrolled": false
   },
   "outputs": [
    {
     "data": {
      "text/plain": [
       "[[],\n",
       " [('march 8', 23)],\n",
       " [('march 9', 94)],\n",
       " [],\n",
       " [],\n",
       " [],\n",
       " [],\n",
       " [],\n",
       " [],\n",
       " [('march 6', 78), ('march 17', 234)]]"
      ]
     },
     "execution_count": 88,
     "metadata": {},
     "output_type": "execute_result"
    }
   ],
   "source": [
    "# t[\"march 6\"]\n",
    "t.arr"
   ]
  },
  {
   "cell_type": "code",
   "execution_count": 89,
   "id": "27cd6e97",
   "metadata": {},
   "outputs": [
    {
     "data": {
      "text/plain": [
       "78"
      ]
     },
     "execution_count": 89,
     "metadata": {},
     "output_type": "execute_result"
    }
   ],
   "source": [
    "t[\"march 6\"]"
   ]
  },
  {
   "cell_type": "markdown",
   "id": "f6611f88",
   "metadata": {},
   "source": [
    "### LINEAR PROBING"
   ]
  },
  {
   "cell_type": "code",
   "execution_count": null,
   "id": "42eab3e2",
   "metadata": {},
   "outputs": [],
   "source": []
  },
  {
   "cell_type": "code",
   "execution_count": null,
   "id": "ccdb91f7",
   "metadata": {},
   "outputs": [],
   "source": []
  }
 ],
 "metadata": {
  "kernelspec": {
   "display_name": "Python 3.9 (tensorflow)",
   "language": "python",
   "name": "tensorflow"
  },
  "language_info": {
   "codemirror_mode": {
    "name": "ipython",
    "version": 3
   },
   "file_extension": ".py",
   "mimetype": "text/x-python",
   "name": "python",
   "nbconvert_exporter": "python",
   "pygments_lexer": "ipython3",
   "version": "3.9.10"
  }
 },
 "nbformat": 4,
 "nbformat_minor": 5
}
