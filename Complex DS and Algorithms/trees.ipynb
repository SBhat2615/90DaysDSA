{
 "cells": [
  {
   "cell_type": "markdown",
   "id": "5f562f82",
   "metadata": {},
   "source": [
    "# CodeBasics"
   ]
  },
  {
   "cell_type": "markdown",
   "id": "98149e74",
   "metadata": {},
   "source": [
    "https://www.youtube.com/watch?v=4r_XR9fUPhQ"
   ]
  },
  {
   "cell_type": "code",
   "execution_count": null,
   "id": "685b8e33",
   "metadata": {},
   "outputs": [],
   "source": []
  }
 ],
 "metadata": {
  "kernelspec": {
   "display_name": "Python 3 (ipykernel)",
   "language": "python",
   "name": "python3"
  },
  "language_info": {
   "codemirror_mode": {
    "name": "ipython",
    "version": 3
   },
   "file_extension": ".py",
   "mimetype": "text/x-python",
   "name": "python",
   "nbconvert_exporter": "python",
   "pygments_lexer": "ipython3",
   "version": "3.9.13"
  }
 },
 "nbformat": 4,
 "nbformat_minor": 5
}
