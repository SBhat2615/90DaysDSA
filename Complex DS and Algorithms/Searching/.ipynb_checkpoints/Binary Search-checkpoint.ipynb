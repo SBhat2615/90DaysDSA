{
 "cells": [
  {
   "cell_type": "markdown",
   "id": "6e26ac71",
   "metadata": {},
   "source": [
    "## Lucid Programming"
   ]
  },
  {
   "cell_type": "code",
   "execution_count": 43,
   "id": "3774f5a7",
   "metadata": {},
   "outputs": [],
   "source": [
    "data = [2,4,5,7,8,9,12,14,17,19,22,25,27,28,33,37]\n",
    "target = 37"
   ]
  },
  {
   "cell_type": "markdown",
   "id": "ed4283b0",
   "metadata": {},
   "source": [
    "`ITERATIVE`"
   ]
  },
  {
   "cell_type": "code",
   "execution_count": 44,
   "id": "f01955d0",
   "metadata": {},
   "outputs": [],
   "source": [
    "def binary_search_iterative(data, target):\n",
    "    low = 0\n",
    "    high = len(data)-1\n",
    "    while low <= high:\n",
    "        mid = low + (high - low)//2\n",
    "        if target == data[mid]:\n",
    "            #return True\n",
    "            return mid\n",
    "        elif target < data[mid]:\n",
    "            high = mid - 1\n",
    "        else:\n",
    "            low = mid + 1\n",
    "    return \"Element Not Found\""
   ]
  },
  {
   "cell_type": "code",
   "execution_count": 45,
   "id": "99c8c424",
   "metadata": {},
   "outputs": [
    {
     "data": {
      "text/plain": [
       "15"
      ]
     },
     "execution_count": 45,
     "metadata": {},
     "output_type": "execute_result"
    }
   ],
   "source": [
    "binary_search_iterative(data, target)"
   ]
  },
  {
   "cell_type": "code",
   "execution_count": 46,
   "id": "0d7d3892",
   "metadata": {},
   "outputs": [
    {
     "data": {
      "text/plain": [
       "1"
      ]
     },
     "execution_count": 46,
     "metadata": {},
     "output_type": "execute_result"
    }
   ],
   "source": [
    "data = [2,6,7,8]\n",
    "target = 6\n",
    "\n",
    "binary_search_iterative(data, target)"
   ]
  },
  {
   "cell_type": "markdown",
   "id": "cfcd527c",
   "metadata": {},
   "source": [
    "`RECURSIVE`"
   ]
  },
  {
   "cell_type": "code",
   "execution_count": 27,
   "id": "b1567fad",
   "metadata": {},
   "outputs": [],
   "source": [
    "def binary_search_recursive(data, target, low, high):\n",
    "    if low > high:\n",
    "        return False\n",
    "    else:\n",
    "        mid = (low + high) // 2\n",
    "        if target == data[mid]:\n",
    "            return True\n",
    "        elif target < data[mid]:\n",
    "            return binary_search_recursive(data, target, low, mid-1)\n",
    "        else:\n",
    "            return binary_search_recursive(data, target, mid+1, high)"
   ]
  },
  {
   "cell_type": "code",
   "execution_count": 28,
   "id": "e79e29ce",
   "metadata": {},
   "outputs": [
    {
     "data": {
      "text/plain": [
       "True"
      ]
     },
     "execution_count": 28,
     "metadata": {},
     "output_type": "execute_result"
    }
   ],
   "source": [
    "n = len(data) - 1\n",
    "binary_search_recursive(data, target, 0, n)"
   ]
  },
  {
   "cell_type": "code",
   "execution_count": null,
   "id": "7d85aff0",
   "metadata": {},
   "outputs": [],
   "source": []
  },
  {
   "cell_type": "markdown",
   "id": "466028c0",
   "metadata": {},
   "source": [
    "SORTED LIST `==` ALWAYS TRY BINARY SEARCH FOR OPTIMIZATION"
   ]
  },
  {
   "cell_type": "code",
   "execution_count": null,
   "id": "9e31ac9e",
   "metadata": {},
   "outputs": [],
   "source": []
  },
  {
   "cell_type": "markdown",
   "id": "41760514",
   "metadata": {},
   "source": [
    "## PROBLEMS"
   ]
  },
  {
   "cell_type": "markdown",
   "id": "7748e49e",
   "metadata": {},
   "source": [
    "### 1. Find Closest Number"
   ]
  },
  {
   "cell_type": "code",
   "execution_count": 108,
   "id": "b53b3ae1",
   "metadata": {},
   "outputs": [],
   "source": [
    "# Approach 1 -> O(n)\n",
    "\n",
    "# Approach 2 -> O(logn)\n",
    "def closest_number(data, target):\n",
    "    min_diff = float(\"inf\")\n",
    "    low = 0\n",
    "    high = len(data)-1\n",
    "    closest_num = None\n",
    "    \n",
    "    if len(data) == 0:\n",
    "        return None\n",
    "    if len(data) == 1:\n",
    "        return data[0]\n",
    "     \n",
    "    while low <= high:\n",
    "        mid = (low+high) // 2\n",
    "        # Ensure don't read beyond bound of list\n",
    "        if mid + 1 < len(data):\n",
    "            right_diff = abs(data[mid+1]-target)\n",
    "        if mid > 0:\n",
    "            left_diff = abs(data[mid-1]-target)\n",
    "        \n",
    "        if left_diff < min_diff:\n",
    "            min_diff = left_diff\n",
    "            closest_num = data[mid-1]\n",
    "            \n",
    "        if right_diff < min_diff:\n",
    "            min_diff = right_diff\n",
    "            closest_num = data[mid+1]\n",
    "        \n",
    "        # Move midpoint\n",
    "        if data[mid] < target:\n",
    "            low = mid + 1\n",
    "        elif data[mid] > target:\n",
    "            high = mid - 1\n",
    "        else:\n",
    "            return data[mid]\n",
    "        \n",
    "    return closest_num"
   ]
  },
  {
   "cell_type": "code",
   "execution_count": 109,
   "id": "caf4afbc",
   "metadata": {},
   "outputs": [
    {
     "data": {
      "text/plain": [
       "9"
      ]
     },
     "execution_count": 109,
     "metadata": {},
     "output_type": "execute_result"
    }
   ],
   "source": [
    "data = [2,5,6,7,8,8,9]\n",
    "target = 10\n",
    "\n",
    "closest_number(data, target)"
   ]
  },
  {
   "cell_type": "code",
   "execution_count": null,
   "id": "3fe1e172",
   "metadata": {},
   "outputs": [],
   "source": []
  }
 ],
 "metadata": {
  "kernelspec": {
   "display_name": "Python 3 (ipykernel)",
   "language": "python",
   "name": "python3"
  },
  "language_info": {
   "codemirror_mode": {
    "name": "ipython",
    "version": 3
   },
   "file_extension": ".py",
   "mimetype": "text/x-python",
   "name": "python",
   "nbconvert_exporter": "python",
   "pygments_lexer": "ipython3",
   "version": "3.9.13"
  }
 },
 "nbformat": 4,
 "nbformat_minor": 5
}
