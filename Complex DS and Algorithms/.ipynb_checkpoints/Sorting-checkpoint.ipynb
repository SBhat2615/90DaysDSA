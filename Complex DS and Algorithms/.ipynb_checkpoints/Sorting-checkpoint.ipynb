{
 "cells": [
  {
   "cell_type": "markdown",
   "id": "711e7944",
   "metadata": {},
   "source": [
    "## Selection Sort"
   ]
  },
  {
   "cell_type": "markdown",
   "id": "181b50a1",
   "metadata": {},
   "source": [
    "`STRIVER`"
   ]
  },
  {
   "cell_type": "code",
   "execution_count": 9,
   "id": "b0cfca08",
   "metadata": {},
   "outputs": [
    {
     "name": "stdout",
     "output_type": "stream",
     "text": [
      "[3, 9, 12, 23, 28, 37, 48, 65, 95]\n"
     ]
    }
   ],
   "source": [
    "# Select minimum element a swap it with current element\n",
    "\n",
    "arr = [23, 48, 37, 9, 28, 65, 95, 12, 3]\n",
    "minindex = arr[0]\n",
    "for i in range(len(arr)-1):      # last element automatically sorted\n",
    "    minindex = i\n",
    "    for j in range(i+1, len(arr)):\n",
    "        if arr[j] < arr[minindex]:\n",
    "            minindex = j\n",
    "    arr[minindex], arr[i] = arr[i], arr[minindex]\n",
    "print(arr)"
   ]
  },
  {
   "cell_type": "code",
   "execution_count": 8,
   "id": "9939f9b2",
   "metadata": {},
   "outputs": [],
   "source": [
    "# Best Case, Average, Worst Case : O(n^2)"
   ]
  },
  {
   "cell_type": "markdown",
   "id": "52169ade",
   "metadata": {},
   "source": [
    "## Bubble Sort"
   ]
  },
  {
   "cell_type": "markdown",
   "id": "e1dbf4b8",
   "metadata": {},
   "source": [
    "`STRIVER`"
   ]
  },
  {
   "cell_type": "code",
   "execution_count": 7,
   "id": "a5f2fc18",
   "metadata": {},
   "outputs": [
    {
     "name": "stdout",
     "output_type": "stream",
     "text": [
      "No swap done at 0 th loop\n",
      "[2, 3, 6, 7, 9]\n"
     ]
    }
   ],
   "source": [
    "arr = [23, 48, 37, 9, 28, 65, 95, 12, 3]\n",
    "arr2 = [2, 3, 6, 7, 9] \n",
    "\n",
    "a = arr2\n",
    "for i in range(len(a)-1):\n",
    "    noSwap = 1\n",
    "    for j in range(len(a)-i-1):\n",
    "        if a[j] > a[j+1]:\n",
    "            a[j], a[j+1] = a[j+1], a[j]\n",
    "            noSwap = 0\n",
    "    if noSwap == 1:\n",
    "        print('No swap done at', i, 'th loop')\n",
    "        break\n",
    "print(a)"
   ]
  },
  {
   "cell_type": "code",
   "execution_count": 9,
   "id": "6487defd",
   "metadata": {},
   "outputs": [],
   "source": [
    "# Best Case : O(n)\n",
    "# Average & Worst Case : O(n^2)"
   ]
  },
  {
   "cell_type": "code",
   "execution_count": null,
   "id": "e9ff5291",
   "metadata": {},
   "outputs": [],
   "source": []
  },
  {
   "cell_type": "markdown",
   "id": "9f96eb88",
   "metadata": {},
   "source": [
    "## Insertion Sort"
   ]
  },
  {
   "cell_type": "markdown",
   "id": "a35f2e33",
   "metadata": {},
   "source": [
    "`STRIVER`"
   ]
  },
  {
   "cell_type": "code",
   "execution_count": null,
   "id": "a589fc9c",
   "metadata": {},
   "outputs": [],
   "source": []
  },
  {
   "cell_type": "code",
   "execution_count": null,
   "id": "6b02e5de",
   "metadata": {},
   "outputs": [],
   "source": []
  },
  {
   "cell_type": "markdown",
   "id": "77b5d826",
   "metadata": {},
   "source": [
    "`JOE`"
   ]
  },
  {
   "cell_type": "markdown",
   "id": "a20332b6",
   "metadata": {},
   "source": [
    "https://youtu.be/Nkw6Jg_Gi4w"
   ]
  },
  {
   "cell_type": "code",
   "execution_count": 10,
   "id": "79081f98",
   "metadata": {},
   "outputs": [],
   "source": [
    "# Ensure after every iteration element is in correct position\n",
    "# We assume that element 1, is in correct position and start with 2nd element.\n",
    "\n",
    "def Insertion_Sort(A):\n",
    "    for i in range(1, len(A)):\n",
    "        for j in range(i-1, 0, -1):\n",
    "            if A[j] > A[j+1]:\n",
    "                A[j], A[j+1] = A[j+1], A[j]\n",
    "            else:\n",
    "                break\n",
    "    print(A)"
   ]
  },
  {
   "cell_type": "code",
   "execution_count": 11,
   "id": "fec5ffcc",
   "metadata": {},
   "outputs": [],
   "source": [
    "def insertion_sort(A):\n",
    "    for i in range(1, len(A)):\n",
    "        j = i - 1\n",
    "        while A[j] > A[j+1] and j >= 0:\n",
    "            A[j], A[j+1] = A[j+1], A[j]\n",
    "            j -= 1\n",
    "    print(A)"
   ]
  },
  {
   "cell_type": "code",
   "execution_count": 12,
   "id": "8fd157de",
   "metadata": {},
   "outputs": [
    {
     "name": "stdout",
     "output_type": "stream",
     "text": [
      "[4, 2, 2, 3, 3, 5, 6, 7]\n",
      "[2, 2, 3, 3, 4, 5, 6, 7]\n"
     ]
    }
   ],
   "source": [
    "A = [4,3,6,2,7,5,3,2]\n",
    "\n",
    "Insertion_Sort(A)\n",
    "insertion_sort(A)"
   ]
  },
  {
   "cell_type": "code",
   "execution_count": null,
   "id": "a2bfa7b7",
   "metadata": {},
   "outputs": [],
   "source": []
  },
  {
   "cell_type": "code",
   "execution_count": null,
   "id": "3cf73716",
   "metadata": {},
   "outputs": [],
   "source": []
  },
  {
   "cell_type": "markdown",
   "id": "e8c4bfc6",
   "metadata": {},
   "source": [
    "## Merge Sort"
   ]
  },
  {
   "cell_type": "code",
   "execution_count": null,
   "id": "43620c79",
   "metadata": {},
   "outputs": [],
   "source": []
  },
  {
   "cell_type": "markdown",
   "id": "fea42d89",
   "metadata": {},
   "source": [
    "## Quick Sort"
   ]
  },
  {
   "cell_type": "code",
   "execution_count": null,
   "id": "deb14e1a",
   "metadata": {},
   "outputs": [],
   "source": []
  },
  {
   "cell_type": "code",
   "execution_count": null,
   "id": "a280a853",
   "metadata": {},
   "outputs": [],
   "source": []
  },
  {
   "cell_type": "code",
   "execution_count": null,
   "id": "0a4556d6",
   "metadata": {},
   "outputs": [],
   "source": []
  }
 ],
 "metadata": {
  "kernelspec": {
   "display_name": "Python 3 (ipykernel)",
   "language": "python",
   "name": "python3"
  },
  "language_info": {
   "codemirror_mode": {
    "name": "ipython",
    "version": 3
   },
   "file_extension": ".py",
   "mimetype": "text/x-python",
   "name": "python",
   "nbconvert_exporter": "python",
   "pygments_lexer": "ipython3",
   "version": "3.9.16"
  }
 },
 "nbformat": 4,
 "nbformat_minor": 5
}
