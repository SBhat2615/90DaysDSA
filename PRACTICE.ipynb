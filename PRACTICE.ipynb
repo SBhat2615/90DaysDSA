{
 "cells": [
  {
   "cell_type": "code",
   "execution_count": 19,
   "id": "6b39f60a",
   "metadata": {},
   "outputs": [],
   "source": [
    "f = open('fileInput.txt', 'r')\n",
    "lines = f.readlines()\n",
    "N = int(lines[0])\n",
    "bills = list(map(int, lines[1].strip().split(' ')))"
   ]
  },
  {
   "cell_type": "code",
   "execution_count": 22,
   "id": "9ff1ec75",
   "metadata": {},
   "outputs": [],
   "source": [
    "def lemonadeChange(N, bills):\n",
    "        # Code here\n",
    "        numbills = dict()\n",
    "        change = True\n",
    "        for bill in bills:\n",
    "            if bill in [10, 20]:\n",
    "                if bill == 10 and numbills.get(5,0) > 0:\n",
    "                    numbills[5] = numbills.get(5, 0)-1\n",
    "                elif bill == 20 and numbills.get(5,0) > 0 and numbills.get(10,0) > 0:\n",
    "                    numbills[10] = numbills.get(10, 0)-1\n",
    "                    numbills[5] = numbills.get(5, 0)-1\n",
    "                else:\n",
    "                    return False, bill\n",
    "            numbills[bill] = numbills.get(bill, 0)+1\n",
    "        return True"
   ]
  },
  {
   "cell_type": "code",
   "execution_count": 24,
   "id": "65ab1e41",
   "metadata": {},
   "outputs": [
    {
     "data": {
      "text/plain": [
       "(False, 20)"
      ]
     },
     "execution_count": 24,
     "metadata": {},
     "output_type": "execute_result"
    }
   ],
   "source": [
    "lemonadeChange(N, bills)"
   ]
  },
  {
   "cell_type": "code",
   "execution_count": null,
   "id": "794fa16b",
   "metadata": {},
   "outputs": [],
   "source": []
  },
  {
   "cell_type": "code",
   "execution_count": 30,
   "id": "9c20a4b0",
   "metadata": {},
   "outputs": [],
   "source": [
    "import numpy as np"
   ]
  },
  {
   "cell_type": "code",
   "execution_count": 38,
   "id": "ed48630c",
   "metadata": {},
   "outputs": [
    {
     "name": "stdout",
     "output_type": "stream",
     "text": [
      "(32, 32, 3)\n",
      "(3072, 1)\n"
     ]
    }
   ],
   "source": [
    "img = np.zeros((32,32,3))\n",
    "print(img.shape)\n",
    "x = img.reshape((32*32*3,1))\n",
    "print(x.shape)"
   ]
  },
  {
   "cell_type": "code",
   "execution_count": 84,
   "id": "5867c3ac",
   "metadata": {},
   "outputs": [],
   "source": [
    "a = np.random.random((3,4))\n",
    "b = np.random.random((4,1))\n",
    "\n",
    "c = np.zeros((3,4))\n",
    "\n",
    "c = a*b.T"
   ]
  },
  {
   "cell_type": "code",
   "execution_count": 94,
   "id": "918277f0",
   "metadata": {},
   "outputs": [
    {
     "data": {
      "text/plain": [
       "array([[1.03831990e-01, 4.14999061e-01, 1.00340362e-01, 3.74792494e-02],\n",
       "       [7.96447956e-04, 8.16870276e-01, 2.05289712e-02, 2.90138200e-01],\n",
       "       [5.06008232e-02, 8.59202452e-01, 6.84467371e-02, 6.19730682e-01]])"
      ]
     },
     "execution_count": 94,
     "metadata": {},
     "output_type": "execute_result"
    }
   ],
   "source": [
    "c"
   ]
  },
  {
   "cell_type": "code",
   "execution_count": 98,
   "id": "7c776409",
   "metadata": {},
   "outputs": [
    {
     "data": {
      "text/plain": [
       "(1, 12)"
      ]
     },
     "execution_count": 98,
     "metadata": {},
     "output_type": "execute_result"
    }
   ],
   "source": [
    "c.reshape(1,-1).shape"
   ]
  },
  {
   "cell_type": "code",
   "execution_count": 73,
   "id": "648fad4d",
   "metadata": {},
   "outputs": [
    {
     "data": {
      "text/plain": [
       "array([[3, 3],\n",
       "       [4, 2]])"
      ]
     },
     "execution_count": 73,
     "metadata": {},
     "output_type": "execute_result"
    }
   ],
   "source": [
    "a = np.array([[1,1],[1,-1]])\n",
    "b = np.array([[2],[3]])\n",
    "a+b"
   ]
  },
  {
   "cell_type": "code",
   "execution_count": 74,
   "id": "330465d4",
   "metadata": {},
   "outputs": [],
   "source": [
    "np.array?"
   ]
  },
  {
   "cell_type": "code",
   "execution_count": 105,
   "id": "5ed09e6a",
   "metadata": {},
   "outputs": [],
   "source": [
    "x = '3'"
   ]
  },
  {
   "cell_type": "code",
   "execution_count": 107,
   "id": "68e755dc",
   "metadata": {
    "scrolled": true
   },
   "outputs": [
    {
     "ename": "AssertionError",
     "evalue": "x should 3",
     "output_type": "error",
     "traceback": [
      "\u001b[0;31m---------------------------------------------------------------------------\u001b[0m",
      "\u001b[0;31mAssertionError\u001b[0m                            Traceback (most recent call last)",
      "Cell \u001b[0;32mIn[107], line 1\u001b[0m\n\u001b[0;32m----> 1\u001b[0m \u001b[38;5;28;01massert\u001b[39;00m x \u001b[38;5;241m==\u001b[39m \u001b[38;5;124m'\u001b[39m\u001b[38;5;124m4\u001b[39m\u001b[38;5;124m'\u001b[39m, \u001b[38;5;124m'\u001b[39m\u001b[38;5;124mx should 3\u001b[39m\u001b[38;5;124m'\u001b[39m\n",
      "\u001b[0;31mAssertionError\u001b[0m: x should 3"
     ]
    }
   ],
   "source": [
    "assert x == '4', 'x should 3'"
   ]
  },
  {
   "cell_type": "code",
   "execution_count": 111,
   "id": "251ce8bd",
   "metadata": {},
   "outputs": [
    {
     "data": {
      "text/plain": [
       "array([[0.20058681, 0.44191039, 0.49335686, 0.98882615, 0.20796327],\n",
       "       [0.95415342, 0.91839442, 0.85911084, 0.01789303, 0.65510449],\n",
       "       [0.92939414, 0.530002  , 0.98175607, 0.19166032, 0.37263815],\n",
       "       [0.85213119, 0.10452814, 0.66521497, 0.69818201, 0.70539339]])"
      ]
     },
     "execution_count": 111,
     "metadata": {},
     "output_type": "execute_result"
    }
   ],
   "source": [
    "np.random.rand(4,5)"
   ]
  },
  {
   "cell_type": "code",
   "execution_count": 112,
   "id": "8cc7bc44",
   "metadata": {},
   "outputs": [
    {
     "data": {
      "text/plain": [
       "(4,)"
      ]
     },
     "execution_count": 112,
     "metadata": {},
     "output_type": "execute_result"
    }
   ],
   "source": [
    "np.sum(np.random.rand(4,5), axis=1).shape"
   ]
  },
  {
   "cell_type": "code",
   "execution_count": null,
   "id": "cf57159e",
   "metadata": {},
   "outputs": [],
   "source": []
  }
 ],
 "metadata": {
  "kernelspec": {
   "display_name": "Python 3 (ipykernel)",
   "language": "python",
   "name": "python3"
  },
  "language_info": {
   "codemirror_mode": {
    "name": "ipython",
    "version": 3
   },
   "file_extension": ".py",
   "mimetype": "text/x-python",
   "name": "python",
   "nbconvert_exporter": "python",
   "pygments_lexer": "ipython3",
   "version": "3.9.16"
  },
  "varInspector": {
   "cols": {
    "lenName": 16,
    "lenType": 16,
    "lenVar": 40
   },
   "kernels_config": {
    "python": {
     "delete_cmd_postfix": "",
     "delete_cmd_prefix": "del ",
     "library": "var_list.py",
     "varRefreshCmd": "print(var_dic_list())"
    },
    "r": {
     "delete_cmd_postfix": ") ",
     "delete_cmd_prefix": "rm(",
     "library": "var_list.r",
     "varRefreshCmd": "cat(var_dic_list()) "
    }
   },
   "types_to_exclude": [
    "module",
    "function",
    "builtin_function_or_method",
    "instance",
    "_Feature"
   ],
   "window_display": false
  }
 },
 "nbformat": 4,
 "nbformat_minor": 5
}
