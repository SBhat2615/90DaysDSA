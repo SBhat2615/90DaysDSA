{
 "cells": [
  {
   "cell_type": "markdown",
   "id": "11472036",
   "metadata": {},
   "source": [
    "1. https://practice.geeksforgeeks.org/problems/find-all-four-sum-numbers1732/1"
   ]
  },
  {
   "cell_type": "markdown",
   "id": "93a226d0",
   "metadata": {},
   "source": [
    "2. https://practice.geeksforgeeks.org/problems/63c232252d445a377e01cd91adfd7d1060580038/1"
   ]
  },
  {
   "cell_type": "markdown",
   "id": "b039c8f1",
   "metadata": {},
   "source": [
    "3. https://practice.geeksforgeeks.org/problems/84963d7b5b84aa24f7807d86e672d0f97f41a4b5/1"
   ]
  },
  {
   "cell_type": "markdown",
   "id": "f5450c83",
   "metadata": {},
   "source": [
    "4. https://practice.geeksforgeeks.org/problems/2a1c11024ceae36363fc405e07f2fa3e2f896ef0/1 \n",
    "\n",
    "TWO POINTER TECHNIQUE : https://www.geeksforgeeks.org/two-pointers-technique/"
   ]
  },
  {
   "cell_type": "markdown",
   "id": "d6db59de",
   "metadata": {},
   "source": [
    "5. ..\n",
    "\n",
    ".. : "
   ]
  },
  {
   "cell_type": "code",
   "execution_count": 2,
   "id": "6ccf695d",
   "metadata": {
    "scrolled": true
   },
   "outputs": [
    {
     "name": "stdout",
     "output_type": "stream",
     "text": [
      "elderberry\n",
      "date\n",
      "cherry\n",
      "banana\n",
      "apple\n"
     ]
    }
   ],
   "source": [
    "fruits = [\"apple\", \"banana\", \"cherry\", \"date\", \"elderberry\"]\n",
    "\n",
    "# Traverse the list from the back\n",
    "for i in range(len(fruits)-1, -1, -1):\n",
    "    print(fruits[i])\n"
   ]
  },
  {
   "cell_type": "code",
   "execution_count": 3,
   "id": "e2e398bb",
   "metadata": {},
   "outputs": [],
   "source": [
    "from PIL import Image"
   ]
  },
  {
   "cell_type": "code",
   "execution_count": 4,
   "id": "dc8e8920",
   "metadata": {},
   "outputs": [],
   "source": [
    "from PIL import Image\n",
    "\n",
    "# Open the image file\n",
    "img = Image.open('./image.jpg')\n",
    "\n",
    "# Convert to grayscale\n",
    "gray_img = img.convert('L')\n",
    "\n",
    "# Display the grayscale image\n",
    "gray_img.show()\n",
    "\n",
    "# Save the grayscale image\n",
    "gray_img.save('./imageGray.jpg')"
   ]
  },
  {
   "cell_type": "code",
   "execution_count": 15,
   "id": "be30cb3d",
   "metadata": {},
   "outputs": [
    {
     "name": "stdout",
     "output_type": "stream",
     "text": [
      "5\n"
     ]
    }
   ],
   "source": [
    "arr = [-1,-1,0,1,1,0]\n",
    "for i in range(len(arr)):\n",
    "    if sum(arr[:i]) == sum(arr[i+1:]):\n",
    "        print(i)"
   ]
  },
  {
   "cell_type": "code",
   "execution_count": null,
   "id": "0b0952de",
   "metadata": {},
   "outputs": [],
   "source": []
  }
 ],
 "metadata": {
  "kernelspec": {
   "display_name": "Python 3 (ipykernel)",
   "language": "python",
   "name": "python3"
  },
  "language_info": {
   "codemirror_mode": {
    "name": "ipython",
    "version": 3
   },
   "file_extension": ".py",
   "mimetype": "text/x-python",
   "name": "python",
   "nbconvert_exporter": "python",
   "pygments_lexer": "ipython3",
   "version": "3.9.16"
  },
  "varInspector": {
   "cols": {
    "lenName": 16,
    "lenType": 16,
    "lenVar": 40
   },
   "kernels_config": {
    "python": {
     "delete_cmd_postfix": "",
     "delete_cmd_prefix": "del ",
     "library": "var_list.py",
     "varRefreshCmd": "print(var_dic_list())"
    },
    "r": {
     "delete_cmd_postfix": ") ",
     "delete_cmd_prefix": "rm(",
     "library": "var_list.r",
     "varRefreshCmd": "cat(var_dic_list()) "
    }
   },
   "types_to_exclude": [
    "module",
    "function",
    "builtin_function_or_method",
    "instance",
    "_Feature"
   ],
   "window_display": false
  }
 },
 "nbformat": 4,
 "nbformat_minor": 5
}
