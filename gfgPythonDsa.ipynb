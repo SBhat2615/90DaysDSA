{
 "cells": [
  {
   "cell_type": "code",
   "execution_count": 7,
   "id": "8c73518a",
   "metadata": {},
   "outputs": [
    {
     "data": {
      "text/plain": [
       "'abcd'"
      ]
     },
     "execution_count": 7,
     "metadata": {},
     "output_type": "execute_result"
    }
   ],
   "source": [
    "s = 'abc'\n",
    "s += 'd'\n",
    "s"
   ]
  },
  {
   "cell_type": "code",
   "execution_count": 10,
   "id": "299d2ab9",
   "metadata": {},
   "outputs": [],
   "source": [
    "s = \"axedfxc\"\n",
    "d = dict()\n",
    "i = 0\n",
    "for ch in s:\n",
    "    i += 1\n",
    "    d[ch] = d.get(ch, i)"
   ]
  },
  {
   "cell_type": "code",
   "execution_count": 16,
   "id": "5d7c14ae",
   "metadata": {},
   "outputs": [
    {
     "name": "stdout",
     "output_type": "stream",
     "text": [
      "None\n"
     ]
    }
   ],
   "source": [
    "print(d.get('i'))"
   ]
  },
  {
   "cell_type": "code",
   "execution_count": 32,
   "id": "9abef378",
   "metadata": {},
   "outputs": [
    {
     "ename": "TypeError",
     "evalue": "'str' object does not support item assignment",
     "output_type": "error",
     "traceback": [
      "\u001b[0;31m---------------------------------------------------------------------------\u001b[0m",
      "\u001b[0;31mTypeError\u001b[0m                                 Traceback (most recent call last)",
      "Cell \u001b[0;32mIn[32], line 4\u001b[0m\n\u001b[1;32m      1\u001b[0m s \u001b[38;5;241m=\u001b[39m \u001b[38;5;124m\"\u001b[39m\u001b[38;5;124mskldfk\u001b[39m\u001b[38;5;124m\"\u001b[39m\n\u001b[1;32m      2\u001b[0m a \u001b[38;5;241m=\u001b[39m \u001b[38;5;124m\"\u001b[39m\u001b[38;5;124mskl\u001b[39m\u001b[38;5;124m\"\u001b[39m\n\u001b[0;32m----> 4\u001b[0m \u001b[43ms\u001b[49m\u001b[43m[\u001b[49m\u001b[38;5;241;43m1\u001b[39;49m\u001b[43m]\u001b[49m \u001b[38;5;241m=\u001b[39m a[\u001b[38;5;241m2\u001b[39m]\n",
      "\u001b[0;31mTypeError\u001b[0m: 'str' object does not support item assignment"
     ]
    }
   ],
   "source": [
    "s = \"skldfk\"\n",
    "a = \"skl\"\n",
    "\n",
    "s[1] = a[2]"
   ]
  },
  {
   "cell_type": "code",
   "execution_count": 29,
   "id": "4f13e536",
   "metadata": {},
   "outputs": [
    {
     "data": {
      "text/plain": [
       "-1"
      ]
     },
     "execution_count": 29,
     "metadata": {},
     "output_type": "execute_result"
    }
   ],
   "source": []
  },
  {
   "cell_type": "code",
   "execution_count": 34,
   "id": "bc5dce5b",
   "metadata": {},
   "outputs": [
    {
     "name": "stdout",
     "output_type": "stream",
     "text": [
      "1\n",
      "3\n",
      "3\n",
      "1 2 3\n",
      "2\n"
     ]
    }
   ],
   "source": [
    "from typing import List\n",
    "\n",
    "\n",
    "class Solution:\n",
    "    def totalCuts(self, N : int, K : int, A : List[int]) -> int:\n",
    "        # code here\n",
    "        count = 0\n",
    "        pSum = list()\n",
    "        pSum.append(A[0])\n",
    "        for i in range(1,N):\n",
    "            pSum.append(pSum[i-1]+A[i])\n",
    "        if pSum[1] >= K:\n",
    "            count = 1\n",
    "        for i in range(2,N):\n",
    "            if pSum[i]-pSum[i-2] >= K:\n",
    "                count += 1\n",
    "        return count\n",
    "\n",
    "    \n",
    "class IntArray:\n",
    "    def __init__(self) -> None:\n",
    "        pass\n",
    "    def Input(self,n):\n",
    "        arr=[int(i) for i in input().strip().split()]#array input\n",
    "        return arr\n",
    "    def Print(self,arr):\n",
    "        for i in arr:\n",
    "            print(i,end=\" \")\n",
    "        print()\n",
    "\n",
    "if __name__==\"__main__\":\n",
    "    t = int(input())\n",
    "    for _ in range(t):\n",
    "        \n",
    "        N = int(input())\n",
    "        \n",
    "        \n",
    "        K = int(input())\n",
    "        \n",
    "        \n",
    "        A=IntArray().Input(N)\n",
    "        \n",
    "        obj = Solution()\n",
    "        res = obj.totalCuts(N,K,A)\n",
    "        \n",
    "        print(res)\n",
    "        \n",
    "\n",
    "# } Driver Code Ends"
   ]
  },
  {
   "cell_type": "code",
   "execution_count": 39,
   "id": "6e5fa1bb",
   "metadata": {},
   "outputs": [
    {
     "data": {
      "text/plain": [
       "['1', '2', '3', '4']"
      ]
     },
     "execution_count": 39,
     "metadata": {},
     "output_type": "execute_result"
    }
   ],
   "source": [
    "lst = [\"1\", \"2\", \"3\", \"4\"]\n",
    "string = \"-\".join(lst)\n",
    "string.split(\"-\")"
   ]
  },
  {
   "cell_type": "markdown",
   "id": "ee2f0062",
   "metadata": {},
   "source": [
    "TRAILING ZEROES IN FACTORIAL"
   ]
  },
  {
   "cell_type": "code",
   "execution_count": 53,
   "id": "83a24d40",
   "metadata": {},
   "outputs": [],
   "source": [
    "class Solution:\n",
    "    def naive(self, n):\n",
    "        fact, res = 1, 0\n",
    "        for i in range(2, n+1):\n",
    "            fact *= i\n",
    "        while not fact%10:\n",
    "            res += 1\n",
    "            fact //= 10\n",
    "        return res\n",
    "        \n",
    "    def better(self, n):\n",
    "        fact, res = 1, 0\n",
    "        two, five = 0, 0\n",
    "        for i in range(2, n+1):\n",
    "            while i % 5 == 0:\n",
    "                res += 1\n",
    "                i //= 5\n",
    "        return res\n",
    "    \n",
    "    def best(self, n):\n",
    "        fact, res = 1, 0\n",
    "        two, five = 0, 0\n",
    "        for i in range(2, n+1):\n",
    "            if i%5 == 0:\n",
    "                if i%25 == 0:\n",
    "                    while i%5 == 0:\n",
    "                        res += 1\n",
    "                        i //= 5\n",
    "                else:\n",
    "                    res += 1\n",
    "        return res"
   ]
  },
  {
   "cell_type": "code",
   "execution_count": 65,
   "id": "e3765fa5",
   "metadata": {},
   "outputs": [
    {
     "name": "stdout",
     "output_type": "stream",
     "text": [
      "1 ->  24\n",
      "2 ->  24\n",
      "3 ->  24\n"
     ]
    }
   ],
   "source": [
    "s = Solution()\n",
    "n = 100\n",
    "print('1 -> ', s.naive(n))\n",
    "print('2 -> ', s.better(n))\n",
    "print('3 -> ', s.best(n))"
   ]
  },
  {
   "cell_type": "code",
   "execution_count": null,
   "id": "fdf6428d",
   "metadata": {},
   "outputs": [],
   "source": []
  }
 ],
 "metadata": {
  "kernelspec": {
   "display_name": "Python 3 (ipykernel)",
   "language": "python",
   "name": "python3"
  },
  "language_info": {
   "codemirror_mode": {
    "name": "ipython",
    "version": 3
   },
   "file_extension": ".py",
   "mimetype": "text/x-python",
   "name": "python",
   "nbconvert_exporter": "python",
   "pygments_lexer": "ipython3",
   "version": "3.9.16"
  },
  "varInspector": {
   "cols": {
    "lenName": 16,
    "lenType": 16,
    "lenVar": 40
   },
   "kernels_config": {
    "python": {
     "delete_cmd_postfix": "",
     "delete_cmd_prefix": "del ",
     "library": "var_list.py",
     "varRefreshCmd": "print(var_dic_list())"
    },
    "r": {
     "delete_cmd_postfix": ") ",
     "delete_cmd_prefix": "rm(",
     "library": "var_list.r",
     "varRefreshCmd": "cat(var_dic_list()) "
    }
   },
   "types_to_exclude": [
    "module",
    "function",
    "builtin_function_or_method",
    "instance",
    "_Feature"
   ],
   "window_display": false
  }
 },
 "nbformat": 4,
 "nbformat_minor": 5
}
