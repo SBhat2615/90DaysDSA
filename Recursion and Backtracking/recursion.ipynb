{
 "cells": [
  {
   "cell_type": "markdown",
   "id": "42d981db",
   "metadata": {},
   "source": [
    "# Striver"
   ]
  },
  {
   "cell_type": "markdown",
   "id": "e40efe1b",
   "metadata": {},
   "source": [
    "DRAW RECURSION TREE TO ANALYSE"
   ]
  },
  {
   "cell_type": "markdown",
   "id": "26fcdd8b",
   "metadata": {},
   "source": [
    "#### Sum of Numbers"
   ]
  },
  {
   "cell_type": "code",
   "execution_count": 66,
   "id": "8188fac7",
   "metadata": {},
   "outputs": [],
   "source": [
    "class Solution:\n",
    "    def sum1(self, i, N, S):\n",
    "        if i > N:\n",
    "            print('Sum1 = ', S)\n",
    "            return\n",
    "        self.sum1(i+1, N, S+i)\n",
    "    \n",
    "    def sum2(self, N):\n",
    "        if N == 0:\n",
    "            return 0\n",
    "        return N + self.sum2(N-1)"
   ]
  },
  {
   "cell_type": "code",
   "execution_count": 67,
   "id": "4b4a41da",
   "metadata": {
    "scrolled": true
   },
   "outputs": [
    {
     "name": "stdout",
     "output_type": "stream",
     "text": [
      "Enter a number: 5\n",
      "Sum1 =  15\n",
      "Sum2 =  15\n"
     ]
    }
   ],
   "source": [
    "sm = Solution()\n",
    "N = int(input('Enter a number: '))\n",
    "sm.sum1(1, N, 0)\n",
    "print('Sum2 = ', sm.sum2(N))"
   ]
  },
  {
   "cell_type": "markdown",
   "id": "e4e5b2da",
   "metadata": {},
   "source": [
    "#### Factorial"
   ]
  },
  {
   "cell_type": "code",
   "execution_count": 20,
   "id": "d8cf0c72",
   "metadata": {},
   "outputs": [],
   "source": [
    "class Factorial:\n",
    "    def method1(self,X):\n",
    "        if X == 1:\n",
    "            return 1\n",
    "        return X * self.method1(X-1)"
   ]
  },
  {
   "cell_type": "code",
   "execution_count": 22,
   "id": "3e337eb0",
   "metadata": {},
   "outputs": [
    {
     "name": "stdout",
     "output_type": "stream",
     "text": [
      "Enter a number: 5\n",
      "Factorial =  120\n"
     ]
    }
   ],
   "source": [
    "f = Factorial()\n",
    "X = int(input('Enter a number: '))\n",
    "print('Factorial = ', f.method1(X))"
   ]
  },
  {
   "cell_type": "markdown",
   "id": "f130da36",
   "metadata": {},
   "source": [
    "#### Sum of Cube"
   ]
  },
  {
   "cell_type": "code",
   "execution_count": 1,
   "id": "fed0b42e",
   "metadata": {},
   "outputs": [],
   "source": [
    "class Solution:\n",
    "    def sumOfSeries(self,N):\n",
    "        #code here\n",
    "        sum = 0\n",
    "        def cubicSum(n):\n",
    "            if n == 1:\n",
    "                return 1\n",
    "            cs = n*n*n\n",
    "            return cs + cubicSum(n-1)\n",
    "            \n",
    "        sum = cubicSum(N)\n",
    "        return sum"
   ]
  },
  {
   "cell_type": "code",
   "execution_count": 2,
   "id": "6897f753",
   "metadata": {},
   "outputs": [
    {
     "data": {
      "text/plain": [
       "225"
      ]
     },
     "execution_count": 2,
     "metadata": {},
     "output_type": "execute_result"
    }
   ],
   "source": [
    "# TLE for large test cases\n",
    "soc = Solution()\n",
    "soc.sumOfSeries(5)"
   ]
  },
  {
   "cell_type": "markdown",
   "id": "57fed979",
   "metadata": {},
   "source": [
    "#### Reverse an Array"
   ]
  },
  {
   "cell_type": "code",
   "execution_count": 36,
   "id": "29273edf",
   "metadata": {},
   "outputs": [],
   "source": [
    "class Solution:\n",
    "    def reverse(self, i, N, arr):\n",
    "        if i == N//2:\n",
    "            return\n",
    "        arr[i], arr[N-1-i] = arr[N-1-i], arr[i]\n",
    "        self.reverse(i+1, N, arr)\n",
    "        return arr"
   ]
  },
  {
   "cell_type": "code",
   "execution_count": 37,
   "id": "1caa9348",
   "metadata": {},
   "outputs": [
    {
     "name": "stdout",
     "output_type": "stream",
     "text": [
      "[1, 2, 3, 4, 5]\n"
     ]
    }
   ],
   "source": [
    "arr = [5,4,3,2,1]\n",
    "ar = Solution()\n",
    "print(ar.reverse(0, len(arr), arr))"
   ]
  },
  {
   "cell_type": "markdown",
   "id": "c9f403c2",
   "metadata": {},
   "source": [
    "#### Palindrome"
   ]
  },
  {
   "cell_type": "code",
   "execution_count": 87,
   "id": "2edd01ab",
   "metadata": {},
   "outputs": [],
   "source": [
    "class Solution:\n",
    "    def palindrome1(self, start, end, string):\n",
    "        if start >= end:\n",
    "            print('String is a palindrome')\n",
    "            return\n",
    "        if string[start] != string[end]:\n",
    "            print('String is not a palindrome')\n",
    "            return\n",
    "        self.palindrome1(start+1, end-1, string)\n",
    "    \n",
    "    def palindrome2(self, i, string):\n",
    "        if i >= len(string)//2:\n",
    "            return True\n",
    "        if string[i] != string[len(string)-i-1]:\n",
    "            return False\n",
    "        return self.palindrome2(i+1, string)"
   ]
  },
  {
   "cell_type": "code",
   "execution_count": 88,
   "id": "08ad5d82",
   "metadata": {
    "scrolled": true
   },
   "outputs": [
    {
     "name": "stdout",
     "output_type": "stream",
     "text": [
      "String is a palindrome\n",
      "String is palindrome\n"
     ]
    }
   ],
   "source": [
    "string = \"amanaplanacanalpanama\"\n",
    "s = Solution()\n",
    "\n",
    "s.palindrome1(0, len(string)-1, string)\n",
    "\n",
    "if s.palindrome2(0, string):\n",
    "    print('String is palindrome')\n",
    "else:\n",
    "    print('String is not palindrome')"
   ]
  },
  {
   "cell_type": "markdown",
   "id": "8fe58e65",
   "metadata": {},
   "source": [
    "-> `Parameterized vs Functional Recursion` "
   ]
  },
  {
   "cell_type": "markdown",
   "id": "24aa12c5",
   "metadata": {},
   "source": [
    "Parameterized : Function prints\n",
    "\n",
    "Functional    : Function returns"
   ]
  },
  {
   "cell_type": "markdown",
   "id": "6e154548",
   "metadata": {},
   "source": [
    "#### Fibonacci"
   ]
  },
  {
   "cell_type": "code",
   "execution_count": 138,
   "id": "ca4a9f37",
   "metadata": {},
   "outputs": [],
   "source": [
    "class Solution:\n",
    "    def fibonacci(self, n):\n",
    "        if n == 0 or n == 1:\n",
    "            return n\n",
    "        return self.fibonacci(n-1) + self.fibonacci(n-2)\n",
    "    \n",
    "    def fibonacci_series(self, n, arr): \n",
    "        if n == 0 or n == 1:\n",
    "            arr.append(n)\n",
    "            return n \n",
    "        num = self.fibonacci_series(n-1, arr) + self.fibonacci_series(n-2, arr)\n",
    "        arr.append(num)\n",
    "        return num"
   ]
  },
  {
   "cell_type": "code",
   "execution_count": 139,
   "id": "29dbc264",
   "metadata": {},
   "outputs": [
    {
     "name": "stdout",
     "output_type": "stream",
     "text": [
      "21\n"
     ]
    },
    {
     "data": {
      "text/plain": [
       "21"
      ]
     },
     "execution_count": 139,
     "metadata": {},
     "output_type": "execute_result"
    }
   ],
   "source": [
    "# 0, 1, 1, 2, 3, 5, 8, 13, 21, 34, 55, 89\n",
    "s = Solution()\n",
    "\n",
    "s.fibonacci(0)\n",
    "print(s.fibonacci(8))\n",
    "\n",
    "arr = list()\n",
    "s.fibonacci_series(8, arr)\n",
    "#arr"
   ]
  },
  {
   "cell_type": "markdown",
   "id": "ec39909f",
   "metadata": {},
   "source": [
    "#### Subsequences"
   ]
  },
  {
   "cell_type": "code",
   "execution_count": 1,
   "id": "ec0edad5",
   "metadata": {},
   "outputs": [],
   "source": [
    "# contiguous and non-contiguous\n",
    "\n",
    "class Solution:\n",
    "    def subsequence(self, index, sub, arr):\n",
    "        if index == len(arr):\n",
    "            print(sub)\n",
    "            return\n",
    "        \n",
    "        ## Can reverse below 2 conditions\n",
    "        \n",
    "        # take or pick particular index into the subsequence\n",
    "        sub.append(arr[index])\n",
    "        self.subsequence(index+1, sub, arr)\n",
    "        \n",
    "        # not pick or not take condition, i.e, this element is not added to your subsequence\n",
    "        sub.pop()\n",
    "        self.subsequence(index+1, sub, arr)"
   ]
  },
  {
   "cell_type": "code",
   "execution_count": 158,
   "id": "c3e93c9d",
   "metadata": {},
   "outputs": [
    {
     "name": "stdout",
     "output_type": "stream",
     "text": [
      "[3, 1, 2]\n",
      "[3, 1]\n",
      "[3, 2]\n",
      "[3]\n",
      "[1, 2]\n",
      "[1]\n",
      "[2]\n",
      "[]\n"
     ]
    }
   ],
   "source": [
    "s = Solution()\n",
    "arr = [3,1,2]\n",
    "sub = list()\n",
    "s.subsequence(0, sub, arr)"
   ]
  },
  {
   "cell_type": "markdown",
   "id": "ee179b39",
   "metadata": {},
   "source": [
    "Problems on Subsequences"
   ]
  },
  {
   "cell_type": "markdown",
   "id": "10802555",
   "metadata": {},
   "source": [
    "https://youtu.be/eQCS_v3bw0Q"
   ]
  },
  {
   "cell_type": "markdown",
   "id": "3665ceed",
   "metadata": {},
   "source": [
    "1. SUM"
   ]
  },
  {
   "cell_type": "code",
   "execution_count": 7,
   "id": "41f9a79e",
   "metadata": {},
   "outputs": [],
   "source": [
    "class Solution:\n",
    "    def subsequence(self, index, sub, arr, s, summ):\n",
    "        if index == len(arr):\n",
    "            if summ == s:\n",
    "                print(sub)\n",
    "            return\n",
    "        \n",
    "        ## Can reverse below 2 conditions\n",
    "        \n",
    "        # take or pick particular index into the subsequence\n",
    "        sub.append(arr[index])\n",
    "        summ += arr[index]   # For matching sum of subsequence\n",
    "        self.subsequence(index+1, sub, arr, s, summ)\n",
    "        \n",
    "        # not pick or not take condition, i.e, this element is not added to your subsequence\n",
    "        sub.pop()\n",
    "        summ -= arr[index]   # For matching sum of subsequence\n",
    "        self.subsequence(index+1, sub, arr, s, summ)"
   ]
  },
  {
   "cell_type": "code",
   "execution_count": 9,
   "id": "0c185d3d",
   "metadata": {},
   "outputs": [
    {
     "name": "stdout",
     "output_type": "stream",
     "text": [
      "[3, 2]\n",
      "[1, 4]\n",
      "[5]\n"
     ]
    }
   ],
   "source": [
    "s = Solution()\n",
    "arr = [3,1,5,2,4]\n",
    "sub = list()\n",
    "s.subsequence(0, sub, arr, 5, 0)"
   ]
  },
  {
   "cell_type": "markdown",
   "id": "9817d3a0",
   "metadata": {},
   "source": [
    "2. SINGLE SUBARRAY"
   ]
  },
  {
   "cell_type": "code",
   "execution_count": 12,
   "id": "618f66c1",
   "metadata": {},
   "outputs": [],
   "source": [
    "class Solution:\n",
    "    def subsequence(self, index, sub, arr, s, summ):\n",
    "        if index == len(arr):\n",
    "            if summ == s:\n",
    "                print(sub)\n",
    "                return True\n",
    "            else:\n",
    "                return False\n",
    "        \n",
    "        sub.append(arr[index])\n",
    "        summ += arr[index]\n",
    "        if self.subsequence(index+1, sub, arr, s, summ):\n",
    "            return True\n",
    "        \n",
    "        sub.pop()\n",
    "        summ -= arr[index]\n",
    "        if self.subsequence(index+1, sub, arr, s, summ):\n",
    "            return True\n",
    "        \n",
    "        return False"
   ]
  },
  {
   "cell_type": "code",
   "execution_count": 13,
   "id": "5a1cf9fe",
   "metadata": {},
   "outputs": [
    {
     "name": "stdout",
     "output_type": "stream",
     "text": [
      "[3, 2]\n"
     ]
    },
    {
     "data": {
      "text/plain": [
       "True"
      ]
     },
     "execution_count": 13,
     "metadata": {},
     "output_type": "execute_result"
    }
   ],
   "source": [
    "s = Solution()\n",
    "arr = [3,1,5,2,4]\n",
    "sub = list()\n",
    "s.subsequence(0, sub, arr, 5, 0)"
   ]
  },
  {
   "cell_type": "markdown",
   "id": "4b7090e2",
   "metadata": {},
   "source": [
    "3. COUNT SUBSEQUENCES"
   ]
  },
  {
   "cell_type": "code",
   "execution_count": 33,
   "id": "725cc405",
   "metadata": {},
   "outputs": [],
   "source": [
    "class Solution:\n",
    "    def subsequence(self, index, arr, s, summ, count):\n",
    "        if index == len(arr):\n",
    "            if summ == s:\n",
    "                return 1\n",
    "            else:\n",
    "                return 0\n",
    "        \n",
    "        sub.append(arr[index])\n",
    "        summ += arr[index]\n",
    "        left = self.subsequence(index+1, arr, s, summ, count)\n",
    "        \n",
    "        sub.pop()\n",
    "        summ -= arr[index]\n",
    "        right = self.subsequence(index+1, arr, s, summ, count)\n",
    "        \n",
    "        return left+right"
   ]
  },
  {
   "cell_type": "code",
   "execution_count": 34,
   "id": "112d1f54",
   "metadata": {},
   "outputs": [
    {
     "data": {
      "text/plain": [
       "3"
      ]
     },
     "execution_count": 34,
     "metadata": {},
     "output_type": "execute_result"
    }
   ],
   "source": [
    "s = Solution()\n",
    "arr = [3,1,5,2,4]\n",
    "sub = list()\n",
    "s.subsequence(0, arr, 5, 0, 0)"
   ]
  },
  {
   "cell_type": "code",
   "execution_count": null,
   "id": "51ba424e",
   "metadata": {},
   "outputs": [],
   "source": []
  }
 ],
 "metadata": {
  "kernelspec": {
   "display_name": "Python 3 (ipykernel)",
   "language": "python",
   "name": "python3"
  },
  "language_info": {
   "codemirror_mode": {
    "name": "ipython",
    "version": 3
   },
   "file_extension": ".py",
   "mimetype": "text/x-python",
   "name": "python",
   "nbconvert_exporter": "python",
   "pygments_lexer": "ipython3",
   "version": "3.9.16"
  },
  "varInspector": {
   "cols": {
    "lenName": 16,
    "lenType": 16,
    "lenVar": 40
   },
   "kernels_config": {
    "python": {
     "delete_cmd_postfix": "",
     "delete_cmd_prefix": "del ",
     "library": "var_list.py",
     "varRefreshCmd": "print(var_dic_list())"
    },
    "r": {
     "delete_cmd_postfix": ") ",
     "delete_cmd_prefix": "rm(",
     "library": "var_list.r",
     "varRefreshCmd": "cat(var_dic_list()) "
    }
   },
   "types_to_exclude": [
    "module",
    "function",
    "builtin_function_or_method",
    "instance",
    "_Feature"
   ],
   "window_display": false
  }
 },
 "nbformat": 4,
 "nbformat_minor": 5
}
