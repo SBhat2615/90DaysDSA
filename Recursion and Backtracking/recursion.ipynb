{
 "cells": [
  {
   "cell_type": "code",
   "execution_count": null,
   "id": "f9db4a1c",
   "metadata": {},
   "outputs": [],
   "source": []
  },
  {
   "cell_type": "code",
   "execution_count": null,
   "id": "77e24c63",
   "metadata": {},
   "outputs": [],
   "source": []
  },
  {
   "cell_type": "code",
   "execution_count": null,
   "id": "8188fac7",
   "metadata": {},
   "outputs": [],
   "source": []
  },
  {
   "cell_type": "markdown",
   "id": "f130da36",
   "metadata": {},
   "source": [
    "#### Sum of Cube"
   ]
  },
  {
   "cell_type": "code",
   "execution_count": 1,
   "id": "fed0b42e",
   "metadata": {},
   "outputs": [],
   "source": [
    "class Solution:\n",
    "    def sumOfSeries(self,N):\n",
    "        #code here\n",
    "        sum = 0\n",
    "        def cubicSum(n):\n",
    "            if n == 1:\n",
    "                return 1\n",
    "            cs = n*n*n\n",
    "            return cs + cubicSum(n-1)\n",
    "            \n",
    "        sum = cubicSum(N)\n",
    "        return sum"
   ]
  },
  {
   "cell_type": "code",
   "execution_count": 2,
   "id": "6897f753",
   "metadata": {},
   "outputs": [
    {
     "data": {
      "text/plain": [
       "225"
      ]
     },
     "execution_count": 2,
     "metadata": {},
     "output_type": "execute_result"
    }
   ],
   "source": [
    "# TLE for large test cases\n",
    "soc = Solution()\n",
    "soc.sumOfSeries(5)"
   ]
  },
  {
   "cell_type": "markdown",
   "id": "57fed979",
   "metadata": {},
   "source": [
    "#### Reverse an Array"
   ]
  },
  {
   "cell_type": "code",
   "execution_count": 14,
   "id": "29273edf",
   "metadata": {},
   "outputs": [],
   "source": [
    "# Sol 1, using extra array\n",
    "class Solution:\n",
    "    def arrayReverse(self, N, arr):\n",
    "        #code here\n",
    "        i, j = 0, N-1\n",
    "        def swap(i, j, arr):\n",
    "            if i < j:\n",
    "                arr[i], arr[j] = arr[j], arr[i]\n",
    "                print(arr)\n",
    "                swap(i+1, j-1, arr)\n",
    "        return arr"
   ]
  },
  {
   "cell_type": "code",
   "execution_count": 15,
   "id": "1caa9348",
   "metadata": {},
   "outputs": [
    {
     "name": "stdout",
     "output_type": "stream",
     "text": [
      "[5, 4, 3, 2, 1]\n"
     ]
    }
   ],
   "source": [
    "arr = [5,4,3,2,1]\n",
    "N = len(arr)\n",
    "ar = Solution()\n",
    "print(ar.arrayReverse(N, arr))"
   ]
  },
  {
   "cell_type": "code",
   "execution_count": null,
   "id": "91529a51",
   "metadata": {},
   "outputs": [],
   "source": []
  }
 ],
 "metadata": {
  "kernelspec": {
   "display_name": "Python 3 (ipykernel)",
   "language": "python",
   "name": "python3"
  },
  "language_info": {
   "codemirror_mode": {
    "name": "ipython",
    "version": 3
   },
   "file_extension": ".py",
   "mimetype": "text/x-python",
   "name": "python",
   "nbconvert_exporter": "python",
   "pygments_lexer": "ipython3",
   "version": "3.9.13"
  }
 },
 "nbformat": 4,
 "nbformat_minor": 5
}
