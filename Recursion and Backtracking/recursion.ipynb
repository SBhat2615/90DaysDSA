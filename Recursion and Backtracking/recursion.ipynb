{
 "cells": [
  {
   "cell_type": "markdown",
   "id": "42d981db",
   "metadata": {},
   "source": [
    "# Striver"
   ]
  },
  {
   "cell_type": "markdown",
   "id": "4e5dce16",
   "metadata": {},
   "source": [
    "#### Sum of Numbers"
   ]
  },
  {
   "cell_type": "code",
   "execution_count": 66,
   "id": "8188fac7",
   "metadata": {},
   "outputs": [],
   "source": [
    "class Solution:\n",
    "    def sum1(self, i, N, S):\n",
    "        if i > N:\n",
    "            print('Sum1 = ', S)\n",
    "            return\n",
    "        self.sum1(i+1, N, S+i)\n",
    "    \n",
    "    def sum2(self, N):\n",
    "        if N == 0:\n",
    "            return 0\n",
    "        return N + self.sum2(N-1)"
   ]
  },
  {
   "cell_type": "code",
   "execution_count": 67,
   "id": "2580f45d",
   "metadata": {
    "scrolled": true
   },
   "outputs": [
    {
     "name": "stdout",
     "output_type": "stream",
     "text": [
      "Enter a number: 5\n",
      "Sum1 =  15\n",
      "Sum2 =  15\n"
     ]
    }
   ],
   "source": [
    "sm = Solution()\n",
    "N = int(input('Enter a number: '))\n",
    "sm.sum1(1, N, 0)\n",
    "print('Sum2 = ', sm.sum2(N))"
   ]
  },
  {
   "cell_type": "markdown",
   "id": "d19ccf46",
   "metadata": {},
   "source": [
    "#### Factorial"
   ]
  },
  {
   "cell_type": "code",
   "execution_count": 20,
   "id": "44b9db3d",
   "metadata": {},
   "outputs": [],
   "source": [
    "class Factorial:\n",
    "    def method1(self,X):\n",
    "        if X == 1:\n",
    "            return 1\n",
    "        return X * self.method1(X-1)"
   ]
  },
  {
   "cell_type": "code",
   "execution_count": 22,
   "id": "b662b990",
   "metadata": {},
   "outputs": [
    {
     "name": "stdout",
     "output_type": "stream",
     "text": [
      "Enter a number: 5\n",
      "Factorial =  120\n"
     ]
    }
   ],
   "source": [
    "f = Factorial()\n",
    "X = int(input('Enter a number: '))\n",
    "print('Factorial = ', f.method1(X))"
   ]
  },
  {
   "cell_type": "markdown",
   "id": "f130da36",
   "metadata": {},
   "source": [
    "#### Sum of Cube"
   ]
  },
  {
   "cell_type": "code",
   "execution_count": 1,
   "id": "fed0b42e",
   "metadata": {},
   "outputs": [],
   "source": [
    "class Solution:\n",
    "    def sumOfSeries(self,N):\n",
    "        #code here\n",
    "        sum = 0\n",
    "        def cubicSum(n):\n",
    "            if n == 1:\n",
    "                return 1\n",
    "            cs = n*n*n\n",
    "            return cs + cubicSum(n-1)\n",
    "            \n",
    "        sum = cubicSum(N)\n",
    "        return sum"
   ]
  },
  {
   "cell_type": "code",
   "execution_count": 2,
   "id": "6897f753",
   "metadata": {},
   "outputs": [
    {
     "data": {
      "text/plain": [
       "225"
      ]
     },
     "execution_count": 2,
     "metadata": {},
     "output_type": "execute_result"
    }
   ],
   "source": [
    "# TLE for large test cases\n",
    "soc = Solution()\n",
    "soc.sumOfSeries(5)"
   ]
  },
  {
   "cell_type": "markdown",
   "id": "57fed979",
   "metadata": {},
   "source": [
    "#### Reverse an Array"
   ]
  },
  {
   "cell_type": "code",
   "execution_count": 36,
   "id": "29273edf",
   "metadata": {},
   "outputs": [],
   "source": [
    "class Solution:\n",
    "    def reverse(self, i, N, arr):\n",
    "        if i == N//2:\n",
    "            return\n",
    "        arr[i], arr[N-1-i] = arr[N-1-i], arr[i]\n",
    "        self.reverse(i+1, N, arr)\n",
    "        return arr"
   ]
  },
  {
   "cell_type": "code",
   "execution_count": 37,
   "id": "1caa9348",
   "metadata": {},
   "outputs": [
    {
     "name": "stdout",
     "output_type": "stream",
     "text": [
      "[1, 2, 3, 4, 5]\n"
     ]
    }
   ],
   "source": [
    "arr = [5,4,3,2,1]\n",
    "ar = Solution()\n",
    "print(ar.reverse(0, len(arr), arr))"
   ]
  },
  {
   "cell_type": "markdown",
   "id": "777470f6",
   "metadata": {},
   "source": [
    "#### Palindrome"
   ]
  },
  {
   "cell_type": "code",
   "execution_count": 87,
   "id": "4471e9d3",
   "metadata": {},
   "outputs": [],
   "source": [
    "class Solution:\n",
    "    def palindrome1(self, start, end, string):\n",
    "        if start >= end:\n",
    "            print('String is a palindrome')\n",
    "            return\n",
    "        if string[start] != string[end]:\n",
    "            print('String is not a palindrome')\n",
    "            return\n",
    "        self.palindrome1(start+1, end-1, string)\n",
    "    \n",
    "    def palindrome2(self, i, string):\n",
    "        if i >= len(string)//2:\n",
    "            return True\n",
    "        if string[i] != string[len(string)-i-1]:\n",
    "            return False\n",
    "        return self.palindrome2(i+1, string)"
   ]
  },
  {
   "cell_type": "code",
   "execution_count": 88,
   "id": "6b84d007",
   "metadata": {
    "scrolled": true
   },
   "outputs": [
    {
     "name": "stdout",
     "output_type": "stream",
     "text": [
      "String is a palindrome\n",
      "String is palindrome\n"
     ]
    }
   ],
   "source": [
    "string = \"amanaplanacanalpanama\"\n",
    "s = Solution()\n",
    "\n",
    "s.palindrome1(0, len(string)-1, string)\n",
    "\n",
    "if s.palindrome2(0, string):\n",
    "    print('String is palindrome')\n",
    "else:\n",
    "    print('String is not palindrome')"
   ]
  },
  {
   "cell_type": "markdown",
   "id": "fcb1729f",
   "metadata": {},
   "source": [
    "-> `Parameterized vs Functional Recursion` "
   ]
  },
  {
   "cell_type": "markdown",
   "id": "2773cca5",
   "metadata": {},
   "source": [
    "Parameterized : Function prints\n",
    "\n",
    "Functional    : Function returns"
   ]
  },
  {
   "cell_type": "code",
   "execution_count": null,
   "id": "01254621",
   "metadata": {},
   "outputs": [],
   "source": []
  }
 ],
 "metadata": {
  "kernelspec": {
   "display_name": "Python 3 (ipykernel)",
   "language": "python",
   "name": "python3"
  },
  "language_info": {
   "codemirror_mode": {
    "name": "ipython",
    "version": 3
   },
   "file_extension": ".py",
   "mimetype": "text/x-python",
   "name": "python",
   "nbconvert_exporter": "python",
   "pygments_lexer": "ipython3",
   "version": "3.9.16"
  }
 },
 "nbformat": 4,
 "nbformat_minor": 5
}
