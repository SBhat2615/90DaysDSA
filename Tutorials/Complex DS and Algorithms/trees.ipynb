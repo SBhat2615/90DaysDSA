{
 "cells": [
  {
   "cell_type": "markdown",
   "id": "649f13b8",
   "metadata": {},
   "source": [
    "# CodeBasics"
   ]
  },
  {
   "cell_type": "markdown",
   "id": "adf4d4f9",
   "metadata": {},
   "source": [
    "https://www.youtube.com/watch?v=4r_XR9fUPhQ"
   ]
  },
  {
   "cell_type": "code",
   "execution_count": 39,
   "id": "7374eda0",
   "metadata": {},
   "outputs": [],
   "source": [
    "class TreeNode:\n",
    "    def __init__(self, data):\n",
    "        self.data = data\n",
    "        self.children = []\n",
    "        self.parent = None\n",
    "        \n",
    "    def add_child(self, child):\n",
    "        child.parent = self\n",
    "        self.children.append(child)\n",
    "         \n",
    "    def get_level(self):\n",
    "        level = 0\n",
    "        p = self.parent\n",
    "        while p:\n",
    "            level += 1\n",
    "            p = p.parent\n",
    "        return level\n",
    "    \n",
    "    def print_tree(self):\n",
    "        lvl = self.get_level()\n",
    "        print_prefix = ' '*3 * lvl + '|--' if self.parent else ''\n",
    "        print(print_prefix + self.data)\n",
    "        if len(self.children):\n",
    "            for child in self.children:\n",
    "                child.print_tree()\n",
    "        \n",
    "        \n",
    "def Build_Product_Tree():\n",
    "    root = TreeNode(\"Electronics\")\n",
    "    \n",
    "    laptop = TreeNode(\"Laptop\")\n",
    "    laptop.add_child(TreeNode(\"mac\"))\n",
    "    laptop.add_child(TreeNode(\"surface\"))\n",
    "    laptop.add_child(TreeNode(\"thinkpad\"))\n",
    "    \n",
    "    cellphone = TreeNode(\"Cellphone\")\n",
    "    cellphone.add_child(TreeNode(\"iphone\"))\n",
    "    cellphone.add_child(TreeNode(\"pixel\"))\n",
    "    cellphone.add_child(TreeNode(\"vivo\"))\n",
    "    \n",
    "    tv = TreeNode(\"TV\")\n",
    "    tv.add_child(TreeNode(\"LG\"))\n",
    "    tv.add_child(TreeNode(\"Samung\"))\n",
    "    \n",
    "    root.add_child(laptop)\n",
    "    root.add_child(cellphone)\n",
    "    root.add_child(tv)\n",
    "    \n",
    "    return root"
   ]
  },
  {
   "cell_type": "code",
   "execution_count": 40,
   "id": "a9d30921",
   "metadata": {},
   "outputs": [
    {
     "name": "stdout",
     "output_type": "stream",
     "text": [
      "Electronics\n",
      "   |--Laptop\n",
      "      |--mac\n",
      "      |--surface\n",
      "      |--thinkpad\n",
      "   |--Cellphone\n",
      "      |--iphone\n",
      "      |--pixel\n",
      "      |--vivo\n",
      "   |--TV\n",
      "      |--LG\n",
      "      |--Samung\n",
      "None\n"
     ]
    }
   ],
   "source": [
    "if __name__==\"__main__\":\n",
    "    root = Build_Product_Tree()\n",
    "    print(root.print_tree())"
   ]
  },
  {
   "cell_type": "markdown",
   "id": "269422e4",
   "metadata": {},
   "source": [
    "#### Exercise"
   ]
  },
  {
   "cell_type": "markdown",
   "id": "938d1951",
   "metadata": {},
   "source": [
    "- https://github.com/codebasics/data-structures-algorithms-python/blob/master/data_structures/7_Tree/7_tree_exercise.md"
   ]
  },
  {
   "cell_type": "markdown",
   "id": "dcf86c04",
   "metadata": {},
   "source": [
    "QUESTION 1"
   ]
  },
  {
   "cell_type": "code",
   "execution_count": 82,
   "id": "76e9712e",
   "metadata": {},
   "outputs": [],
   "source": [
    "\n",
    "class TreeNode:\n",
    "    def __init__(self, name, designation):\n",
    "        self.name = name\n",
    "        self.designation = designation\n",
    "        self.children = []\n",
    "        self.parent = None\n",
    "        \n",
    "    def add_child(self, child):\n",
    "        child.parent = self\n",
    "        self.children.append(child)\n",
    "        \n",
    "    def get_level(self):\n",
    "        level = 0\n",
    "        p = self.parent\n",
    "        while p:\n",
    "            level += 1\n",
    "            p = p.parent\n",
    "        return level\n",
    "        \n",
    "    def modified_print(self, data):\n",
    "        lvl = self.get_level()\n",
    "        #print(lvl)\n",
    "        prefix = ' '*2 * lvl + '|--' if self.parent else ''\n",
    "        if data == 'name':\n",
    "            suffix = self.name\n",
    "        elif data == 'designation':\n",
    "            suffix = self.designation\n",
    "        elif data == 'both':\n",
    "            suffix = self.name + ' '*2 + '(' + self.designation + ')'\n",
    "        \n",
    "        print(prefix + suffix)\n",
    "        if len(self.children):\n",
    "            for child in self.children:\n",
    "                child.modified_print(data)\n",
    "                \n",
    "                \n",
    "def build_management_tree():\n",
    "    root = TreeNode(\"Nilpul\", \"CEO\")\n",
    "    \n",
    "    # root child 1\n",
    "    cto = TreeNode(\"Chinmay\", \"CTO\")\n",
    "    root.add_child(cto)\n",
    "    # cto child 1\n",
    "    Infra = TreeNode(\"Vishwa\", \"Infrastructure Head\")\n",
    "    cto.add_child(Infra)\n",
    "    Infra.add_child(TreeNode(\"Dhaval\", \"Cloud Manager\"))\n",
    "    Infra.add_child(TreeNode(\"Abhijit\", \"App Manager\"))\n",
    "    # cto child 2\n",
    "    App = TreeNode(\"Aamir\", \"Application Head\")\n",
    "    cto.add_child(App)\n",
    "    \n",
    "    # root child 2\n",
    "    hr = TreeNode(\"Gels\", \"HR HEAD\")\n",
    "    root.add_child(hr)\n",
    "    # hr child 1\n",
    "    hr.add_child(TreeNode(\"Peter\", \"Recruitment Manager\"))\n",
    "    # hr child 2\n",
    "    hr.add_child(TreeNode(\"Waqas\",\"Policy Manager\"))\n",
    "    \n",
    "    return root"
   ]
  },
  {
   "cell_type": "code",
   "execution_count": 83,
   "id": "bba45568",
   "metadata": {
    "scrolled": true
   },
   "outputs": [
    {
     "name": "stdout",
     "output_type": "stream",
     "text": [
      "Nilpul\n",
      "  |--Chinmay\n",
      "    |--Vishwa\n",
      "      |--Dhaval\n",
      "      |--Abhijit\n",
      "    |--Aamir\n",
      "  |--Gels\n",
      "    |--Peter\n",
      "    |--Waqas\n",
      "\n",
      "CEO\n",
      "  |--CTO\n",
      "    |--Infrastructure Head\n",
      "      |--Cloud Manager\n",
      "      |--App Manager\n",
      "    |--Application Head\n",
      "  |--HR HEAD\n",
      "    |--Recruitment Manager\n",
      "    |--Policy Manager\n",
      "\n",
      "Nilpul  (CEO)\n",
      "  |--Chinmay  (CTO)\n",
      "    |--Vishwa  (Infrastructure Head)\n",
      "      |--Dhaval  (Cloud Manager)\n",
      "      |--Abhijit  (App Manager)\n",
      "    |--Aamir  (Application Head)\n",
      "  |--Gels  (HR HEAD)\n",
      "    |--Peter  (Recruitment Manager)\n",
      "    |--Waqas  (Policy Manager)\n"
     ]
    }
   ],
   "source": [
    "if __name__ == '__main__':\n",
    "    root_node = build_management_tree()\n",
    "    root_node.modified_print(\"name\") # prints only name hierarchy\n",
    "    print()\n",
    "    root_node.modified_print(\"designation\") # prints only designation hierarchy\n",
    "    print()\n",
    "    root_node.modified_print(\"both\") # prints both (name and designation) hierarchy"
   ]
  },
  {
   "cell_type": "code",
   "execution_count": null,
   "id": "32f9f694",
   "metadata": {},
   "outputs": [],
   "source": []
  },
  {
   "cell_type": "markdown",
   "id": "3e25e824",
   "metadata": {},
   "source": [
    "QUESTION 2"
   ]
  },
  {
   "cell_type": "code",
   "execution_count": 1,
   "id": "04c1d34b",
   "metadata": {},
   "outputs": [],
   "source": [
    "class TreeNode:\n",
    "    def __init__(self, data):\n",
    "        self.data = data\n",
    "        self.children = []\n",
    "        self.parent = None\n",
    "        \n",
    "    def add_child(self, child):\n",
    "        child.parent = self\n",
    "        self.children.append(child)\n",
    "         \n",
    "    def get_level(self):\n",
    "        level = 0\n",
    "        p = self.parent\n",
    "        while p:\n",
    "            level += 1\n",
    "            p = p.parent\n",
    "        return level\n",
    "    \n",
    "    def print_tree(self, uptolvl):\n",
    "        lvl = self.get_level()\n",
    "        if lvl > uptolvl:\n",
    "            return\n",
    "        print_prefix = ' '*3 * lvl + '|--' if self.parent else ''\n",
    "        if self.data == None :\n",
    "            print('This should be printed before none')\n",
    "            return\n",
    "        print(print_prefix + self.data)\n",
    "        if len(self.children) and uptolvl:\n",
    "            for child in self.children:\n",
    "                child.print_tree(uptolvl)\n",
    "        \n",
    "        \n",
    "def Build_Location_Tree():\n",
    "    root = TreeNode(\"Global\")\n",
    "    \n",
    "    india = TreeNode(\"India\")\n",
    "    guj = TreeNode(\"Gujarat\")\n",
    "    guj.add_child(TreeNode(\"Ahmedabad\"))\n",
    "    guj.add_child(TreeNode(\"Baroda\"))\n",
    "    kar = TreeNode(\"Karnataka\")\n",
    "    kar.add_child(TreeNode(\"Banglore\"))\n",
    "    kar.add_child(TreeNode(\"Mysore\"))\n",
    "    india.add_child(guj)\n",
    "    india.add_child(kar)\n",
    "    \n",
    "    us = TreeNode(\"USA\")\n",
    "    nj = TreeNode(\"New Jearsey\")\n",
    "    nj.add_child(TreeNode(\"Princeton\"))\n",
    "    nj.add_child(TreeNode(\"Trenton\"))\n",
    "    cal = TreeNode(\"California\")\n",
    "    cal.add_child(TreeNode(\"San Fransisco\"))\n",
    "    cal.add_child(TreeNode(\"Mountain View\"))\n",
    "    cal.add_child(TreeNode(\"Palo Alto\"))\n",
    "    us.add_child(nj)\n",
    "    us.add_child(cal)\n",
    "    \n",
    "    root.add_child(india)\n",
    "    root.add_child(us)\n",
    "    \n",
    "    return root"
   ]
  },
  {
   "cell_type": "code",
   "execution_count": 2,
   "id": "4c848dcc",
   "metadata": {},
   "outputs": [
    {
     "name": "stdout",
     "output_type": "stream",
     "text": [
      "Global\n",
      "   |--India\n",
      "   |--USA\n",
      "None\n",
      "\n",
      "Global\n",
      "   |--India\n",
      "      |--Gujarat\n",
      "      |--Karnataka\n",
      "   |--USA\n",
      "      |--New Jearsey\n",
      "      |--California\n",
      "None\n",
      "\n",
      "Global\n",
      "   |--India\n",
      "      |--Gujarat\n",
      "         |--Ahmedabad\n",
      "         |--Baroda\n",
      "      |--Karnataka\n",
      "         |--Banglore\n",
      "         |--Mysore\n",
      "   |--USA\n",
      "      |--New Jearsey\n",
      "         |--Princeton\n",
      "         |--Trenton\n",
      "      |--California\n",
      "         |--San Fransisco\n",
      "         |--Mountain View\n",
      "         |--Palo Alto\n"
     ]
    }
   ],
   "source": [
    "if __name__==\"__main__\":\n",
    "    root = Build_Location_Tree()\n",
    "    print(root.print_tree(1))\n",
    "    print()\n",
    "    print(root.print_tree(2))\n",
    "    print()\n",
    "    root.print_tree(3)"
   ]
  },
  {
   "cell_type": "code",
   "execution_count": null,
   "id": "ecd1796b",
   "metadata": {},
   "outputs": [],
   "source": []
  },
  {
   "cell_type": "code",
   "execution_count": 3,
   "id": "7ccccb3c",
   "metadata": {},
   "outputs": [
    {
     "data": {
      "text/plain": [
       "[2, 3]"
      ]
     },
     "execution_count": 3,
     "metadata": {},
     "output_type": "execute_result"
    }
   ],
   "source": [
    "arr = [2,3,4,5,6]\n",
    "i = 3\n",
    "arr[:i-1]"
   ]
  },
  {
   "cell_type": "code",
   "execution_count": null,
   "id": "f4340227",
   "metadata": {},
   "outputs": [],
   "source": []
  },
  {
   "cell_type": "markdown",
   "id": "455d77be",
   "metadata": {},
   "source": [
    "# Lucid Programming"
   ]
  },
  {
   "cell_type": "markdown",
   "id": "24843d45",
   "metadata": {},
   "source": [
    "`BINARY TREE`"
   ]
  },
  {
   "cell_type": "markdown",
   "id": "5922905f",
   "metadata": {},
   "source": [
    "           1\n",
    "        /     \\\n",
    "       2       3\n",
    "     /   \\   /   \\\n",
    "     4    5 6     7"
   ]
  },
  {
   "cell_type": "code",
   "execution_count": 21,
   "id": "81c28d15",
   "metadata": {},
   "outputs": [],
   "source": [
    "class Queue(object):\n",
    "    def __init__(self):\n",
    "        self.items = []\n",
    "        \n",
    "    def enqueue(self, item):\n",
    "        self.items.insert(0, item)\n",
    "        \n",
    "    def dequeue(self):\n",
    "        if not self.is_empty():\n",
    "            return self.items.pop()\n",
    "    \n",
    "    def is_empty(self):\n",
    "        return len(self.items) == 0\n",
    "    \n",
    "    def peek(self):\n",
    "        if not self.is_empty():\n",
    "            return self.items[-1].data\n",
    "        \n",
    "    # len() func redefined   \n",
    "    def __len__(self):\n",
    "        return self.size()\n",
    "    \n",
    "    def size(self):\n",
    "        return len(self.items)\n",
    "\n",
    "    \n",
    "    \n",
    "class Node(object):\n",
    "    def __init__(self, data):\n",
    "        self.data = data\n",
    "        self.left = None\n",
    "        self.right = None\n",
    "\n",
    "                \n",
    "        \n",
    "class BinaryTree(object):\n",
    "    def __init__(self, root):\n",
    "        self.root = Node(root)\n",
    "        \n",
    "    def print_tree(self, traversal_type):\n",
    "        if traversal_type == 'preorder':\n",
    "            return self.preorder_print(tree.root, \"\")\n",
    "        \n",
    "        elif traversal_type == 'inorder':\n",
    "            return self.inorder_print(tree.root, \"\")\n",
    "        \n",
    "        elif traversal_type == 'postorder':\n",
    "            return self.postorder_print(tree.root, \"\")\n",
    "        \n",
    "        elif traversal_type == 'levelorder':\n",
    "            return self.levelorder_print(tree.root)\n",
    "        \n",
    "        else:\n",
    "            return False\n",
    "        \n",
    "    \n",
    "    # All 3 are DFS\n",
    "    def preorder_print(self, start, traversal):\n",
    "        \"\"\"Root -> Left -> Right\"\"\"\n",
    "        if start:\n",
    "            traversal += (str(start.data)) + \" - \"\n",
    "            traversal = self.preorder_print(start.left, traversal)\n",
    "            traversal = self.preorder_print(start.right, traversal)\n",
    "        return traversal\n",
    "    \n",
    "    \n",
    "    def inorder_print(self, start, traversal):\n",
    "        \"\"\"Left -> Root -> Right\"\"\"\n",
    "        if start:\n",
    "            traversal = self.inorder_print(start.left, traversal)\n",
    "            traversal += str(start.data) + \" - \"\n",
    "            traversal = self.inorder_print(start.right, traversal)\n",
    "        return traversal\n",
    "    \n",
    "    \n",
    "    def postorder_print(self, start, traversal):\n",
    "        \"\"\"Left -> Right -> Root\"\"\"\n",
    "        if start:\n",
    "            traversal = self.postorder_print(start.left, traversal)\n",
    "            traversal = self.postorder_print(start.right, traversal)\n",
    "            traversal += str(start.data) + \" - \"\n",
    "        return traversal\n",
    "    \n",
    "    \n",
    "    def levelorder_print(self, start):\n",
    "        if start is None:\n",
    "            return\n",
    "        queue = Queue()\n",
    "        queue.enqueue(start)\n",
    "        traversal = \"\"\n",
    "        while len(queue) > 0:\n",
    "            traversal += str(queue.peek()) + \" - \"\n",
    "            node = queue.dequeue()\n",
    "            if node.left:\n",
    "                queue.enqueue(node.left)\n",
    "            if node.right:\n",
    "                queue.enqueue(node.right)\n",
    "        return traversal"
   ]
  },
  {
   "cell_type": "code",
   "execution_count": 22,
   "id": "0f9686b2",
   "metadata": {},
   "outputs": [
    {
     "name": "stdout",
     "output_type": "stream",
     "text": [
      "1 - 2 - 4 - 5 - 3 - 6 - 7 - \n",
      "4 - 2 - 5 - 1 - 6 - 3 - 7 - \n",
      "4 - 5 - 2 - 6 - 7 - 3 - 1 - \n",
      "1 - 2 - 3 - 4 - 5 - 6 - 7 - \n"
     ]
    }
   ],
   "source": [
    "tree = BinaryTree(1)\n",
    "tree.root.left = Node(2)\n",
    "tree.root.right = Node(3)\n",
    "tree.root.left.left = Node(4)\n",
    "tree.root.left.right = Node(5)\n",
    "tree.root.right.left = Node(6)\n",
    "tree.root.right.right = Node(7)\n",
    "\n",
    "print(tree.print_tree('preorder'))\n",
    "print(tree.print_tree('inorder'))\n",
    "print(tree.print_tree('postorder'))\n",
    "print(tree.print_tree('levelorder'))"
   ]
  },
  {
   "cell_type": "code",
   "execution_count": null,
   "id": "95276139",
   "metadata": {},
   "outputs": [],
   "source": []
  },
  {
   "cell_type": "code",
   "execution_count": 33,
   "id": "bdcbf816",
   "metadata": {},
   "outputs": [
    {
     "name": "stdout",
     "output_type": "stream",
     "text": [
      "[[4, 5, 4], [2, 3, 3, 2]]\n"
     ]
    }
   ],
   "source": [
    "a = [(1,2), (4,5,4), (2,0,8), (2,3,3,2)]\n",
    "\n",
    "lst = list()\n",
    "for tup in a:\n",
    "    count = 1\n",
    "    for i in range(0,len(tup)//2):\n",
    "        if tup[i] != tup[len(tup)-1-i]:\n",
    "            count = 0\n",
    "            break\n",
    "    if count == 1:\n",
    "        lst.append(list(tup))\n",
    "print(lst)"
   ]
  },
  {
   "cell_type": "code",
   "execution_count": 2,
   "id": "aa8211c8",
   "metadata": {},
   "outputs": [
    {
     "name": "stdout",
     "output_type": "stream",
     "text": [
      "0 [1, 2]\n",
      "1 [3, 4]\n"
     ]
    }
   ],
   "source": [
    "mat = [[1,2],[3,4]]\n",
    "for i, j in enumerate(mat):\n",
    "    print(i, j)"
   ]
  },
  {
   "cell_type": "code",
   "execution_count": 4,
   "id": "c332aa5c",
   "metadata": {},
   "outputs": [
    {
     "data": {
      "text/plain": [
       "10"
      ]
     },
     "execution_count": 4,
     "metadata": {},
     "output_type": "execute_result"
    }
   ],
   "source": [
    "cnt = [0,[]]\n",
    "cnt[1] = 10\n",
    "cnt[-1]"
   ]
  },
  {
   "cell_type": "code",
   "execution_count": null,
   "id": "d8d2d20b",
   "metadata": {},
   "outputs": [],
   "source": []
  }
 ],
 "metadata": {
  "kernelspec": {
   "display_name": "Python 3 (ipykernel)",
   "language": "python",
   "name": "python3"
  },
  "language_info": {
   "codemirror_mode": {
    "name": "ipython",
    "version": 3
   },
   "file_extension": ".py",
   "mimetype": "text/x-python",
   "name": "python",
   "nbconvert_exporter": "python",
   "pygments_lexer": "ipython3",
   "version": "3.9.16"
  }
 },
 "nbformat": 4,
 "nbformat_minor": 5
}
