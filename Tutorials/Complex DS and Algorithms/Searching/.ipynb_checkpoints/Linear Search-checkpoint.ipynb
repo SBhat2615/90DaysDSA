{
 "cells": [
  {
   "cell_type": "markdown",
   "id": "1bb2ef83",
   "metadata": {},
   "source": [
    "## Lucid Programming"
   ]
  },
  {
   "cell_type": "code",
   "execution_count": 3,
   "id": "108faac3",
   "metadata": {},
   "outputs": [],
   "source": [
    "data = [2,4,5,7,8,9,12,14,17,19,22,25,27,28,33,37]\n",
    "target = 50"
   ]
  },
  {
   "cell_type": "code",
   "execution_count": 7,
   "id": "9189a0d6",
   "metadata": {},
   "outputs": [],
   "source": [
    "def linear_search(data, target):\n",
    "    for i in range((len(data))):\n",
    "        if data[i] == target:\n",
    "            return i\n",
    "    return \"Element Not Found\""
   ]
  },
  {
   "cell_type": "code",
   "execution_count": 8,
   "id": "437594e3",
   "metadata": {},
   "outputs": [
    {
     "data": {
      "text/plain": [
       "'Element Not Found'"
      ]
     },
     "execution_count": 8,
     "metadata": {},
     "output_type": "execute_result"
    }
   ],
   "source": [
    "linear_search(data, target)"
   ]
  },
  {
   "cell_type": "code",
   "execution_count": null,
   "id": "42e0421b",
   "metadata": {},
   "outputs": [],
   "source": []
  }
 ],
 "metadata": {
  "kernelspec": {
   "display_name": "Python 3 (ipykernel)",
   "language": "python",
   "name": "python3"
  },
  "language_info": {
   "codemirror_mode": {
    "name": "ipython",
    "version": 3
   },
   "file_extension": ".py",
   "mimetype": "text/x-python",
   "name": "python",
   "nbconvert_exporter": "python",
   "pygments_lexer": "ipython3",
   "version": "3.9.13"
  }
 },
 "nbformat": 4,
 "nbformat_minor": 5
}
