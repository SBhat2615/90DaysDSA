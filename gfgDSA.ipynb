{
 "cells": [
  {
   "cell_type": "code",
   "execution_count": null,
   "id": "8bcefa05",
   "metadata": {},
   "outputs": [],
   "source": []
  },
  {
   "cell_type": "markdown",
   "id": "ee2f0062",
   "metadata": {},
   "source": [
    "#### TRAILING ZEROES IN FACTORIAL"
   ]
  },
  {
   "cell_type": "code",
   "execution_count": 69,
   "id": "83a24d40",
   "metadata": {},
   "outputs": [],
   "source": [
    "class Solution:\n",
    "    def naive(self, n):\n",
    "        fact, res = 1, 0\n",
    "        for i in range(2, n+1):\n",
    "            fact *= i\n",
    "        while not fact%10:\n",
    "            res += 1\n",
    "            fact //= 10\n",
    "        return res\n",
    "        \n",
    "    def better(self, n):\n",
    "        fact, res = 1, 0\n",
    "        two, five = 0, 0\n",
    "        for i in range(2, n+1):\n",
    "            while i % 5 == 0:\n",
    "                res += 1\n",
    "                i //= 5\n",
    "        return res\n",
    "    \n",
    "    def best(self, n):\n",
    "        res = 0\n",
    "        i = 5\n",
    "        while i <= n:\n",
    "            res += n // i\n",
    "            i *= 5\n",
    "        return res"
   ]
  },
  {
   "cell_type": "code",
   "execution_count": 71,
   "id": "e3765fa5",
   "metadata": {},
   "outputs": [
    {
     "name": "stdout",
     "output_type": "stream",
     "text": [
      "1 ->  24\n",
      "2 ->  24\n",
      "3 ->  24\n"
     ]
    }
   ],
   "source": [
    "s = Solution()\n",
    "n = 100\n",
    "print('1 -> ', s.naive(n))\n",
    "print('2 -> ', s.better(n))\n",
    "print('3 -> ', s.best(n))"
   ]
  },
  {
   "cell_type": "markdown",
   "id": "cc8b43c0",
   "metadata": {},
   "source": [
    "#### GCD & HCF"
   ]
  },
  {
   "cell_type": "code",
   "execution_count": 22,
   "id": "45c49cd5",
   "metadata": {},
   "outputs": [],
   "source": [
    "class GCD:\n",
    "    def naive(self, m, n):\n",
    "        # O(min(m, n)) -> divisor (decrement)\n",
    "        pass\n",
    "    \n",
    "    def euclid(self, m, n):\n",
    "        while m != n:\n",
    "            if m > n:\n",
    "                m = m - n\n",
    "            else:\n",
    "                n = n - m\n",
    "        return m\n",
    "    \n",
    "    def optimized(self, m, n):\n",
    "        if n == 0:\n",
    "            return m\n",
    "        return self.optimized(n, m%n)"
   ]
  },
  {
   "cell_type": "code",
   "execution_count": 23,
   "id": "5a7d6be0",
   "metadata": {},
   "outputs": [
    {
     "name": "stdout",
     "output_type": "stream",
     "text": [
      "2\n",
      "2\n"
     ]
    }
   ],
   "source": [
    "s = GCD()\n",
    "m, n = 4, 6\n",
    "print(s.euclid(m,n))\n",
    "print(s.optimized(m,n))"
   ]
  },
  {
   "cell_type": "markdown",
   "id": "173edebb",
   "metadata": {},
   "source": [
    "##### LCM"
   ]
  },
  {
   "cell_type": "code",
   "execution_count": 24,
   "id": "748d09dc",
   "metadata": {},
   "outputs": [],
   "source": [
    "class LCM:\n",
    "    def naive(self, m, n):\n",
    "        # O(m*n-max(m,n))\n",
    "        pass\n",
    "        \n",
    "    def optimized(self, m, n):\n",
    "        # (m*n) // gcd(m,n)\n",
    "        # O(log(min(m,n)))\n",
    "        pass"
   ]
  },
  {
   "cell_type": "code",
   "execution_count": null,
   "id": "b33108c3",
   "metadata": {},
   "outputs": [],
   "source": [
    "s = LCM()\n",
    "m, n = 4, 6\n",
    "# 2,8 -> 8\n",
    "# 3,7 -> 21\n",
    "# print(s.naive(m,n))\n",
    "# print(s.optimized(m,n))"
   ]
  },
  {
   "cell_type": "markdown",
   "id": "22969afd",
   "metadata": {},
   "source": [
    "#### isPRIME"
   ]
  },
  {
   "cell_type": "code",
   "execution_count": 28,
   "id": "33defbf8",
   "metadata": {},
   "outputs": [],
   "source": [
    "class isPRIME:\n",
    "    def better(self,n):\n",
    "        # loop until sqrt(n)\n",
    "        pass\n",
    "    \n",
    "    def best(self, n):\n",
    "        if n == 1:\n",
    "            return True\n",
    "        if n == 2 or n == 3:\n",
    "            return False\n",
    "        if n%2 == 0 or n%3 == 0:\n",
    "            return False\n",
    "        i = 5\n",
    "        while i*i <= n:\n",
    "            if n%i == 0 or n%(i+2) == 0:\n",
    "                return False\n",
    "            i += 6\n",
    "        return True"
   ]
  },
  {
   "cell_type": "code",
   "execution_count": 32,
   "id": "0a93e606",
   "metadata": {},
   "outputs": [
    {
     "name": "stdout",
     "output_type": "stream",
     "text": [
      "True\n"
     ]
    }
   ],
   "source": [
    "s = isPRIME()\n",
    "n = 14\n",
    "n = 53\n",
    "#print(s.better(n))\n",
    "print(s.best(n))"
   ]
  },
  {
   "cell_type": "markdown",
   "id": "97409378",
   "metadata": {},
   "source": [
    "#### PRIME FACTORIZATION"
   ]
  },
  {
   "cell_type": "code",
   "execution_count": 75,
   "id": "f0f6150d",
   "metadata": {},
   "outputs": [],
   "source": [
    "class pFactor:\n",
    "    def isPrime(self, n):\n",
    "        for i in range(2, n):\n",
    "            if n%i == 0:\n",
    "                return False\n",
    "        return True\n",
    "        \n",
    "    def naive(self, n):\n",
    "        lst = list()\n",
    "        i = 2\n",
    "        while n != 1:\n",
    "            while (not n%i) and self.isPrime(i):\n",
    "                n = n // i\n",
    "                lst.append(i)\n",
    "            i += 1\n",
    "        return lst"
   ]
  },
  {
   "cell_type": "code",
   "execution_count": 76,
   "id": "867198ea",
   "metadata": {},
   "outputs": [
    {
     "name": "stdout",
     "output_type": "stream",
     "text": [
      "[2, 2, 17]\n"
     ]
    }
   ],
   "source": [
    "s = pFactor()\n",
    "n = 68\n",
    "print(s.naive(n))"
   ]
  },
  {
   "cell_type": "markdown",
   "id": "6523fabc",
   "metadata": {},
   "source": [
    "#### DIVISORS"
   ]
  },
  {
   "cell_type": "code",
   "execution_count": 121,
   "id": "be0df945",
   "metadata": {},
   "outputs": [],
   "source": [
    "class Divisors:\n",
    "    def naive(self, n):\n",
    "        lst = list()\n",
    "        for i in range(1, n+1):\n",
    "            if n%i == 0:\n",
    "                lst.append(i)\n",
    "        return lst\n",
    "    \n",
    "    def efficient(self, n):\n",
    "        lst = list()\n",
    "        i = 1\n",
    "        while i*i < n:\n",
    "            if n%i == 0:\n",
    "                lst.append(i)\n",
    "            i += 1\n",
    "        while i >= 1:\n",
    "            if n%i == 0:\n",
    "                lst.append(int(n//i))\n",
    "            i -= 1\n",
    "        return lst"
   ]
  },
  {
   "cell_type": "code",
   "execution_count": 122,
   "id": "44a672bd",
   "metadata": {},
   "outputs": [
    {
     "name": "stdout",
     "output_type": "stream",
     "text": [
      "[1, 5, 25]\n",
      "[1, 5, 25]\n"
     ]
    }
   ],
   "source": [
    "s = Divisors()\n",
    "n = 25\n",
    "print(s.naive(n))\n",
    "print(s.efficient(n))"
   ]
  },
  {
   "cell_type": "markdown",
   "id": "4765d61e",
   "metadata": {},
   "source": [
    "#### SIEVE OF ERATOSTHENES"
   ]
  },
  {
   "cell_type": "code",
   "execution_count": null,
   "id": "dd344ff4",
   "metadata": {},
   "outputs": [],
   "source": [
    "class Divisors:\n",
    "    def naive(self, n):\n",
    "        # O(n)\n",
    "    \n",
    "    def efficient(self, n):\n",
    "        lst = list()\n",
    "        i = 1\n",
    "        while i*i < n:\n",
    "            if n%i == 0:\n",
    "                lst.append(i)\n",
    "            i += 1\n",
    "        while i >= 1:\n",
    "            if n%i == 0:\n",
    "                lst.append(int(n//i))\n",
    "            i -= 1\n",
    "        return lst"
   ]
  },
  {
   "cell_type": "markdown",
   "id": "8c3d250d",
   "metadata": {},
   "source": [
    "# LISTS"
   ]
  },
  {
   "cell_type": "code",
   "execution_count": 4,
   "id": "bf385f53",
   "metadata": {},
   "outputs": [
    {
     "name": "stdout",
     "output_type": "stream",
     "text": [
      "3\n"
     ]
    }
   ],
   "source": [
    "lst = [10, 20, 30, 40, 50, 60]\n",
    "print(lst.index(40, 3, 5))\n",
    "# print(lst.index(40, 3, 5))"
   ]
  },
  {
   "cell_type": "code",
   "execution_count": 9,
   "id": "72173f57",
   "metadata": {},
   "outputs": [
    {
     "data": {
      "text/plain": [
       "[20, 30, 40]"
      ]
     },
     "execution_count": 9,
     "metadata": {},
     "output_type": "execute_result"
    }
   ],
   "source": [
    "lst = [10, 20, 30, 40, 50, 60]\n",
    "del lst[4:]\n",
    "lst.remove(10)\n",
    "lst"
   ]
  },
  {
   "cell_type": "markdown",
   "id": "955c8f26",
   "metadata": {},
   "source": [
    "#### SETS VS LISTS"
   ]
  },
  {
   "cell_type": "markdown",
   "id": "81d6e3a3",
   "metadata": {},
   "source": [
    "https://lucasmagnum.medium.com/pythontip-list-vs-set-performance-experiments-dfbe4f72d47f"
   ]
  },
  {
   "cell_type": "markdown",
   "id": "cb2c7cdb",
   "metadata": {},
   "source": [
    "https://towardsdatascience.com/python-lists-vs-sets-39bd6b5745e1"
   ]
  },
  {
   "cell_type": "markdown",
   "id": "c7536690",
   "metadata": {},
   "source": [
    "#### SLICING"
   ]
  },
  {
   "cell_type": "code",
   "execution_count": 23,
   "id": "df5db078",
   "metadata": {},
   "outputs": [
    {
     "name": "stdout",
     "output_type": "stream",
     "text": [
      "[60]\n",
      "[60]\n"
     ]
    }
   ],
   "source": [
    "lst = [10, 20, 30, 40, 50, 60] \n",
    "print(lst[:4:-1])\n",
    "print(lst[:-2:-1])"
   ]
  },
  {
   "cell_type": "code",
   "execution_count": 24,
   "id": "38405801",
   "metadata": {},
   "outputs": [
    {
     "name": "stdout",
     "output_type": "stream",
     "text": [
      "False\n",
      "False\n",
      "True\n"
     ]
    }
   ],
   "source": [
    "l1 = [10, 20, 30]\n",
    "l2 = l1[:]\n",
    "\n",
    "t1 = (10, 20, 30)\n",
    "t2 = t1[:]\n",
    "\n",
    "s1 = \"geeks\"\n",
    "s2 = s1[:]\n",
    "\n",
    "print(l1 in l2)\n",
    "print(t1 in t2)\n",
    "print(s1 in s2) # same string"
   ]
  },
  {
   "cell_type": "markdown",
   "id": "4b655c93",
   "metadata": {},
   "source": [
    "#### LIST COMPREHENSIONS"
   ]
  },
  {
   "cell_type": "code",
   "execution_count": 29,
   "id": "9deccdf1",
   "metadata": {},
   "outputs": [
    {
     "data": {
      "text/plain": [
       "[0, 2, 4, 6, 8, 10]"
      ]
     },
     "execution_count": 29,
     "metadata": {},
     "output_type": "execute_result"
    }
   ],
   "source": [
    "lst1 = [i for i in range(11) if i%2 == 0]\n",
    "lst1"
   ]
  },
  {
   "cell_type": "code",
   "execution_count": 31,
   "id": "592e9a94",
   "metadata": {},
   "outputs": [
    {
     "data": {
      "text/plain": [
       "['gfg', 'geeks']"
      ]
     },
     "execution_count": 31,
     "metadata": {},
     "output_type": "execute_result"
    }
   ],
   "source": [
    "lst = [\"gfg\", \"sdf\", \"tew\", \"geeks\"]\n",
    "lst2 = [x for x in lst if x.startswith('g')]\n",
    "lst2"
   ]
  },
  {
   "cell_type": "markdown",
   "id": "d45b78e5",
   "metadata": {},
   "source": [
    "#### SET COMPREHENSIONS"
   ]
  },
  {
   "cell_type": "code",
   "execution_count": 33,
   "id": "7a4d97cf",
   "metadata": {},
   "outputs": [
    {
     "data": {
      "text/plain": [
       "{10, 40, 54, 60}"
      ]
     },
     "execution_count": 33,
     "metadata": {},
     "output_type": "execute_result"
    }
   ],
   "source": [
    "lst = [10, 21, 33, 40, 54, 60] \n",
    "sett = {x for x in lst if x%2 == 0}\n",
    "sett"
   ]
  },
  {
   "cell_type": "markdown",
   "id": "2d7dffef",
   "metadata": {},
   "source": [
    "#### DICTIONARY COMPREHENSIONS"
   ]
  },
  {
   "cell_type": "code",
   "execution_count": 34,
   "id": "2d7c800a",
   "metadata": {},
   "outputs": [
    {
     "data": {
      "text/plain": [
       "{0: 'ID0', 1: 'ID1', 2: 'ID2', 3: 'ID3', 4: 'ID4', 5: 'ID5'}"
      ]
     },
     "execution_count": 34,
     "metadata": {},
     "output_type": "execute_result"
    }
   ],
   "source": [
    "d1 = {x: f'ID{x}' for x in range(6)}\n",
    "d1"
   ]
  },
  {
   "cell_type": "code",
   "execution_count": 35,
   "id": "b41f5080",
   "metadata": {
    "scrolled": true
   },
   "outputs": [
    {
     "data": {
      "text/plain": [
       "{'skd': 101, 'iee': 102, 'kfg': 103}"
      ]
     },
     "execution_count": 35,
     "metadata": {},
     "output_type": "execute_result"
    }
   ],
   "source": [
    "# Reverse dictionary\n",
    "d = {101:\"skd\", 102:\"iee\", 103:\"kfg\"}\n",
    "d2 = {v:k for k, v in d.items()}\n",
    "d2"
   ]
  },
  {
   "cell_type": "markdown",
   "id": "f55f3529",
   "metadata": {},
   "source": [
    "#### EXTRA"
   ]
  },
  {
   "cell_type": "code",
   "execution_count": 7,
   "id": "60ce3ea3",
   "metadata": {},
   "outputs": [
    {
     "name": "stdout",
     "output_type": "stream",
     "text": [
      "[60, 50, 40, 30, 20, 10]\n",
      "[60, 50, 40, 30, 20, 10]\n"
     ]
    },
    {
     "data": {
      "text/plain": [
       "[10, 20, 30, 40, 50, 60]"
      ]
     },
     "execution_count": 7,
     "metadata": {},
     "output_type": "execute_result"
    }
   ],
   "source": [
    "# 1\n",
    "lst = [10, 20, 30, 40, 50, 60]\n",
    "l2 = list(reversed(lst))\n",
    "print(l2)\n",
    "# 2\n",
    "lst.reverse()\n",
    "print(lst)\n",
    "# 3\n",
    "lst[::-1]"
   ]
  },
  {
   "cell_type": "markdown",
   "id": "0d8a439f",
   "metadata": {},
   "source": [
    "#### REMOVE DUPLICATES FROM SORTED"
   ]
  },
  {
   "cell_type": "code",
   "execution_count": 11,
   "id": "3cf5b1da",
   "metadata": {},
   "outputs": [],
   "source": [
    "def removeD(lst, n):\n",
    "    res = 1\n",
    "    for i in range(1,n):\n",
    "        if lst[res-1] != lst[i]:\n",
    "            lst[res] = lst[i]\n",
    "            res += 1\n",
    "    return res"
   ]
  },
  {
   "cell_type": "code",
   "execution_count": 14,
   "id": "8e213010",
   "metadata": {},
   "outputs": [
    {
     "data": {
      "text/plain": [
       "[10, 20, 30, 40]"
      ]
     },
     "execution_count": 14,
     "metadata": {},
     "output_type": "execute_result"
    }
   ],
   "source": [
    "lst = [10, 20, 20, 30, 40, 40]\n",
    "res = removeD(lst, len(lst))\n",
    "lst[:res]"
   ]
  },
  {
   "cell_type": "markdown",
   "id": "5dee7f0e",
   "metadata": {},
   "source": [
    "#### LEFT ROTATE LIST BY 1"
   ]
  },
  {
   "cell_type": "code",
   "execution_count": 44,
   "id": "479cbc47",
   "metadata": {},
   "outputs": [],
   "source": [
    "class LeftRotate:\n",
    "    def ap1(self, lst, n):\n",
    "        lst = lst[1:] + lst[:1]\n",
    "        return lst\n",
    "    \n",
    "    def ap2(self, lst, n):\n",
    "        lst.append(lst.pop(0))\n",
    "    \n",
    "    def ap3(self, lst, n):\n",
    "        lst.append(lst[0])\n",
    "        del lst[0]\n",
    "        \n",
    "    def ap4(self, lst, n):\n",
    "        tmp = lst[0]\n",
    "        for i in range(n-1):\n",
    "            lst[i] = lst[i+1]\n",
    "        lst[n-1] = tmp\n",
    "        return lst"
   ]
  },
  {
   "cell_type": "code",
   "execution_count": 45,
   "id": "d132f3a7",
   "metadata": {
    "scrolled": true
   },
   "outputs": [
    {
     "name": "stdout",
     "output_type": "stream",
     "text": [
      "[20, 30, 40, 50, 60, 10]\n",
      "[20, 30, 40, 50, 60, 10]\n",
      "[20, 30, 40, 50, 60, 10]\n",
      "[20, 30, 40, 50, 60, 10]\n"
     ]
    }
   ],
   "source": [
    "s = LeftRotate()\n",
    "lst = [10, 20, 30, 40, 50, 60]\n",
    "l1 = s.ap1(lst, len(lst))\n",
    "print(l1)\n",
    "\n",
    "lst = [10, 20, 30, 40, 50, 60]\n",
    "s.ap2(lst, len(lst))\n",
    "print(lst)\n",
    "\n",
    "lst = [10, 20, 30, 40, 50, 60]\n",
    "s.ap3(lst, len(lst))\n",
    "print(lst)\n",
    "\n",
    "lst = [10, 20, 30, 40, 50, 60]\n",
    "s.ap4(lst, len(lst))\n",
    "print(lst)"
   ]
  },
  {
   "cell_type": "code",
   "execution_count": null,
   "id": "ca1f04da",
   "metadata": {},
   "outputs": [],
   "source": []
  },
  {
   "cell_type": "markdown",
   "id": "c06711ed",
   "metadata": {},
   "source": [
    "# RECURSION"
   ]
  },
  {
   "cell_type": "code",
   "execution_count": null,
   "id": "c4fc745f",
   "metadata": {},
   "outputs": [],
   "source": [
    "# Tail Recursion - Function doesn't do anything after last recursive call - More optimized\n",
    "# Tail Call Elimination"
   ]
  },
  {
   "cell_type": "code",
   "execution_count": 44,
   "id": "7956ed90",
   "metadata": {},
   "outputs": [
    {
     "data": {
      "text/plain": [
       "4"
      ]
     },
     "execution_count": 44,
     "metadata": {},
     "output_type": "execute_result"
    }
   ],
   "source": [
    "def logarithm(x):\n",
    "    if x <= 1:\n",
    "        return 0\n",
    "    return 1+logarithm(x/2)\n",
    "\n",
    "logarithm(8.2)  # ceil"
   ]
  },
  {
   "cell_type": "code",
   "execution_count": 49,
   "id": "2fedc069",
   "metadata": {
    "scrolled": true
   },
   "outputs": [
    {
     "name": "stdout",
     "output_type": "stream",
     "text": [
      "1\n",
      "1\n",
      "0\n",
      "1\n"
     ]
    }
   ],
   "source": [
    "def binary(x):\n",
    "    if x == 0:\n",
    "        return\n",
    "    binary(x//2)\n",
    "    print(x%2)\n",
    "    \n",
    "binary(13)"
   ]
  },
  {
   "cell_type": "code",
   "execution_count": 61,
   "id": "a2a12737",
   "metadata": {},
   "outputs": [
    {
     "data": {
      "text/plain": [
       "10"
      ]
     },
     "execution_count": 61,
     "metadata": {},
     "output_type": "execute_result"
    }
   ],
   "source": [
    "def sumofdigits(x):\n",
    "    if x <= 0:\n",
    "        return 0\n",
    "    return x%10 + sumofdigits(x//10)\n",
    "\n",
    "sumofdigits(1234)"
   ]
  },
  {
   "cell_type": "code",
   "execution_count": 76,
   "id": "cc52be62",
   "metadata": {
    "scrolled": true
   },
   "outputs": [
    {
     "data": {
      "text/plain": [
       "False"
      ]
     },
     "execution_count": 76,
     "metadata": {},
     "output_type": "execute_result"
    }
   ],
   "source": [
    "def palindromeCheck(s, start, end):\n",
    "    if start >= end:\n",
    "        return True\n",
    "    if s[start] != s[end]:\n",
    "        return False\n",
    "    return palindromeCheck(s, start+1, end-1)\n",
    "\n",
    "s = 'bc'\n",
    "palindromeCheck(s, 0, len(s)-1)"
   ]
  },
  {
   "cell_type": "markdown",
   "id": "2694b970",
   "metadata": {},
   "source": [
    "ROPE CUTTING"
   ]
  },
  {
   "cell_type": "code",
   "execution_count": 146,
   "id": "ed3d3da3",
   "metadata": {
    "scrolled": true
   },
   "outputs": [
    {
     "data": {
      "text/plain": [
       "5"
      ]
     },
     "execution_count": 146,
     "metadata": {},
     "output_type": "execute_result"
    }
   ],
   "source": [
    "# O(3^n)\n",
    "def ropeCutting(n, a, b, c):\n",
    "    if n <= -1:\n",
    "        return -1\n",
    "    if n == 0:\n",
    "        return 0\n",
    "    res = max(ropeCutting(n-a, a, b, c), ropeCutting(n-b, a, b, c), ropeCutting(n-c, a, b, c))\n",
    "    if res == -1:\n",
    "        return -1\n",
    "    return res+1\n",
    "\n",
    "n, a, b, c = 5, 2, 5, 1\n",
    "ropeCutting(n, a, b, c)\n",
    "\n",
    "# Better - dp"
   ]
  },
  {
   "cell_type": "markdown",
   "id": "51c12b6a",
   "metadata": {},
   "source": [
    "SUBSET"
   ]
  },
  {
   "cell_type": "code",
   "execution_count": 6,
   "id": "023440ae",
   "metadata": {},
   "outputs": [
    {
     "name": "stdout",
     "output_type": "stream",
     "text": [
      " c b bc a ac ab abc "
     ]
    }
   ],
   "source": [
    "# O(2^n)\n",
    "def subsets(string, sub, ind):\n",
    "    if ind == len(string):\n",
    "        print(sub, end=' ')\n",
    "        return\n",
    "    subsets(string, sub, ind+1)\n",
    "    subsets(string, sub+string[ind], ind+1)\n",
    "\n",
    "string = 'abc'\n",
    "subsets(string, '', 0)"
   ]
  },
  {
   "cell_type": "markdown",
   "id": "f95faeb2",
   "metadata": {},
   "source": [
    "TOWER OF HANOI"
   ]
  },
  {
   "cell_type": "code",
   "execution_count": null,
   "id": "da29a678",
   "metadata": {},
   "outputs": [],
   "source": [
    "# N-1 disks from A to B , C as auxillary\n",
    "# Nth disk from A to C\n",
    "# N-1 disks from B to C , A as auxillary\n",
    "\n",
    "def toh(n, start, aux, end):\n",
    "    \n",
    "    \n",
    "toh(n, A, B, C)"
   ]
  },
  {
   "cell_type": "markdown",
   "id": "4ba44269",
   "metadata": {},
   "source": [
    "JOSEPHUS"
   ]
  },
  {
   "cell_type": "code",
   "execution_count": null,
   "id": "3aa095e4",
   "metadata": {},
   "outputs": [],
   "source": []
  },
  {
   "cell_type": "markdown",
   "id": "027a13a5",
   "metadata": {},
   "source": [
    "SUBSET SUM"
   ]
  },
  {
   "cell_type": "code",
   "execution_count": null,
   "id": "0db5babc",
   "metadata": {},
   "outputs": [],
   "source": []
  },
  {
   "cell_type": "markdown",
   "id": "4b7a1afa",
   "metadata": {},
   "source": [
    "PERMUTATIONS"
   ]
  },
  {
   "cell_type": "code",
   "execution_count": null,
   "id": "351f7658",
   "metadata": {},
   "outputs": [],
   "source": []
  },
  {
   "cell_type": "markdown",
   "id": "7324d3cd",
   "metadata": {},
   "source": [
    "# SEARCH"
   ]
  },
  {
   "cell_type": "markdown",
   "id": "ad0d8367",
   "metadata": {},
   "source": [
    "BINARY SEARCH"
   ]
  },
  {
   "cell_type": "code",
   "execution_count": 45,
   "id": "ee902c28",
   "metadata": {},
   "outputs": [
    {
     "data": {
      "text/plain": [
       "6"
      ]
     },
     "execution_count": 45,
     "metadata": {},
     "output_type": "execute_result"
    }
   ],
   "source": [
    "def ibinary(lst, ele):\n",
    "    end = len(lst)-1\n",
    "    start = 0\n",
    "    while start<=end:\n",
    "        mid = (start+end)//2\n",
    "        if lst[mid] == ele:\n",
    "            return mid\n",
    "        elif lst[mid] < ele:\n",
    "            start=mid+1\n",
    "        else:\n",
    "            end=mid-1\n",
    "            \n",
    "ibinary([5,10,15,20,25,30,35],35)"
   ]
  },
  {
   "cell_type": "code",
   "execution_count": 46,
   "id": "a7ec441e",
   "metadata": {
    "scrolled": true
   },
   "outputs": [
    {
     "data": {
      "text/plain": [
       "6"
      ]
     },
     "execution_count": 46,
     "metadata": {},
     "output_type": "execute_result"
    }
   ],
   "source": [
    "def rbinary(lst, ele, start, end):\n",
    "    if start > end:\n",
    "        return -1\n",
    "    mid = (start+end)//2\n",
    "    if lst[mid] == ele:\n",
    "        return mid\n",
    "    elif lst[mid] > ele:\n",
    "        return rbinary(lst, ele, start, mid-1)\n",
    "    else:\n",
    "        return rbinary(lst, ele, mid+1, end)\n",
    "\n",
    "lst = [5,10,15,20,25,30,35]\n",
    "rbinary(lst, 35, 0, len(lst)-1)"
   ]
  },
  {
   "cell_type": "raw",
   "id": "e88b8898",
   "metadata": {},
   "source": [
    "# FIRST OCCURENCE (SORTED ARRAY)"
   ]
  },
  {
   "cell_type": "markdown",
   "id": "c1bf3cd7",
   "metadata": {},
   "source": [
    "#### LAST OCCURENCE (SORTED ARRAY)"
   ]
  },
  {
   "cell_type": "code",
   "execution_count": 48,
   "id": "54fe98f8",
   "metadata": {},
   "outputs": [
    {
     "data": {
      "text/plain": [
       "8"
      ]
     },
     "execution_count": 48,
     "metadata": {},
     "output_type": "execute_result"
    }
   ],
   "source": [
    "# Solution 1 - Naive\n",
    "# Solution 2\n",
    "def lastOccur(lst, ele):\n",
    "    start = 0\n",
    "    end = len(lst)-1\n",
    "    # cnt = 0\n",
    "    while start <= end:\n",
    "        mid = (start+end)//2\n",
    "        if lst[mid] == ele:\n",
    "            pos = mid\n",
    "            start = mid+1\n",
    "        elif lst[mid] > ele:\n",
    "            end = mid-1\n",
    "        else:\n",
    "            start = mid+1\n",
    "        # cnt += 1\n",
    "    # print(cnt)\n",
    "    return pos\n",
    "\n",
    "lst = [5,5,5,10,10,15,20,20,20,25]\n",
    "lastOccur(lst, 20)"
   ]
  },
  {
   "cell_type": "markdown",
   "id": "1bccc2e6",
   "metadata": {},
   "source": [
    "#### COUNT OF ELEMENT"
   ]
  },
  {
   "cell_type": "raw",
   "id": "ecd6f2bb",
   "metadata": {},
   "source": [
    "# NAIVE\n",
    "FIND 1 OCCURENCE & TRAVERSE BOTH SIDES (log(n) + k) {k <= n}\n",
    "\n",
    "# EFFICIENT\n",
    "WRITE FUNC FOR FIRST & LAST OCCURENCE (log(n) + log(n))\n",
    "\n",
    "# BINARY LIST\n",
    "FIND FIRST OCCURENCE, THEN N-I+1"
   ]
  },
  {
   "cell_type": "markdown",
   "id": "5e179f3c",
   "metadata": {},
   "source": [
    "#### SQUARE ROOT"
   ]
  },
  {
   "cell_type": "code",
   "execution_count": 120,
   "id": "970a5c8b",
   "metadata": {},
   "outputs": [],
   "source": [
    "# naive - start from 0 & compare"
   ]
  },
  {
   "cell_type": "code",
   "execution_count": 129,
   "id": "83773dc4",
   "metadata": {},
   "outputs": [],
   "source": [
    "# efficient\n",
    "def sroot(x):\n",
    "    l = 0\n",
    "    r = x\n",
    "    ans = 1\n",
    "    while l <= r:\n",
    "        mid = (l+r)//2\n",
    "        if x == mid**2: # and x < (mid+1)**2:\n",
    "            return mid\n",
    "        elif x < mid**2:\n",
    "            r = mid-1\n",
    "        else:\n",
    "            l = mid+1\n",
    "            ans = mid\n",
    "    return ans"
   ]
  },
  {
   "cell_type": "code",
   "execution_count": 130,
   "id": "207985d2",
   "metadata": {},
   "outputs": [
    {
     "data": {
      "text/plain": [
       "5"
      ]
     },
     "execution_count": 130,
     "metadata": {},
     "output_type": "execute_result"
    }
   ],
   "source": [
    "x = 34\n",
    "sroot(x)"
   ]
  },
  {
   "cell_type": "code",
   "execution_count": null,
   "id": "9b80d86b",
   "metadata": {},
   "outputs": [],
   "source": []
  },
  {
   "cell_type": "markdown",
   "id": "11683cfc",
   "metadata": {},
   "source": [
    "# SORTING"
   ]
  },
  {
   "cell_type": "code",
   "execution_count": 133,
   "id": "562397ea",
   "metadata": {},
   "outputs": [],
   "source": [
    "# list.sort() - inplace\n",
    "sorted?"
   ]
  },
  {
   "cell_type": "code",
   "execution_count": 137,
   "id": "e295b714",
   "metadata": {},
   "outputs": [
    {
     "data": {
      "text/plain": [
       "['sd', 'ksdf', 'sdfas', 'sfksssd']"
      ]
     },
     "execution_count": 137,
     "metadata": {},
     "output_type": "execute_result"
    }
   ],
   "source": [
    "# sort based on length of string\n",
    "def myFunc(s):\n",
    "    return len(s)\n",
    "\n",
    "lst = ['ksdf', 'sd', 'sfksssd', 'sdfas']\n",
    "lst.sort(key=myFunc)\n",
    "lst"
   ]
  },
  {
   "cell_type": "markdown",
   "id": "f27a5750",
   "metadata": {},
   "source": [
    "Sorting user defined using _ _ lt _ _ 1 \n",
    "\n",
    "https://ide.geeksforgeeks.org/fczhJmlABG \n",
    "\n",
    "Sorting user defined using _ _ lt _ _ 2 \n",
    "\n",
    "https://ide.geeksforgeeks.org/nwGtlIAr1F"
   ]
  },
  {
   "cell_type": "markdown",
   "id": "d0d21010",
   "metadata": {},
   "source": [
    "**`SORTED`**"
   ]
  },
  {
   "cell_type": "code",
   "execution_count": 139,
   "id": "d85133ea",
   "metadata": {},
   "outputs": [
    {
     "data": {
      "text/plain": [
       "[(1, 8), (2, 3), (10, 15)]"
      ]
     },
     "execution_count": 139,
     "metadata": {},
     "output_type": "execute_result"
    }
   ],
   "source": [
    "dct = {10:'dflks', 5:'iwe', 15:'adjfs'}\n",
    "sorted(dct)\n",
    "\n",
    "tdct = [(10,15),(1,8),(2,3)]\n",
    "sorted(tdct)"
   ]
  },
  {
   "cell_type": "code",
   "execution_count": null,
   "id": "bceb9cbc",
   "metadata": {},
   "outputs": [],
   "source": []
  },
  {
   "cell_type": "markdown",
   "id": "6947b94d",
   "metadata": {},
   "source": [
    "#### BUBBLE SORT"
   ]
  },
  {
   "cell_type": "code",
   "execution_count": null,
   "id": "d3296f2a",
   "metadata": {},
   "outputs": [],
   "source": []
  },
  {
   "cell_type": "markdown",
   "id": "3ea1a24e",
   "metadata": {},
   "source": [
    "#### INSERTION SORT"
   ]
  },
  {
   "cell_type": "code",
   "execution_count": null,
   "id": "8115b627",
   "metadata": {},
   "outputs": [],
   "source": []
  },
  {
   "cell_type": "markdown",
   "id": "77de8e8d",
   "metadata": {},
   "source": [
    "#### MERGESORT"
   ]
  },
  {
   "cell_type": "code",
   "execution_count": null,
   "id": "baa8bf1d",
   "metadata": {},
   "outputs": [],
   "source": []
  },
  {
   "cell_type": "markdown",
   "id": "6ddc52db",
   "metadata": {},
   "source": [
    "#### QUICKSORT"
   ]
  },
  {
   "cell_type": "code",
   "execution_count": null,
   "id": "6e76cda2",
   "metadata": {},
   "outputs": [],
   "source": []
  },
  {
   "cell_type": "code",
   "execution_count": null,
   "id": "965c12e9",
   "metadata": {},
   "outputs": [],
   "source": []
  },
  {
   "cell_type": "code",
   "execution_count": null,
   "id": "bba0f8bd",
   "metadata": {},
   "outputs": [],
   "source": []
  },
  {
   "cell_type": "code",
   "execution_count": null,
   "id": "19e1a76f",
   "metadata": {},
   "outputs": [],
   "source": []
  },
  {
   "cell_type": "code",
   "execution_count": null,
   "id": "c45b0dd2",
   "metadata": {},
   "outputs": [],
   "source": []
  },
  {
   "cell_type": "code",
   "execution_count": null,
   "id": "c9f890d4",
   "metadata": {},
   "outputs": [],
   "source": []
  },
  {
   "cell_type": "markdown",
   "id": "39bb9e79",
   "metadata": {},
   "source": [
    "# DYNAMIC PROGRAMMING"
   ]
  },
  {
   "cell_type": "code",
   "execution_count": 7,
   "id": "38c54faa",
   "metadata": {},
   "outputs": [],
   "source": [
    "# AVOIDING RECOMPUTATION"
   ]
  },
  {
   "cell_type": "markdown",
   "id": "ceafaa12",
   "metadata": {},
   "source": [
    "MEMOIZATION"
   ]
  },
  {
   "cell_type": "code",
   "execution_count": 13,
   "id": "7ca6e888",
   "metadata": {},
   "outputs": [
    {
     "data": {
      "text/plain": [
       "3"
      ]
     },
     "execution_count": 13,
     "metadata": {},
     "output_type": "execute_result"
    }
   ],
   "source": [
    "# 1D - 1 PARAMETER CHANGING\n",
    "# O(2^n)  ->  O(n) {2n-1 function calls : (n+n-1)}\n",
    "\n",
    "memo = [None]*100    # Usually array of size N+1\n",
    "def fibo(n):\n",
    "    if memo[n] != None:\n",
    "        return memo[n]\n",
    "    if n == 0 or n == 1:\n",
    "        memo[n] = n\n",
    "    else:\n",
    "        memo[n] = fibo(n-1)+fibo(n-2)\n",
    "    return memo[n]\n",
    "\n",
    "fibo(4)"
   ]
  },
  {
   "cell_type": "markdown",
   "id": "9d46281e",
   "metadata": {},
   "source": [
    "TABULATION"
   ]
  },
  {
   "cell_type": "code",
   "execution_count": 17,
   "id": "b047a57a",
   "metadata": {},
   "outputs": [
    {
     "data": {
      "text/plain": [
       "3"
      ]
     },
     "execution_count": 17,
     "metadata": {},
     "output_type": "execute_result"
    }
   ],
   "source": [
    "# bottom-up\n",
    "\n",
    "def fibo(n):\n",
    "    dp = [None]*(n+1)\n",
    "    dp[0] = 0\n",
    "    dp[1] = 1\n",
    "    for i in range(2, n+1):\n",
    "        dp[i] = dp[i-1] + dp[i-2]\n",
    "    return dp[n]\n",
    "\n",
    "fibo(4)"
   ]
  },
  {
   "cell_type": "code",
   "execution_count": null,
   "id": "878d1f42",
   "metadata": {},
   "outputs": [],
   "source": []
  },
  {
   "cell_type": "markdown",
   "id": "00e3faa0",
   "metadata": {},
   "source": [
    "# GREEDY"
   ]
  },
  {
   "cell_type": "code",
   "execution_count": null,
   "id": "357e87a1",
   "metadata": {},
   "outputs": [],
   "source": []
  },
  {
   "cell_type": "code",
   "execution_count": null,
   "id": "86ef9529",
   "metadata": {},
   "outputs": [],
   "source": []
  },
  {
   "cell_type": "markdown",
   "id": "1ea2fb2b",
   "metadata": {},
   "source": [
    "# BACKTRACKING"
   ]
  },
  {
   "cell_type": "code",
   "execution_count": null,
   "id": "30783435",
   "metadata": {},
   "outputs": [],
   "source": []
  },
  {
   "cell_type": "code",
   "execution_count": null,
   "id": "61dc28fe",
   "metadata": {},
   "outputs": [],
   "source": []
  },
  {
   "cell_type": "markdown",
   "id": "e0ed7f77",
   "metadata": {},
   "source": [
    "# LINKED LISTS"
   ]
  },
  {
   "cell_type": "code",
   "execution_count": null,
   "id": "61723e71",
   "metadata": {},
   "outputs": [],
   "source": []
  },
  {
   "cell_type": "code",
   "execution_count": null,
   "id": "6ec25246",
   "metadata": {},
   "outputs": [],
   "source": []
  },
  {
   "cell_type": "markdown",
   "id": "0fd5227b",
   "metadata": {},
   "source": [
    "# TREES"
   ]
  },
  {
   "cell_type": "code",
   "execution_count": null,
   "id": "98d115db",
   "metadata": {},
   "outputs": [],
   "source": []
  },
  {
   "cell_type": "code",
   "execution_count": null,
   "id": "e242e592",
   "metadata": {},
   "outputs": [],
   "source": []
  },
  {
   "cell_type": "markdown",
   "id": "d8b4bf57",
   "metadata": {},
   "source": [
    "# GRAPHS"
   ]
  },
  {
   "cell_type": "code",
   "execution_count": null,
   "id": "c64732a6",
   "metadata": {},
   "outputs": [],
   "source": []
  },
  {
   "cell_type": "code",
   "execution_count": null,
   "id": "1245bd3e",
   "metadata": {},
   "outputs": [],
   "source": []
  },
  {
   "cell_type": "code",
   "execution_count": null,
   "id": "403f2752",
   "metadata": {},
   "outputs": [],
   "source": []
  }
 ],
 "metadata": {
  "kernelspec": {
   "display_name": "Python 3 (ipykernel)",
   "language": "python",
   "name": "python3"
  },
  "language_info": {
   "codemirror_mode": {
    "name": "ipython",
    "version": 3
   },
   "file_extension": ".py",
   "mimetype": "text/x-python",
   "name": "python",
   "nbconvert_exporter": "python",
   "pygments_lexer": "ipython3",
   "version": "3.9.16"
  },
  "varInspector": {
   "cols": {
    "lenName": 16,
    "lenType": 16,
    "lenVar": 40
   },
   "kernels_config": {
    "python": {
     "delete_cmd_postfix": "",
     "delete_cmd_prefix": "del ",
     "library": "var_list.py",
     "varRefreshCmd": "print(var_dic_list())"
    },
    "r": {
     "delete_cmd_postfix": ") ",
     "delete_cmd_prefix": "rm(",
     "library": "var_list.r",
     "varRefreshCmd": "cat(var_dic_list()) "
    }
   },
   "types_to_exclude": [
    "module",
    "function",
    "builtin_function_or_method",
    "instance",
    "_Feature"
   ],
   "window_display": false
  }
 },
 "nbformat": 4,
 "nbformat_minor": 5
}
