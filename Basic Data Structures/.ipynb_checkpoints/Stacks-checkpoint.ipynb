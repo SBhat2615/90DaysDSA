{
 "cells": [
  {
   "cell_type": "markdown",
   "id": "1f87b692",
   "metadata": {},
   "source": [
    "# GEEKSFORGEEKS"
   ]
  },
  {
   "cell_type": "markdown",
   "id": "b0c8c333",
   "metadata": {},
   "source": [
    "https://www.geeksforgeeks.org/stack-data-structure/?ref=lbp"
   ]
  },
  {
   "cell_type": "markdown",
   "id": "034b71e8",
   "metadata": {},
   "source": [
    "IMPLEMENTATION OF STACK IN PYTHON"
   ]
  },
  {
   "cell_type": "markdown",
   "id": "aa1cf46d",
   "metadata": {},
   "source": [
    "https://www.geeksforgeeks.org/stack-in-python/"
   ]
  },
  {
   "cell_type": "markdown",
   "id": "aa308341",
   "metadata": {},
   "source": [
    "MONOTONIC STACKS"
   ]
  },
  {
   "cell_type": "markdown",
   "id": "b18bad2a",
   "metadata": {},
   "source": [
    "https://www.geeksforgeeks.org/introduction-to-monotonic-stack/"
   ]
  },
  {
   "cell_type": "code",
   "execution_count": null,
   "id": "b83bda8a",
   "metadata": {},
   "outputs": [],
   "source": []
  },
  {
   "cell_type": "code",
   "execution_count": null,
   "id": "e35c2e71",
   "metadata": {},
   "outputs": [],
   "source": []
  },
  {
   "cell_type": "code",
   "execution_count": null,
   "id": "4e3bdccd",
   "metadata": {},
   "outputs": [],
   "source": []
  },
  {
   "cell_type": "markdown",
   "id": "a5f5566a",
   "metadata": {},
   "source": [
    "# CODEBASICS"
   ]
  },
  {
   "cell_type": "markdown",
   "id": "db4941b8",
   "metadata": {},
   "source": [
    "https://www.youtube.com/watch?v=zwb3GmNAtFk"
   ]
  },
  {
   "cell_type": "markdown",
   "id": "3ab6a873",
   "metadata": {},
   "source": [
    "#### Using List as Stack"
   ]
  },
  {
   "cell_type": "code",
   "execution_count": 13,
   "id": "dddbf176",
   "metadata": {},
   "outputs": [
    {
     "name": "stdout",
     "output_type": "stream",
     "text": [
      "[2, 3, 4, 5]\n",
      "[2, 3, 4]\n"
     ]
    }
   ],
   "source": [
    "lst = [2,3,4]\n",
    "lst.append(5)\n",
    "print(lst)\n",
    "lst.pop()\n",
    "print(lst)"
   ]
  },
  {
   "cell_type": "code",
   "execution_count": 14,
   "id": "5e3b43e6",
   "metadata": {},
   "outputs": [],
   "source": [
    "def isValid(A):\n",
    "    stack = list()\n",
    "    for i in A:\n",
    "        if i == '(' or i == '[' or i == '{':\n",
    "            stack.append(i)\n",
    "        else:\n",
    "            if len(stack) == 0:\n",
    "                return 0\n",
    "            top = stack[-1]\n",
    "            print(top)\n",
    "            if i == ')' and top == '(':\n",
    "                stack.pop()\n",
    "            elif i == '}' and top == '{':\n",
    "                stack.pop()\n",
    "            elif i == ']' and top == '[':\n",
    "                stack.pop()\n",
    "            else:\n",
    "                return 0\n",
    "    if len(stack) != 0:\n",
    "        return 0\n",
    "    return 1"
   ]
  },
  {
   "cell_type": "code",
   "execution_count": 15,
   "id": "900412de",
   "metadata": {},
   "outputs": [
    {
     "data": {
      "text/plain": [
       "0"
      ]
     },
     "execution_count": 15,
     "metadata": {},
     "output_type": "execute_result"
    }
   ],
   "source": [
    "A = \")]\"\n",
    "\n",
    "isValid(A)"
   ]
  },
  {
   "cell_type": "code",
   "execution_count": 16,
   "id": "f90aeafc",
   "metadata": {},
   "outputs": [
    {
     "data": {
      "text/plain": [
       "0"
      ]
     },
     "execution_count": 16,
     "metadata": {},
     "output_type": "execute_result"
    }
   ],
   "source": [
    "A = \"{[\"\n",
    "\n",
    "isValid(A)"
   ]
  },
  {
   "cell_type": "code",
   "execution_count": 17,
   "id": "f0288885",
   "metadata": {},
   "outputs": [
    {
     "data": {
      "text/plain": [
       "0"
      ]
     },
     "execution_count": 17,
     "metadata": {},
     "output_type": "execute_result"
    }
   ],
   "source": [
    "A = \"((((((((((((((((((((((((((((((((((((((((((((((((((((((((((((((((((((((((((((((((((((((((((((((((\"\n",
    "\n",
    "isValid(A)"
   ]
  },
  {
   "cell_type": "markdown",
   "id": "cbbd3037",
   "metadata": {},
   "source": [
    "#### Using Deque as Stack"
   ]
  },
  {
   "cell_type": "code",
   "execution_count": 3,
   "id": "0a1b1f8c",
   "metadata": {},
   "outputs": [],
   "source": [
    "from collections import deque\n",
    "stack = deque()"
   ]
  },
  {
   "cell_type": "code",
   "execution_count": 4,
   "id": "36a058e8",
   "metadata": {
    "collapsed": true
   },
   "outputs": [
    {
     "data": {
      "text/plain": [
       "['__add__',\n",
       " '__bool__',\n",
       " '__class__',\n",
       " '__class_getitem__',\n",
       " '__contains__',\n",
       " '__copy__',\n",
       " '__delattr__',\n",
       " '__delitem__',\n",
       " '__dir__',\n",
       " '__doc__',\n",
       " '__eq__',\n",
       " '__format__',\n",
       " '__ge__',\n",
       " '__getattribute__',\n",
       " '__getitem__',\n",
       " '__gt__',\n",
       " '__hash__',\n",
       " '__iadd__',\n",
       " '__imul__',\n",
       " '__init__',\n",
       " '__init_subclass__',\n",
       " '__iter__',\n",
       " '__le__',\n",
       " '__len__',\n",
       " '__lt__',\n",
       " '__mul__',\n",
       " '__ne__',\n",
       " '__new__',\n",
       " '__reduce__',\n",
       " '__reduce_ex__',\n",
       " '__repr__',\n",
       " '__reversed__',\n",
       " '__rmul__',\n",
       " '__setattr__',\n",
       " '__setitem__',\n",
       " '__sizeof__',\n",
       " '__str__',\n",
       " '__subclasshook__',\n",
       " 'append',\n",
       " 'appendleft',\n",
       " 'clear',\n",
       " 'copy',\n",
       " 'count',\n",
       " 'extend',\n",
       " 'extendleft',\n",
       " 'index',\n",
       " 'insert',\n",
       " 'maxlen',\n",
       " 'pop',\n",
       " 'popleft',\n",
       " 'remove',\n",
       " 'reverse',\n",
       " 'rotate']"
      ]
     },
     "execution_count": 4,
     "metadata": {},
     "output_type": "execute_result"
    }
   ],
   "source": [
    "dir(stack)"
   ]
  },
  {
   "cell_type": "code",
   "execution_count": 12,
   "id": "d9893494",
   "metadata": {},
   "outputs": [
    {
     "data": {
      "text/plain": [
       "deque(['manipal'])"
      ]
     },
     "execution_count": 12,
     "metadata": {},
     "output_type": "execute_result"
    }
   ],
   "source": [
    "stack.append(\"manipal\")\n",
    "stack"
   ]
  },
  {
   "cell_type": "code",
   "execution_count": 13,
   "id": "8e4cde85",
   "metadata": {},
   "outputs": [],
   "source": [
    "stack.append('institute')\n",
    "stack.append('of')\n",
    "stack.append('technology')"
   ]
  },
  {
   "cell_type": "code",
   "execution_count": 14,
   "id": "d5a1f932",
   "metadata": {},
   "outputs": [
    {
     "name": "stdout",
     "output_type": "stream",
     "text": [
      "deque(['manipal', 'institute', 'of', 'technology'])\n"
     ]
    }
   ],
   "source": [
    "print(stack)"
   ]
  },
  {
   "cell_type": "code",
   "execution_count": 15,
   "id": "84932184",
   "metadata": {},
   "outputs": [
    {
     "data": {
      "text/plain": [
       "'technology'"
      ]
     },
     "execution_count": 15,
     "metadata": {},
     "output_type": "execute_result"
    }
   ],
   "source": [
    "stack.pop()"
   ]
  },
  {
   "cell_type": "markdown",
   "id": "1013e612",
   "metadata": {},
   "source": [
    "#### DEQUE VS LIST "
   ]
  },
  {
   "cell_type": "markdown",
   "id": "ffc80268",
   "metadata": {},
   "source": [
    "https://dev.to/v_it_aly/python-deque-vs-listwh-25i9"
   ]
  },
  {
   "cell_type": "markdown",
   "id": "573fefab",
   "metadata": {},
   "source": [
    "https://dev.to/wnleao/python-deque-vs-list-time-comparison-5ch4"
   ]
  },
  {
   "cell_type": "code",
   "execution_count": 4,
   "id": "93b86222",
   "metadata": {},
   "outputs": [],
   "source": [
    "class Stack:\n",
    "    \n",
    "    def __init__(self):\n",
    "        self.container = deque()\n",
    "        \n",
    "    def push(self,val):\n",
    "        self.container.append(val)\n",
    "        \n",
    "    def pop(self):\n",
    "        if not len(self.container):\n",
    "            print('Stack is empty')\n",
    "            return\n",
    "        return self.container.pop()\n",
    "    \n",
    "    def peek(self):\n",
    "        # stack top\n",
    "        return self.container[-1]\n",
    "    \n",
    "    def is_empty(self):\n",
    "        return len(self.container) == 0\n",
    "    \n",
    "    def size(self):\n",
    "        return len(self.container)"
   ]
  },
  {
   "cell_type": "code",
   "execution_count": 47,
   "id": "435dd45e",
   "metadata": {},
   "outputs": [],
   "source": [
    "s = Stack()\n",
    "s.push(5)"
   ]
  },
  {
   "cell_type": "code",
   "execution_count": 48,
   "id": "5db570c9",
   "metadata": {
    "scrolled": false
   },
   "outputs": [
    {
     "data": {
      "text/plain": [
       "5"
      ]
     },
     "execution_count": 48,
     "metadata": {},
     "output_type": "execute_result"
    }
   ],
   "source": [
    "s.peek()"
   ]
  },
  {
   "cell_type": "code",
   "execution_count": 49,
   "id": "0f4813c1",
   "metadata": {},
   "outputs": [
    {
     "data": {
      "text/plain": [
       "5"
      ]
     },
     "execution_count": 49,
     "metadata": {},
     "output_type": "execute_result"
    }
   ],
   "source": [
    "s.pop()"
   ]
  },
  {
   "cell_type": "code",
   "execution_count": 37,
   "id": "da7971d3",
   "metadata": {},
   "outputs": [
    {
     "data": {
      "text/plain": [
       "True"
      ]
     },
     "execution_count": 37,
     "metadata": {},
     "output_type": "execute_result"
    }
   ],
   "source": [
    "s.is_empty()"
   ]
  },
  {
   "cell_type": "code",
   "execution_count": 38,
   "id": "15c3fe40",
   "metadata": {},
   "outputs": [],
   "source": [
    "s.push(23)\n",
    "s.push(5)\n",
    "s.push(10)"
   ]
  },
  {
   "cell_type": "code",
   "execution_count": 39,
   "id": "34003354",
   "metadata": {
    "scrolled": true
   },
   "outputs": [
    {
     "data": {
      "text/plain": [
       "3"
      ]
     },
     "execution_count": 39,
     "metadata": {},
     "output_type": "execute_result"
    }
   ],
   "source": [
    "s.size()"
   ]
  },
  {
   "cell_type": "code",
   "execution_count": null,
   "id": "511dc028",
   "metadata": {},
   "outputs": [],
   "source": []
  },
  {
   "cell_type": "code",
   "execution_count": 8,
   "id": "140640bd",
   "metadata": {},
   "outputs": [
    {
     "name": "stdout",
     "output_type": "stream",
     "text": [
      "6\n",
      "5\n"
     ]
    },
    {
     "ename": "IndexError",
     "evalue": "pop from an empty deque",
     "output_type": "error",
     "traceback": [
      "\u001b[0;31m---------------------------------------------------------------------------\u001b[0m",
      "\u001b[0;31mIndexError\u001b[0m                                Traceback (most recent call last)",
      "Cell \u001b[0;32mIn [8], line 22\u001b[0m\n\u001b[1;32m     20\u001b[0m \u001b[38;5;28mprint\u001b[39m(s\u001b[38;5;241m.\u001b[39mpop())\n\u001b[1;32m     21\u001b[0m \u001b[38;5;28mprint\u001b[39m(s\u001b[38;5;241m.\u001b[39mpop())\n\u001b[0;32m---> 22\u001b[0m \u001b[38;5;28mprint\u001b[39m(\u001b[43ms\u001b[49m\u001b[38;5;241;43m.\u001b[39;49m\u001b[43mpop\u001b[49m\u001b[43m(\u001b[49m\u001b[43m)\u001b[49m)\n",
      "Cell \u001b[0;32mIn [8], line 11\u001b[0m, in \u001b[0;36mStack.pop\u001b[0;34m(self)\u001b[0m\n\u001b[1;32m     10\u001b[0m \u001b[38;5;28;01mdef\u001b[39;00m \u001b[38;5;21mpop\u001b[39m(\u001b[38;5;28mself\u001b[39m):\n\u001b[0;32m---> 11\u001b[0m     \u001b[38;5;28;01mreturn\u001b[39;00m \u001b[38;5;28;43mself\u001b[39;49m\u001b[38;5;241;43m.\u001b[39;49m\u001b[43mcontainer\u001b[49m\u001b[38;5;241;43m.\u001b[39;49m\u001b[43mpop\u001b[49m\u001b[43m(\u001b[49m\u001b[43m)\u001b[49m\n",
      "\u001b[0;31mIndexError\u001b[0m: pop from an empty deque"
     ]
    }
   ],
   "source": [
    "from collections import deque\n",
    "\n",
    "class Stack:\n",
    "    def __init__(self):\n",
    "        self.container = deque()\n",
    "        \n",
    "    def push(self, element):\n",
    "        self.container.append(element)\n",
    "        \n",
    "    def pop(self):\n",
    "        return self.container.pop()\n",
    "    \n",
    "    \n",
    "    \n",
    "s = Stack()\n",
    "\n",
    "s.push(5)\n",
    "s.push(6)\n",
    "\n",
    "print(s.pop())\n",
    "print(s.pop())\n",
    "print(s.pop())\n",
    "\n",
    "\n",
    "\n",
    "    "
   ]
  },
  {
   "cell_type": "markdown",
   "id": "c6880958",
   "metadata": {},
   "source": [
    "##### ASSIGNMENTS"
   ]
  },
  {
   "cell_type": "markdown",
   "id": "e6415e3f",
   "metadata": {},
   "source": [
    "Q1"
   ]
  },
  {
   "cell_type": "code",
   "execution_count": 71,
   "id": "d83e5467",
   "metadata": {},
   "outputs": [],
   "source": [
    "def reverse_string(strg):\n",
    "    s = Stack()\n",
    "    for ch in strg:\n",
    "        s.push(ch)\n",
    "    rstrg = ''\n",
    "    while not s.is_empty():\n",
    "        rstrg += s.pop()\n",
    "    return rstrg"
   ]
  },
  {
   "cell_type": "code",
   "execution_count": 72,
   "id": "751f87fd",
   "metadata": {},
   "outputs": [
    {
     "data": {
      "text/plain": [
       "'91-DIVOC ereuqnoc lliw eW'"
      ]
     },
     "execution_count": 72,
     "metadata": {},
     "output_type": "execute_result"
    }
   ],
   "source": [
    "reverse_string(\"We will conquere COVID-19\")"
   ]
  },
  {
   "cell_type": "markdown",
   "id": "87d7cee4",
   "metadata": {},
   "source": [
    "Q2"
   ]
  },
  {
   "cell_type": "code",
   "execution_count": 5,
   "id": "29cd105a",
   "metadata": {},
   "outputs": [],
   "source": [
    "def is_balanced(strg):\n",
    "    for ch in strg:\n",
    "        if ch == '(' or ch == '[' or ch == '{':\n",
    "            s.push(ch)\n",
    "        if ch == ')' or ch == ']' or ch == '}':\n",
    "            if s.is_empty():\n",
    "                return False\n",
    "            c = s.pop()\n",
    "    return s.is_empty()\n",
    "s = Stack()\n",
    "\n",
    "# Also, do match outer parenthesis for every inner"
   ]
  },
  {
   "cell_type": "code",
   "execution_count": 7,
   "id": "58692f76",
   "metadata": {
    "scrolled": true
   },
   "outputs": [
    {
     "name": "stdout",
     "output_type": "stream",
     "text": [
      "True\n",
      "False\n",
      "True\n",
      "False\n",
      "True\n"
     ]
    }
   ],
   "source": [
    "print(is_balanced(\"({a+b})\"))     # True\n",
    "print(is_balanced(\"))((a+b}{\"))   # False\n",
    "print(is_balanced(\"((a+b))\"))     # True\n",
    "print(is_balanced(\"))\"))          # False\n",
    "print(is_balanced(\"[a+b]*(x+2y)*{gg+kk}\")) # True"
   ]
  },
  {
   "cell_type": "code",
   "execution_count": null,
   "id": "c610c828",
   "metadata": {},
   "outputs": [],
   "source": []
  },
  {
   "cell_type": "markdown",
   "id": "cda4b721",
   "metadata": {},
   "source": [
    "## QUESTIONS"
   ]
  },
  {
   "cell_type": "markdown",
   "id": "7069f6c7",
   "metadata": {},
   "source": [
    "https://www.interviewbit.com/courses/programming/stacks-and-queues"
   ]
  },
  {
   "cell_type": "code",
   "execution_count": null,
   "id": "eea99ab8",
   "metadata": {},
   "outputs": [],
   "source": []
  }
 ],
 "metadata": {
  "kernelspec": {
   "display_name": "Python 3 (ipykernel)",
   "language": "python",
   "name": "python3"
  },
  "language_info": {
   "codemirror_mode": {
    "name": "ipython",
    "version": 3
   },
   "file_extension": ".py",
   "mimetype": "text/x-python",
   "name": "python",
   "nbconvert_exporter": "python",
   "pygments_lexer": "ipython3",
   "version": "3.9.13"
  }
 },
 "nbformat": 4,
 "nbformat_minor": 5
}
