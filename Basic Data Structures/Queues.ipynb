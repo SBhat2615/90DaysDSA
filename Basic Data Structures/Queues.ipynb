{
 "cells": [
  {
   "cell_type": "markdown",
   "id": "02345f20",
   "metadata": {},
   "source": [
    "# CODEBASICS"
   ]
  },
  {
   "cell_type": "markdown",
   "id": "b69e9583",
   "metadata": {},
   "source": [
    "https://youtu.be/rUUrmGKYwHw"
   ]
  },
  {
   "cell_type": "markdown",
   "id": "e46e82b8",
   "metadata": {},
   "source": [
    "#### List as Queue"
   ]
  },
  {
   "cell_type": "code",
   "execution_count": 5,
   "id": "58adabbf",
   "metadata": {},
   "outputs": [],
   "source": [
    "stock_price = []"
   ]
  },
  {
   "cell_type": "code",
   "execution_count": 12,
   "id": "12899690",
   "metadata": {},
   "outputs": [],
   "source": [
    "stock_price.insert(0, 135.22)\n",
    "stock_price.insert(0, 134.99)\n",
    "stock_price.insert(0, 135)"
   ]
  },
  {
   "cell_type": "code",
   "execution_count": 7,
   "id": "68e45d95",
   "metadata": {
    "scrolled": true
   },
   "outputs": [
    {
     "data": {
      "text/plain": [
       "[135, 134.99, 135.22]"
      ]
     },
     "execution_count": 7,
     "metadata": {},
     "output_type": "execute_result"
    }
   ],
   "source": [
    "stock_price"
   ]
  },
  {
   "cell_type": "code",
   "execution_count": 13,
   "id": "ae4b3917",
   "metadata": {},
   "outputs": [
    {
     "data": {
      "text/plain": [
       "135.22"
      ]
     },
     "execution_count": 13,
     "metadata": {},
     "output_type": "execute_result"
    }
   ],
   "source": [
    "stock_price.pop()"
   ]
  },
  {
   "cell_type": "markdown",
   "id": "f4b2d893",
   "metadata": {},
   "source": [
    "#### Deque as Queue"
   ]
  },
  {
   "cell_type": "code",
   "execution_count": 14,
   "id": "d080e54a",
   "metadata": {},
   "outputs": [],
   "source": [
    "from collections import deque\n",
    "q = deque()"
   ]
  },
  {
   "cell_type": "code",
   "execution_count": 15,
   "id": "22a9cf23",
   "metadata": {},
   "outputs": [],
   "source": [
    "q.appendleft(3)\n",
    "q.appendleft(6)\n",
    "q.appendleft(2)"
   ]
  },
  {
   "cell_type": "code",
   "execution_count": 16,
   "id": "ee3cdec6",
   "metadata": {},
   "outputs": [
    {
     "data": {
      "text/plain": [
       "3"
      ]
     },
     "execution_count": 16,
     "metadata": {},
     "output_type": "execute_result"
    }
   ],
   "source": [
    "q.pop()"
   ]
  },
  {
   "cell_type": "code",
   "execution_count": 33,
   "id": "6d3f161a",
   "metadata": {},
   "outputs": [],
   "source": [
    "class Queue:\n",
    "    \n",
    "    def __init__(self):\n",
    "        self.container = deque()\n",
    "        \n",
    "    def enqueue(self,val):\n",
    "        self.container.appendleft(val)\n",
    "        \n",
    "    def dequeue(self):\n",
    "        if not len(self.container):\n",
    "            print('Queue is empty')\n",
    "            return\n",
    "        return self.container.pop()\n",
    "    \n",
    "    def is_empty(self):\n",
    "        return len(self.container)==0\n",
    "    \n",
    "    def size(self):\n",
    "        return len(self.container)"
   ]
  },
  {
   "cell_type": "code",
   "execution_count": 30,
   "id": "fe493e1c",
   "metadata": {},
   "outputs": [],
   "source": [
    "pq = Queue()\n",
    "\n",
    "pq.enqueue({\n",
    "    'company':'WalMart',\n",
    "    'timestamp':'29 Dec, 11:22 AM',\n",
    "    'price': 135.22\n",
    "})\n",
    "pq.enqueue({\n",
    "    'company':'WalMart',\n",
    "    'timestamp':'29 Dec, 11:32 AM',\n",
    "    'price': 134.98\n",
    "})\n",
    "pq.enqueue({\n",
    "    'company':'WalMart',\n",
    "    'timestamp':'29 Dec, 11:42 AM',\n",
    "    'price': 135.46\n",
    "})"
   ]
  },
  {
   "cell_type": "code",
   "execution_count": 27,
   "id": "a69ab2d2",
   "metadata": {
    "scrolled": true
   },
   "outputs": [
    {
     "data": {
      "text/plain": [
       "deque([{'company': 'WalMart',\n",
       "        'timestamp': '29 Dec, 11:42 AM',\n",
       "        'price': 135.46},\n",
       "       {'company': 'WalMart',\n",
       "        'timestamp': '29 Dec, 11:32 AM',\n",
       "        'price': 134.98}])"
      ]
     },
     "execution_count": 27,
     "metadata": {},
     "output_type": "execute_result"
    }
   ],
   "source": [
    "pq.container"
   ]
  },
  {
   "cell_type": "code",
   "execution_count": 26,
   "id": "b66f94c5",
   "metadata": {},
   "outputs": [
    {
     "data": {
      "text/plain": [
       "{'company': 'WalMart', 'timestamp': '29 Dec, 11:22 AM', 'price': 135.22}"
      ]
     },
     "execution_count": 26,
     "metadata": {},
     "output_type": "execute_result"
    }
   ],
   "source": [
    "pq.dequeue()"
   ]
  },
  {
   "cell_type": "code",
   "execution_count": 31,
   "id": "1a1aed04",
   "metadata": {
    "scrolled": true
   },
   "outputs": [
    {
     "data": {
      "text/plain": [
       "3"
      ]
     },
     "execution_count": 31,
     "metadata": {},
     "output_type": "execute_result"
    }
   ],
   "source": [
    "pq.size()"
   ]
  },
  {
   "cell_type": "markdown",
   "id": "13fcc073",
   "metadata": {},
   "source": [
    "##### EXERCISE"
   ]
  },
  {
   "cell_type": "markdown",
   "id": "f6c3b4a8",
   "metadata": {},
   "source": [
    "Q1"
   ]
  },
  {
   "cell_type": "code",
   "execution_count": null,
   "id": "1fe12594",
   "metadata": {},
   "outputs": [],
   "source": []
  },
  {
   "cell_type": "markdown",
   "id": "8d6871a9",
   "metadata": {},
   "source": [
    "Q2"
   ]
  },
  {
   "cell_type": "code",
   "execution_count": 41,
   "id": "b1d61bd7",
   "metadata": {},
   "outputs": [],
   "source": [
    "class Queue:\n",
    "    \n",
    "    def __init__(self):\n",
    "        self.container = deque()\n",
    "        \n",
    "    def enqueue(self,val):\n",
    "        self.container.appendleft(val)\n",
    "        \n",
    "    def dequeue(self):\n",
    "        if not len(self.container):\n",
    "            print('Queue is empty')\n",
    "            return\n",
    "        return self.container.pop()\n",
    "    \n",
    "    def is_empty(self):\n",
    "        return len(self.container)==0\n",
    "    \n",
    "    def size(self):\n",
    "        return len(self.container)\n",
    "    \n",
    "    def front(self):\n",
    "        return self.container[-1]"
   ]
  },
  {
   "cell_type": "code",
   "execution_count": 64,
   "id": "3371dcef",
   "metadata": {},
   "outputs": [],
   "source": [
    "def binary(count): \n",
    "    q2 = Queue()\n",
    "    q2.enqueue('1')\n",
    "    for i in range(count):\n",
    "        front = q2.front()\n",
    "        print(front)\n",
    "        q2.enqueue(front+'0')\n",
    "        q2.enqueue(front+'1')\n",
    "        q2.dequeue()\n",
    "    print(q2.container)"
   ]
  },
  {
   "cell_type": "code",
   "execution_count": 65,
   "id": "6cd691d9",
   "metadata": {},
   "outputs": [
    {
     "name": "stdout",
     "output_type": "stream",
     "text": [
      "1\n",
      "10\n",
      "11\n",
      "100\n",
      "101\n",
      "110\n",
      "111\n",
      "1000\n",
      "1001\n",
      "1010\n",
      "deque(['10101', '10100', '10011', '10010', '10001', '10000', '1111', '1110', '1101', '1100', '1011'])\n"
     ]
    }
   ],
   "source": [
    "binary(10)"
   ]
  },
  {
   "cell_type": "code",
   "execution_count": null,
   "id": "b23a2333",
   "metadata": {},
   "outputs": [],
   "source": []
  }
 ],
 "metadata": {
  "kernelspec": {
   "display_name": "Python 3 (ipykernel)",
   "language": "python",
   "name": "python3"
  },
  "language_info": {
   "codemirror_mode": {
    "name": "ipython",
    "version": 3
   },
   "file_extension": ".py",
   "mimetype": "text/x-python",
   "name": "python",
   "nbconvert_exporter": "python",
   "pygments_lexer": "ipython3",
   "version": "3.9.13"
  }
 },
 "nbformat": 4,
 "nbformat_minor": 5
}
