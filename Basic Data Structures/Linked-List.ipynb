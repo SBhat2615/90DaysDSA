{
 "cells": [
  {
   "cell_type": "markdown",
   "id": "07d8fd84",
   "metadata": {},
   "source": [
    "# Anthony Sistilli"
   ]
  },
  {
   "cell_type": "markdown",
   "id": "d30f9364",
   "metadata": {},
   "source": [
    "https://youtu.be/6sBsF13n5ig"
   ]
  },
  {
   "cell_type": "markdown",
   "id": "7ac11d31",
   "metadata": {},
   "source": [
    "BASIC IMPLEMENTATION"
   ]
  },
  {
   "cell_type": "code",
   "execution_count": 1,
   "id": "e5d927a6",
   "metadata": {},
   "outputs": [],
   "source": [
    "class linkedListNode:\n",
    "    def __init__(self, value, nextNode=None):\n",
    "        self.value = value\n",
    "        self.nextNode = nextNode"
   ]
  },
  {
   "cell_type": "code",
   "execution_count": 7,
   "id": "1c5741ce",
   "metadata": {},
   "outputs": [],
   "source": [
    "node1 = linkedListNode(2)\n",
    "node2 = linkedListNode(5)\n",
    "node3 = linkedListNode(7)"
   ]
  },
  {
   "cell_type": "code",
   "execution_count": 20,
   "id": "a08f7170",
   "metadata": {},
   "outputs": [
    {
     "name": "stdout",
     "output_type": "stream",
     "text": [
      "5\n",
      "7\n"
     ]
    }
   ],
   "source": [
    "node1.nextNode = node2\n",
    "node2.nextNode = node3\n",
    "\n",
    "print(node1.nextNode.value)\n",
    "print(node1.nextNode.nextNode.value)"
   ]
  },
  {
   "cell_type": "code",
   "execution_count": 19,
   "id": "7dbd0ffd",
   "metadata": {},
   "outputs": [
    {
     "name": "stdout",
     "output_type": "stream",
     "text": [
      "2 -> 5 -> 7 -> NULL\n"
     ]
    }
   ],
   "source": [
    "current = node1\n",
    "while True:\n",
    "    print(current.v alue, \"->\", end=' ')\n",
    "    if current.nextNode is None:\n",
    "        print(\"NULL\")\n",
    "        break\n",
    "    current = current.nextNode"
   ]
  },
  {
   "cell_type": "code",
   "execution_count": 21,
   "id": "fb09bf8c",
   "metadata": {},
   "outputs": [],
   "source": [
    "node4 = linkedListNode(9)\n",
    "\n",
    "node3.nextNode = node4"
   ]
  },
  {
   "cell_type": "code",
   "execution_count": 22,
   "id": "5d90a353",
   "metadata": {},
   "outputs": [
    {
     "name": "stdout",
     "output_type": "stream",
     "text": [
      "2 -> 5 -> 7 -> 9 -> NULL\n"
     ]
    }
   ],
   "source": [
    "current = node1\n",
    "while True:\n",
    "    print(current.value, \"->\", end=' ')\n",
    "    if current.nextNode is None:\n",
    "        print(\"NULL\")\n",
    "        break\n",
    "    current = current.nextNode"
   ]
  },
  {
   "cell_type": "code",
   "execution_count": null,
   "id": "1b4d2888",
   "metadata": {},
   "outputs": [],
   "source": []
  },
  {
   "cell_type": "markdown",
   "id": "2acd3c82",
   "metadata": {},
   "source": [
    "# CODEBASICS "
   ]
  },
  {
   "cell_type": "markdown",
   "id": "1b4695c7",
   "metadata": {},
   "source": [
    "https://youtu.be/qp8u-frRAnU"
   ]
  },
  {
   "cell_type": "code",
   "execution_count": 23,
   "id": "8243cf84",
   "metadata": {},
   "outputs": [],
   "source": [
    "class Node:\n",
    "    \n",
    "    def __init__(self, data=None, nextt=None):\n",
    "        self.data = data\n",
    "        self.nextt = nextt"
   ]
  },
  {
   "cell_type": "code",
   "execution_count": 24,
   "id": "164d6a5f",
   "metadata": {},
   "outputs": [],
   "source": [
    "class LinkedList:\n",
    "    \n",
    "    def __init__(self):\n",
    "        self.head = None\n",
    "    \n",
    "    \n",
    "    # Insert data at begining of linked list\n",
    "    def insert_at_begining(self, data):\n",
    "        node = Node(data, self.head)                   # Creates node object, from class Node ....\n",
    "        self.head = node\n",
    "    \n",
    "    \n",
    "    # Insert data at end of linked list\n",
    "    def insert_at_end(self, data):\n",
    "        if self.head is None:\n",
    "            self.head = Node(data, None)\n",
    "            return\n",
    "        \n",
    "        itr = self.head\n",
    "        while itr.nextt:\n",
    "            itr = itr.nextt\n",
    "        itr.nextt = Node(data, None)\n",
    "    \n",
    "    \n",
    "    # Create new linked list with list of items\n",
    "    def insert_values(self, data_list):\n",
    "        self.head = None\n",
    "        for data in data_list:\n",
    "            self.insert_at_end(data)\n",
    "    \n",
    "    \n",
    "    # Print elements in the list\n",
    "    def print_list(self):\n",
    "        if self.head is None:\n",
    "            print('Linked list is empty !!')\n",
    "            return\n",
    "        \n",
    "        itr = self.head\n",
    "        llstr = ''\n",
    "        while itr:\n",
    "            #print(\"Current \", itr, \" --- Next \", itr.nextt)\n",
    "            llstr += str(itr.data) + ' --> '\n",
    "            itr = itr.nextt\n",
    "            if itr is None:\n",
    "                llstr += 'None'\n",
    "        print(llstr)\n",
    "        \n",
    "        \n",
    "    # Length of the linked list\n",
    "    def get_length(self):\n",
    "        count = 0\n",
    "        itr = self.head\n",
    "        while itr:\n",
    "            count += 1\n",
    "            itr = itr.nextt\n",
    "        return count\n",
    "    \n",
    "    \n",
    "    # Remove element at specific index\n",
    "    def remove_at(self, index):\n",
    "        \n",
    "        if index < 0 or index >= self.get_length():\n",
    "            raise Exception(\"Invalid index\")    #print(\"Index out of range\")\n",
    "            return\n",
    "        \n",
    "        # Remove element at begining\n",
    "        if index == 0:\n",
    "            self.head = self.head.nextt\n",
    "            return\n",
    "        \n",
    "        # Remove element elsewhere\n",
    "        count = 0\n",
    "        itr = self.head\n",
    "        while itr:\n",
    "            if count == index-1:\n",
    "                itr.nextt = itr.nextt.nextt\n",
    "                break\n",
    "            count += 1\n",
    "            itr = itr.nextt\n",
    "            \n",
    "            \n",
    "    # Insert element at specific index\n",
    "    def insert_at(self, index, data):\n",
    "        if index < 0 or index > self.get_length():\n",
    "            raise Exception(\"Invalid index\")\n",
    "            return\n",
    "        \n",
    "        # Insert at begining\n",
    "        if index == 0:\n",
    "            self.insert_at_begining(data)\n",
    "            return\n",
    "        \n",
    "        # Other cases\n",
    "        count = 0\n",
    "        itr = self.head\n",
    "        while itr:\n",
    "            if count == index-1:\n",
    "                node = Node(data, itr.nextt)\n",
    "                itr.nextt = node\n",
    "                break\n",
    "                \n",
    "            count += 1\n",
    "            itr = itr.nextt\n",
    "            "
   ]
  },
  {
   "cell_type": "code",
   "execution_count": 25,
   "id": "3e54b8fc",
   "metadata": {
    "scrolled": true
   },
   "outputs": [
    {
     "name": "stdout",
     "output_type": "stream",
     "text": [
      "Apple --> Orange --> Grapes --> Banana --> None\n",
      "Apple --> Orange --> Banana --> None\n",
      "Musumbi --> Apple --> Orange --> Banana --> None\n",
      "Musumbi --> Apple --> Guava --> Orange --> Banana --> None\n",
      "Length of the list =  5\n"
     ]
    }
   ],
   "source": [
    "if __name__ == '__main__':\n",
    "    ll = LinkedList()\n",
    "    \n",
    "#     ll.insert_at_begining(34)\n",
    "#     ll.insert_at_begining(19)\n",
    "#     ll.insert_at_end(30)\n",
    "#     ll.insert_at_end(50)\n",
    "#     ll.print_list()\n",
    "\n",
    "    ll.insert_values([\"Apple\", \"Orange\", \"Grapes\", \"Banana\"])\n",
    "    ll.print_list()\n",
    "    \n",
    "    ll.remove_at(2)\n",
    "    ll.print_list()\n",
    "    \n",
    "    ll.insert_at(0, \"Musumbi\")\n",
    "    ll.print_list()\n",
    "    \n",
    "    ll.insert_at(2, \"Guava\")\n",
    "    ll.print_list()\n",
    "    \n",
    "    print('Length of the list = ', ll.get_length())\n",
    "    #print(ll)"
   ]
  },
  {
   "cell_type": "markdown",
   "id": "46098af5",
   "metadata": {},
   "source": [
    "### EXERCISE"
   ]
  },
  {
   "cell_type": "markdown",
   "id": "8129f65e",
   "metadata": {},
   "source": [
    "https://github.com/codebasics/data-structures-algorithms-python/blob/master/data_structures/3_LinkedList/3_linked_list_exercise.md"
   ]
  },
  {
   "cell_type": "markdown",
   "id": "e4e983b3",
   "metadata": {},
   "source": [
    "Q1"
   ]
  },
  {
   "cell_type": "code",
   "execution_count": 17,
   "id": "a322590d",
   "metadata": {},
   "outputs": [],
   "source": [
    "class LinkedList:\n",
    "    \n",
    "    def __init__(self):\n",
    "        self.head = None\n",
    "        \n",
    "    # Insert data at begining of linked list\n",
    "    def insert_at_begining(self, data):\n",
    "        node = Node(data, self.head)\n",
    "        self.head = node\n",
    "    \n",
    "    \n",
    "    # Insert data at end of linked list\n",
    "    def insert_at_end(self, data):\n",
    "        if self.head is None:\n",
    "            self.head = Node(data, None)\n",
    "            return\n",
    "        \n",
    "        itr = self.head\n",
    "        while itr.nextt:\n",
    "            itr = itr.nextt\n",
    "        itr.nextt = Node(data, None)\n",
    "    \n",
    "    \n",
    "    # Create new linked list with list of items\n",
    "    def insert_values(self, data_list):\n",
    "        self.head = None\n",
    "        for data in data_list:\n",
    "            self.insert_at_end(data)\n",
    "    \n",
    "    \n",
    "    # Print elements in the list\n",
    "    def print_list(self):\n",
    "        if self.head is None:\n",
    "            print('Linked list is empty !!')\n",
    "            return\n",
    "        \n",
    "        itr = self.head\n",
    "        llstr = ''\n",
    "        while itr:\n",
    "            llstr += str(itr.data) + ' --> '\n",
    "            itr = itr.nextt\n",
    "        print(llstr)\n",
    "        \n",
    "        \n",
    "    # Length of the linked list\n",
    "    def get_length(self):\n",
    "        count = 0\n",
    "        itr = self.head\n",
    "        while itr:\n",
    "            count += 1\n",
    "            itr = itr.nextt\n",
    "        return count\n",
    "    \n",
    "    \n",
    "    # Remove element at specific index\n",
    "    def remove_at(self, index):\n",
    "        \n",
    "        if index < 0 or index >= self.get_length():\n",
    "            raise Exception(\"Invalid index\")    #print(\"Index out of range\")\n",
    "            return\n",
    "        \n",
    "        # Remove element at begining\n",
    "        if index == 0:\n",
    "            self.head = self.head.nextt\n",
    "            return\n",
    "        \n",
    "        # Remove element elsewhere\n",
    "        count = 0\n",
    "        itr = self.head\n",
    "        while itr:\n",
    "            if count == index-1:\n",
    "                itr.nextt = itr.nextt.nextt\n",
    "                break\n",
    "            count += 1\n",
    "            itr = itr.nextt\n",
    "            \n",
    "            \n",
    "    # Insert element at specific index\n",
    "    def insert_at(self, index, data):\n",
    "        if index < 0 or index > self.get_length():\n",
    "            raise Exception(\"Invalid index\")\n",
    "            return\n",
    "        \n",
    "        # Insert at begining\n",
    "        if index == 0:\n",
    "            self.insert_at_begining(data)\n",
    "            return\n",
    "        \n",
    "        # Other cases\n",
    "        count = 0\n",
    "        itr = self.head\n",
    "        while itr:\n",
    "            if count == index-1:\n",
    "                node = Node(data, itr.nextt)\n",
    "                itr.nextt = node\n",
    "                break\n",
    "                \n",
    "            count += 1\n",
    "            itr = itr.nextt\n",
    "            \n",
    "            \n",
    "    \n",
    "    \n",
    "    def insert_after_value(self, data_after, data_to_insert):\n",
    "        \n",
    "        # Search for first occurance of data_after value in linked list\n",
    "        # Now insert data_to_insert after data_after node\n",
    "        \n",
    "        itr = self.head\n",
    "        while itr:\n",
    "            if itr.data == data_after:\n",
    "                node = Node(data_to_insert, itr.nextt)\n",
    "                itr.nextt = node\n",
    "                break\n",
    "            itr = itr.nextt\n",
    "\n",
    "        \n",
    "        \n",
    "    def remove_by_value(self, data):\n",
    "        \n",
    "        # Remove first node that contains data\n",
    "        index = 0\n",
    "        itr = self.head\n",
    "        \n",
    "        while itr:\n",
    "            if itr.data == data:\n",
    "                break\n",
    "            itr = itr.nextt\n",
    "            index += 1\n",
    "            \n",
    "        if index >= self.get_length():\n",
    "            raise Exception(\"Value not present\")\n",
    "            return\n",
    "        self.remove_at(index)"
   ]
  },
  {
   "cell_type": "code",
   "execution_count": 14,
   "id": "68fb9dc5",
   "metadata": {},
   "outputs": [
    {
     "name": "stdout",
     "output_type": "stream",
     "text": [
      "Apple --> Orange --> Grapes --> Banana --> \n",
      "Apple --> Guava --> Orange --> Grapes --> Banana --> \n",
      "Apple --> Guava --> Orange --> Banana --> \n"
     ]
    }
   ],
   "source": [
    "if __name__ == '__main__':\n",
    "    ll = LinkedList()\n",
    "\n",
    "    \n",
    "    ll.insert_values([\"Apple\", \"Orange\", \"Grapes\", \"Banana\"])\n",
    "    ll.print_list()\n",
    "    \n",
    "    ll.insert_after_value(\"Apple\", \"Guava\")\n",
    "    ll.print_list()\n",
    "    \n",
    "    \n",
    "    ll.remove_by_value(\"Grapes\")\n",
    "    ll.print_list()"
   ]
  },
  {
   "cell_type": "code",
   "execution_count": 19,
   "id": "edb09b8f",
   "metadata": {
    "scrolled": true
   },
   "outputs": [
    {
     "name": "stdout",
     "output_type": "stream",
     "text": [
      "banana --> mango --> grapes --> orange --> \n",
      "banana --> mango --> apple --> grapes --> orange --> \n",
      "banana --> mango --> apple --> grapes --> \n",
      "Linked list is empty !!\n"
     ]
    }
   ],
   "source": [
    "    ll = LinkedList()\n",
    "    ll.insert_values([\"banana\",\"mango\",\"grapes\",\"orange\"])\n",
    "    ll.print_list()\n",
    "    ll.insert_after_value(\"mango\",\"apple\") # insert apple after mango\n",
    "    ll.print_list()\n",
    "    ll.remove_by_value(\"orange\") # remove orange from linked list\n",
    "    ll.print_list()\n",
    "#     ll.remove_by_value(\"figs\")\n",
    "#     ll.print_list()\n",
    "    ll.remove_by_value(\"banana\")\n",
    "    ll.remove_by_value(\"mango\")\n",
    "    ll.remove_by_value(\"apple\")\n",
    "    ll.remove_by_value(\"grapes\")\n",
    "    ll.print_list()"
   ]
  },
  {
   "cell_type": "code",
   "execution_count": null,
   "id": "5cb4704d",
   "metadata": {},
   "outputs": [],
   "source": []
  },
  {
   "cell_type": "markdown",
   "id": "08c5ab1d",
   "metadata": {},
   "source": [
    "Q2"
   ]
  },
  {
   "cell_type": "code",
   "execution_count": null,
   "id": "c9c88b40",
   "metadata": {},
   "outputs": [],
   "source": []
  },
  {
   "cell_type": "markdown",
   "id": "357a1d11",
   "metadata": {},
   "source": [
    "# Lucid Programming"
   ]
  },
  {
   "cell_type": "markdown",
   "id": "0c920f65",
   "metadata": {},
   "source": [
    "#### REVERSE LIST"
   ]
  },
  {
   "cell_type": "code",
   "execution_count": null,
   "id": "8fc9be06",
   "metadata": {},
   "outputs": [],
   "source": []
  },
  {
   "cell_type": "markdown",
   "id": "00840e56",
   "metadata": {},
   "source": [
    "#### MERGE TWO SORTED LISTS"
   ]
  },
  {
   "cell_type": "code",
   "execution_count": null,
   "id": "b47ac686",
   "metadata": {},
   "outputs": [],
   "source": []
  },
  {
   "cell_type": "code",
   "execution_count": null,
   "id": "f197d0f7",
   "metadata": {},
   "outputs": [],
   "source": []
  },
  {
   "cell_type": "code",
   "execution_count": null,
   "id": "292ca317",
   "metadata": {},
   "outputs": [],
   "source": []
  },
  {
   "cell_type": "markdown",
   "id": "866b7a92",
   "metadata": {},
   "source": [
    "# Tech With Tim"
   ]
  },
  {
   "cell_type": "markdown",
   "id": "b616ecb7",
   "metadata": {},
   "source": [
    "#### SLL"
   ]
  },
  {
   "cell_type": "code",
   "execution_count": null,
   "id": "17fc3500",
   "metadata": {},
   "outputs": [],
   "source": []
  },
  {
   "cell_type": "markdown",
   "id": "6219041e",
   "metadata": {},
   "source": [
    "#### CLL"
   ]
  },
  {
   "cell_type": "code",
   "execution_count": null,
   "id": "03b436e1",
   "metadata": {},
   "outputs": [],
   "source": []
  },
  {
   "cell_type": "markdown",
   "id": "ba422c8c",
   "metadata": {},
   "source": [
    "#### DLL"
   ]
  },
  {
   "cell_type": "code",
   "execution_count": null,
   "id": "ae71d058",
   "metadata": {},
   "outputs": [],
   "source": []
  }
 ],
 "metadata": {
  "kernelspec": {
   "display_name": "Python 3 (ipykernel)",
   "language": "python",
   "name": "python3"
  },
  "language_info": {
   "codemirror_mode": {
    "name": "ipython",
    "version": 3
   },
   "file_extension": ".py",
   "mimetype": "text/x-python",
   "name": "python",
   "nbconvert_exporter": "python",
   "pygments_lexer": "ipython3",
   "version": "3.9.13"
  }
 },
 "nbformat": 4,
 "nbformat_minor": 5
}
